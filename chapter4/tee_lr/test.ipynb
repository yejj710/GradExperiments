{
 "cells": [
  {
   "cell_type": "code",
   "execution_count": 12,
   "metadata": {},
   "outputs": [
    {
     "name": "stdout",
     "output_type": "stream",
     "text": [
      "[[ 1  2  3  4]\n",
      " [ 5  6  7  8]\n",
      " [ 9 10 11 12]\n",
      " [13 14 15 16]\n",
      " [17 18 19 20]\n",
      " [21 22 23 24]\n",
      " [25 26 27 28]\n",
      " [29 30 31 32]\n",
      " [33 34 35 36]\n",
      " [37 38 39 40]\n",
      " [41 42 43 44]\n",
      " [45 46 47 48]\n",
      " [49 50 51 52]]\n",
      "--------------------------------------------------\n"
     ]
    }
   ],
   "source": [
    "sample_size = 13\n",
    "batch_size = 13\n",
    "import math\n",
    "import numpy as np\n",
    "\n",
    "data = np.array([\n",
    "    [1, 2, 3, 4],\n",
    "    [5, 6, 7, 8],\n",
    "    [9, 10, 11, 12],\n",
    "    [13, 14, 15, 16],\n",
    "    [17, 18, 19, 20],\n",
    "    [21, 22, 23, 24],\n",
    "    [25, 26, 27, 28],\n",
    "    [29, 30, 31, 32],\n",
    "    [33, 34, 35, 36],\n",
    "    [37, 38, 39, 40],\n",
    "    [41, 42, 43, 44],\n",
    "    [45, 46, 47, 48],\n",
    "    [49, 50, 51, 52]\n",
    "])\n",
    "\n",
    "for idx in range(math.ceil(sample_size / batch_size)):\n",
    "    batch_data = data[idx*batch_size:(idx+1)*batch_size,:]\n",
    "    print(batch_data)\n",
    "    print(\"-\"*50)"
   ]
  }
 ],
 "metadata": {
  "kernelspec": {
   "display_name": "sf",
   "language": "python",
   "name": "python3"
  },
  "language_info": {
   "codemirror_mode": {
    "name": "ipython",
    "version": 3
   },
   "file_extension": ".py",
   "mimetype": "text/x-python",
   "name": "python",
   "nbconvert_exporter": "python",
   "pygments_lexer": "ipython3",
   "version": "3.8.18"
  }
 },
 "nbformat": 4,
 "nbformat_minor": 2
}
