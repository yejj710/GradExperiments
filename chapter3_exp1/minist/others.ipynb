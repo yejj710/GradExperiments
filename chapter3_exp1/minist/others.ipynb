{
 "cells": [
  {
   "cell_type": "code",
   "execution_count": 1,
   "metadata": {},
   "outputs": [
    {
     "name": "stderr",
     "output_type": "stream",
     "text": [
      "2024-02-21 22:23:28,170\tINFO worker.py:1538 -- Started a local Ray instance.\n"
     ]
    }
   ],
   "source": [
    "import secretflow as sf\n",
    "\n",
    "import sys\n",
    "sys.path.append(\"/home/yejj/experiments/chapter3_exp1\")\n",
    "\n",
    "sf.shutdown()\n",
    "#init 10 nodes and 1 server\n",
    "nodes = [f\"party{i}\" for i in range(10)]\n",
    "nodes.append('server')\n",
    "\n",
    "# init nodes\n",
    "sf.init(nodes, address=\"local\")\n",
    "# init PYU device\n",
    "devices = {}\n",
    "for i in range(10):\n",
    "    devices[i] = sf.PYU(f\"party{i}\")\n",
    "# alice, bob, agg_server = sf.PYU(\"alice\"), sf.PYU(\"bob\"), sf.PYU(\"server\")\n",
    "agg_server = sf.PYU(\"server\")"
   ]
  },
  {
   "cell_type": "code",
   "execution_count": 2,
   "metadata": {},
   "outputs": [
    {
     "name": "stderr",
     "output_type": "stream",
     "text": [
      "/home/yejj/miniconda3/envs/sf/lib/python3.8/site-packages/sklearn/preprocessing/_encoders.py:975: FutureWarning: `sparse` was renamed to `sparse_output` in version 1.2 and will be removed in 1.4. `sparse_output` is ignored unless you leave `sparse` to its default value.\n",
      "  warnings.warn(\n",
      "/home/yejj/miniconda3/envs/sf/lib/python3.8/site-packages/sklearn/preprocessing/_encoders.py:975: FutureWarning: `sparse` was renamed to `sparse_output` in version 1.2 and will be removed in 1.4. `sparse_output` is ignored unless you leave `sparse` to its default value.\n",
      "  warnings.warn(\n"
     ]
    },
    {
     "data": {
      "text/plain": [
       "{PYURuntime(party0): (6000, 28, 28),\n",
       " PYURuntime(party1): (6000, 28, 28),\n",
       " PYURuntime(party2): (6000, 28, 28),\n",
       " PYURuntime(party3): (6000, 28, 28),\n",
       " PYURuntime(party4): (6000, 28, 28),\n",
       " PYURuntime(party5): (6000, 28, 28),\n",
       " PYURuntime(party6): (6000, 28, 28),\n",
       " PYURuntime(party7): (6000, 28, 28),\n",
       " PYURuntime(party8): (6000, 28, 28),\n",
       " PYURuntime(party9): (6000, 28, 28)}"
      ]
     },
     "execution_count": 2,
     "metadata": {},
     "output_type": "execute_result"
    }
   ],
   "source": [
    "from secretflow.utils.simulation.datasets import load_mnist\n",
    "\n",
    "(x_train, y_train), (x_test, y_test) = load_mnist(parts=[devices[i] for i in range(10)], normalized_x=True, categorical_y=True)\n",
    "x_train.partition_shape()"
   ]
  },
  {
   "cell_type": "code",
   "execution_count": 3,
   "metadata": {},
   "outputs": [
    {
     "name": "stderr",
     "output_type": "stream",
     "text": [
      "2024-02-21 22:23:34.812467: W tensorflow/compiler/xla/stream_executor/platform/default/dso_loader.cc:64] Could not load dynamic library 'libcudart.so.11.0'; dlerror: libcudart.so.11.0: cannot open shared object file: No such file or directory\n",
      "2024-02-21 22:23:35.866900: W tensorflow/compiler/xla/stream_executor/platform/default/dso_loader.cc:64] Could not load dynamic library 'libnvinfer.so.7'; dlerror: libnvinfer.so.7: cannot open shared object file: No such file or directory\n",
      "2024-02-21 22:23:35.867021: W tensorflow/compiler/xla/stream_executor/platform/default/dso_loader.cc:64] Could not load dynamic library 'libnvinfer_plugin.so.7'; dlerror: libnvinfer_plugin.so.7: cannot open shared object file: No such file or directory\n",
      "2024-02-21 22:23:35.867032: W tensorflow/compiler/tf2tensorrt/utils/py_utils.cc:38] TF-TRT Warning: Cannot dlopen some TensorRT libraries. If you would like to use Nvidia GPU with TensorRT, please make sure the missing libraries mentioned above are installed properly.\n",
      "2024-02-21 22:23:38.810916: W tensorflow/compiler/xla/stream_executor/platform/default/dso_loader.cc:64] Could not load dynamic library 'libcuda.so.1'; dlerror: libcuda.so.1: cannot open shared object file: No such file or directory\n",
      "2024-02-21 22:23:38.810956: W tensorflow/compiler/xla/stream_executor/cuda/cuda_driver.cc:265] failed call to cuInit: UNKNOWN ERROR (303)\n",
      "INFO:root:Create proxy actor <class 'secretflow.ml.nn.fl.backend.tensorflow.strategy.fed_avg_w.PYUFedAvgW'> with party party0.\n",
      "INFO:root:Create proxy actor <class 'secretflow.ml.nn.fl.backend.tensorflow.strategy.fed_avg_w.PYUFedAvgW'> with party party1.\n",
      "INFO:root:Create proxy actor <class 'secretflow.ml.nn.fl.backend.tensorflow.strategy.fed_avg_w.PYUFedAvgW'> with party party2.\n",
      "INFO:root:Create proxy actor <class 'secretflow.ml.nn.fl.backend.tensorflow.strategy.fed_avg_w.PYUFedAvgW'> with party party3.\n",
      "INFO:root:Create proxy actor <class 'secretflow.ml.nn.fl.backend.tensorflow.strategy.fed_avg_w.PYUFedAvgW'> with party party4.\n",
      "INFO:root:Create proxy actor <class 'secretflow.ml.nn.fl.backend.tensorflow.strategy.fed_avg_w.PYUFedAvgW'> with party party5.\n",
      "INFO:root:Create proxy actor <class 'secretflow.ml.nn.fl.backend.tensorflow.strategy.fed_avg_w.PYUFedAvgW'> with party party6.\n",
      "INFO:root:Create proxy actor <class 'secretflow.ml.nn.fl.backend.tensorflow.strategy.fed_avg_w.PYUFedAvgW'> with party party7.\n",
      "INFO:root:Create proxy actor <class 'secretflow.ml.nn.fl.backend.tensorflow.strategy.fed_avg_w.PYUFedAvgW'> with party party8.\n",
      "INFO:root:Create proxy actor <class 'secretflow.ml.nn.fl.backend.tensorflow.strategy.fed_avg_w.PYUFedAvgW'> with party party9.\n",
      "INFO:root:FL Train Params: {'x': FedNdarray(partitions={PYURuntime(party0): <secretflow.device.device.pyu.PYUObject object at 0x7f32887a0760>, PYURuntime(party1): <secretflow.device.device.pyu.PYUObject object at 0x7f32887a01f0>, PYURuntime(party2): <secretflow.device.device.pyu.PYUObject object at 0x7f3288768a90>, PYURuntime(party3): <secretflow.device.device.pyu.PYUObject object at 0x7f3288768d90>, PYURuntime(party4): <secretflow.device.device.pyu.PYUObject object at 0x7f32886e7250>, PYURuntime(party5): <secretflow.device.device.pyu.PYUObject object at 0x7f32886e70a0>, PYURuntime(party6): <secretflow.device.device.pyu.PYUObject object at 0x7f32886e7220>, PYURuntime(party7): <secretflow.device.device.pyu.PYUObject object at 0x7f32886e71f0>, PYURuntime(party8): <secretflow.device.device.pyu.PYUObject object at 0x7f32886e73a0>, PYURuntime(party9): <secretflow.device.device.pyu.PYUObject object at 0x7f311cf48250>}, partition_way=<PartitionWay.HORIZONTAL: 'horizontal'>), 'y': FedNdarray(partitions={PYURuntime(party0): <secretflow.device.device.pyu.PYUObject object at 0x7f32886e7040>, PYURuntime(party1): <secretflow.device.device.pyu.PYUObject object at 0x7f32886e7e20>, PYURuntime(party2): <secretflow.device.device.pyu.PYUObject object at 0x7f32886e7df0>, PYURuntime(party3): <secretflow.device.device.pyu.PYUObject object at 0x7f32886f4250>, PYURuntime(party4): <secretflow.device.device.pyu.PYUObject object at 0x7f32886f4160>, PYURuntime(party5): <secretflow.device.device.pyu.PYUObject object at 0x7f32886f4220>, PYURuntime(party6): <secretflow.device.device.pyu.PYUObject object at 0x7f32886f41f0>, PYURuntime(party7): <secretflow.device.device.pyu.PYUObject object at 0x7f32886e7c70>, PYURuntime(party8): <secretflow.device.device.pyu.PYUObject object at 0x7f32886e7a00>, PYURuntime(party9): <secretflow.device.device.pyu.PYUObject object at 0x7f32886e7a30>}, partition_way=<PartitionWay.HORIZONTAL: 'horizontal'>), 'batch_size': 128, 'batch_sampling_rate': None, 'epochs': 4, 'verbose': 1, 'callbacks': None, 'validation_data': (FedNdarray(partitions={PYURuntime(party0): <secretflow.device.device.pyu.PYUObject object at 0x7f32886e7790>, PYURuntime(party1): <secretflow.device.device.pyu.PYUObject object at 0x7f32886e7460>, PYURuntime(party2): <secretflow.device.device.pyu.PYUObject object at 0x7f32887a0280>, PYURuntime(party3): <secretflow.device.device.pyu.PYUObject object at 0x7f32886e7430>, PYURuntime(party4): <secretflow.device.device.pyu.PYUObject object at 0x7f3288768df0>, PYURuntime(party5): <secretflow.device.device.pyu.PYUObject object at 0x7f32886f48b0>, PYURuntime(party6): <secretflow.device.device.pyu.PYUObject object at 0x7f32886f4850>, PYURuntime(party7): <secretflow.device.device.pyu.PYUObject object at 0x7f32886f4550>, PYURuntime(party8): <secretflow.device.device.pyu.PYUObject object at 0x7f32886f4730>, PYURuntime(party9): <secretflow.device.device.pyu.PYUObject object at 0x7f32886f46a0>}, partition_way=<PartitionWay.HORIZONTAL: 'horizontal'>), FedNdarray(partitions={PYURuntime(party0): <secretflow.device.device.pyu.PYUObject object at 0x7f32886f4bb0>, PYURuntime(party1): <secretflow.device.device.pyu.PYUObject object at 0x7f32886f4310>, PYURuntime(party2): <secretflow.device.device.pyu.PYUObject object at 0x7f32886fc0a0>, PYURuntime(party3): <secretflow.device.device.pyu.PYUObject object at 0x7f32886fc130>, PYURuntime(party4): <secretflow.device.device.pyu.PYUObject object at 0x7f32886fc100>, PYURuntime(party5): <secretflow.device.device.pyu.PYUObject object at 0x7f32886fc220>, PYURuntime(party6): <secretflow.device.device.pyu.PYUObject object at 0x7f32886fc3d0>, PYURuntime(party7): <secretflow.device.device.pyu.PYUObject object at 0x7f32886fc580>, PYURuntime(party8): <secretflow.device.device.pyu.PYUObject object at 0x7f32886fc730>, PYURuntime(party9): <secretflow.device.device.pyu.PYUObject object at 0x7f32886fc8e0>}, partition_way=<PartitionWay.HORIZONTAL: 'horizontal'>)), 'shuffle': False, 'class_weight': None, 'sample_weight': None, 'validation_freq': 1, 'aggregate_freq': 1, 'label_decoder': None, 'max_batch_size': 20000, 'prefetch_buffer_size': None, 'sampler_method': 'batch', 'random_seed': 66692, 'dp_spent_step_freq': None, 'audit_log_dir': None, 'dataset_builder': None, 'wait_steps': 100, 'self': <secretflow.ml.nn.fl.fl_model.FLModel object at 0x7f31a5b7fc40>}\n",
      "Train Processing: :   0%|          | 0/47 [00:00<?, ?it/s]"
     ]
    },
    {
     "name": "stderr",
     "output_type": "stream",
     "text": [
      "\u001b[2m\u001b[36m(pid=49906)\u001b[0m 2024-02-21 22:23:41.444464: W tensorflow/compiler/xla/stream_executor/platform/default/dso_loader.cc:64] Could not load dynamic library 'libcudart.so.11.0'; dlerror: libcudart.so.11.0: cannot open shared object file: No such file or directory\n",
      "\u001b[2m\u001b[36m(pid=49915)\u001b[0m 2024-02-21 22:23:41.496942: W tensorflow/compiler/xla/stream_executor/platform/default/dso_loader.cc:64] Could not load dynamic library 'libcudart.so.11.0'; dlerror: libcudart.so.11.0: cannot open shared object file: No such file or directory\n",
      "\u001b[2m\u001b[36m(pid=50133)\u001b[0m 2024-02-21 22:23:41.881882: W tensorflow/compiler/xla/stream_executor/platform/default/dso_loader.cc:64] Could not load dynamic library 'libcudart.so.11.0'; dlerror: libcudart.so.11.0: cannot open shared object file: No such file or directory\n",
      "\u001b[2m\u001b[36m(pid=50343)\u001b[0m 2024-02-21 22:23:42.184894: W tensorflow/compiler/xla/stream_executor/platform/default/dso_loader.cc:64] Could not load dynamic library 'libcudart.so.11.0'; dlerror: libcudart.so.11.0: cannot open shared object file: No such file or directory\n",
      "\u001b[2m\u001b[36m(pid=50556)\u001b[0m 2024-02-21 22:23:42.570634: W tensorflow/compiler/xla/stream_executor/platform/default/dso_loader.cc:64] Could not load dynamic library 'libcudart.so.11.0'; dlerror: libcudart.so.11.0: cannot open shared object file: No such file or directory\n",
      "\u001b[2m\u001b[36m(pid=49906)\u001b[0m 2024-02-21 22:23:42.671770: W tensorflow/compiler/xla/stream_executor/platform/default/dso_loader.cc:64] Could not load dynamic library 'libnvinfer.so.7'; dlerror: libnvinfer.so.7: cannot open shared object file: No such file or directory\n",
      "\u001b[2m\u001b[36m(pid=49906)\u001b[0m 2024-02-21 22:23:42.671926: W tensorflow/compiler/xla/stream_executor/platform/default/dso_loader.cc:64] Could not load dynamic library 'libnvinfer_plugin.so.7'; dlerror: libnvinfer_plugin.so.7: cannot open shared object file: No such file or directory\n",
      "\u001b[2m\u001b[36m(pid=49906)\u001b[0m 2024-02-21 22:23:42.671940: W tensorflow/compiler/tf2tensorrt/utils/py_utils.cc:38] TF-TRT Warning: Cannot dlopen some TensorRT libraries. If you would like to use Nvidia GPU with TensorRT, please make sure the missing libraries mentioned above are installed properly.\n",
      "\u001b[2m\u001b[36m(pid=49915)\u001b[0m 2024-02-21 22:23:42.813921: W tensorflow/compiler/xla/stream_executor/platform/default/dso_loader.cc:64] Could not load dynamic library 'libnvinfer.so.7'; dlerror: libnvinfer.so.7: cannot open shared object file: No such file or directory\n",
      "\u001b[2m\u001b[36m(pid=49915)\u001b[0m 2024-02-21 22:23:42.814043: W tensorflow/compiler/xla/stream_executor/platform/default/dso_loader.cc:64] Could not load dynamic library 'libnvinfer_plugin.so.7'; dlerror: libnvinfer_plugin.so.7: cannot open shared object file: No such file or directory\n",
      "\u001b[2m\u001b[36m(pid=49915)\u001b[0m 2024-02-21 22:23:42.814053: W tensorflow/compiler/tf2tensorrt/utils/py_utils.cc:38] TF-TRT Warning: Cannot dlopen some TensorRT libraries. If you would like to use Nvidia GPU with TensorRT, please make sure the missing libraries mentioned above are installed properly.\n",
      "\u001b[2m\u001b[36m(pid=50850)\u001b[0m 2024-02-21 22:23:42.820156: W tensorflow/compiler/xla/stream_executor/platform/default/dso_loader.cc:64] Could not load dynamic library 'libcudart.so.11.0'; dlerror: libcudart.so.11.0: cannot open shared object file: No such file or directory\n",
      "\u001b[2m\u001b[36m(pid=50133)\u001b[0m 2024-02-21 22:23:43.161129: W tensorflow/compiler/xla/stream_executor/platform/default/dso_loader.cc:64] Could not load dynamic library 'libnvinfer.so.7'; dlerror: libnvinfer.so.7: cannot open shared object file: No such file or directory\n",
      "\u001b[2m\u001b[36m(pid=50133)\u001b[0m 2024-02-21 22:23:43.161247: W tensorflow/compiler/xla/stream_executor/platform/default/dso_loader.cc:64] Could not load dynamic library 'libnvinfer_plugin.so.7'; dlerror: libnvinfer_plugin.so.7: cannot open shared object file: No such file or directory\n",
      "\u001b[2m\u001b[36m(pid=50133)\u001b[0m 2024-02-21 22:23:43.161256: W tensorflow/compiler/tf2tensorrt/utils/py_utils.cc:38] TF-TRT Warning: Cannot dlopen some TensorRT libraries. If you would like to use Nvidia GPU with TensorRT, please make sure the missing libraries mentioned above are installed properly.\n",
      "\u001b[2m\u001b[36m(pid=50343)\u001b[0m 2024-02-21 22:23:43.381147: W tensorflow/compiler/xla/stream_executor/platform/default/dso_loader.cc:64] Could not load dynamic library 'libnvinfer.so.7'; dlerror: libnvinfer.so.7: cannot open shared object file: No such file or directory\n",
      "\u001b[2m\u001b[36m(pid=50343)\u001b[0m 2024-02-21 22:23:43.381266: W tensorflow/compiler/xla/stream_executor/platform/default/dso_loader.cc:64] Could not load dynamic library 'libnvinfer_plugin.so.7'; dlerror: libnvinfer_plugin.so.7: cannot open shared object file: No such file or directory\n",
      "\u001b[2m\u001b[36m(pid=50343)\u001b[0m 2024-02-21 22:23:43.381275: W tensorflow/compiler/tf2tensorrt/utils/py_utils.cc:38] TF-TRT Warning: Cannot dlopen some TensorRT libraries. If you would like to use Nvidia GPU with TensorRT, please make sure the missing libraries mentioned above are installed properly.\n",
      "\u001b[2m\u001b[36m(pid=51458)\u001b[0m 2024-02-21 22:23:43.354227: W tensorflow/compiler/xla/stream_executor/platform/default/dso_loader.cc:64] Could not load dynamic library 'libcudart.so.11.0'; dlerror: libcudart.so.11.0: cannot open shared object file: No such file or directory\n",
      "\u001b[2m\u001b[36m(pid=50556)\u001b[0m 2024-02-21 22:23:43.702396: W tensorflow/compiler/xla/stream_executor/platform/default/dso_loader.cc:64] Could not load dynamic library 'libnvinfer.so.7'; dlerror: libnvinfer.so.7: cannot open shared object file: No such file or directory\n",
      "\u001b[2m\u001b[36m(pid=50556)\u001b[0m 2024-02-21 22:23:43.702505: W tensorflow/compiler/xla/stream_executor/platform/default/dso_loader.cc:64] Could not load dynamic library 'libnvinfer_plugin.so.7'; dlerror: libnvinfer_plugin.so.7: cannot open shared object file: No such file or directory\n",
      "\u001b[2m\u001b[36m(pid=50556)\u001b[0m 2024-02-21 22:23:43.702514: W tensorflow/compiler/tf2tensorrt/utils/py_utils.cc:38] TF-TRT Warning: Cannot dlopen some TensorRT libraries. If you would like to use Nvidia GPU with TensorRT, please make sure the missing libraries mentioned above are installed properly.\n",
      "\u001b[2m\u001b[36m(pid=50850)\u001b[0m 2024-02-21 22:23:43.799677: W tensorflow/compiler/xla/stream_executor/platform/default/dso_loader.cc:64] Could not load dynamic library 'libnvinfer.so.7'; dlerror: libnvinfer.so.7: cannot open shared object file: No such file or directory\n",
      "\u001b[2m\u001b[36m(pid=50850)\u001b[0m 2024-02-21 22:23:43.799796: W tensorflow/compiler/xla/stream_executor/platform/default/dso_loader.cc:64] Could not load dynamic library 'libnvinfer_plugin.so.7'; dlerror: libnvinfer_plugin.so.7: cannot open shared object file: No such file or directory\n",
      "\u001b[2m\u001b[36m(pid=50850)\u001b[0m 2024-02-21 22:23:43.799806: W tensorflow/compiler/tf2tensorrt/utils/py_utils.cc:38] TF-TRT Warning: Cannot dlopen some TensorRT libraries. If you would like to use Nvidia GPU with TensorRT, please make sure the missing libraries mentioned above are installed properly.\n",
      "\u001b[2m\u001b[36m(pid=51798)\u001b[0m 2024-02-21 22:23:43.759320: W tensorflow/compiler/xla/stream_executor/platform/default/dso_loader.cc:64] Could not load dynamic library 'libcudart.so.11.0'; dlerror: libcudart.so.11.0: cannot open shared object file: No such file or directory\n",
      "\u001b[2m\u001b[36m(pid=52054)\u001b[0m 2024-02-21 22:23:44.134572: W tensorflow/compiler/xla/stream_executor/platform/default/dso_loader.cc:64] Could not load dynamic library 'libcudart.so.11.0'; dlerror: libcudart.so.11.0: cannot open shared object file: No such file or directory\n",
      "\u001b[2m\u001b[36m(pid=51458)\u001b[0m 2024-02-21 22:23:44.535027: W tensorflow/compiler/xla/stream_executor/platform/default/dso_loader.cc:64] Could not load dynamic library 'libnvinfer.so.7'; dlerror: libnvinfer.so.7: cannot open shared object file: No such file or directory\n",
      "\u001b[2m\u001b[36m(pid=51458)\u001b[0m 2024-02-21 22:23:44.535148: W tensorflow/compiler/xla/stream_executor/platform/default/dso_loader.cc:64] Could not load dynamic library 'libnvinfer_plugin.so.7'; dlerror: libnvinfer_plugin.so.7: cannot open shared object file: No such file or directory\n",
      "\u001b[2m\u001b[36m(pid=51458)\u001b[0m 2024-02-21 22:23:44.535162: W tensorflow/compiler/tf2tensorrt/utils/py_utils.cc:38] TF-TRT Warning: Cannot dlopen some TensorRT libraries. If you would like to use Nvidia GPU with TensorRT, please make sure the missing libraries mentioned above are installed properly.\n",
      "\u001b[2m\u001b[36m(pid=52296)\u001b[0m 2024-02-21 22:23:44.688695: W tensorflow/compiler/xla/stream_executor/platform/default/dso_loader.cc:64] Could not load dynamic library 'libcudart.so.11.0'; dlerror: libcudart.so.11.0: cannot open shared object file: No such file or directory\n",
      "\u001b[2m\u001b[36m(pid=51798)\u001b[0m 2024-02-21 22:23:45.021174: W tensorflow/compiler/xla/stream_executor/platform/default/dso_loader.cc:64] Could not load dynamic library 'libnvinfer.so.7'; dlerror: libnvinfer.so.7: cannot open shared object file: No such file or directory\n",
      "\u001b[2m\u001b[36m(pid=51798)\u001b[0m 2024-02-21 22:23:45.021289: W tensorflow/compiler/xla/stream_executor/platform/default/dso_loader.cc:64] Could not load dynamic library 'libnvinfer_plugin.so.7'; dlerror: libnvinfer_plugin.so.7: cannot open shared object file: No such file or directory\n",
      "\u001b[2m\u001b[36m(pid=51798)\u001b[0m 2024-02-21 22:23:45.021298: W tensorflow/compiler/tf2tensorrt/utils/py_utils.cc:38] TF-TRT Warning: Cannot dlopen some TensorRT libraries. If you would like to use Nvidia GPU with TensorRT, please make sure the missing libraries mentioned above are installed properly.\n",
      "\u001b[2m\u001b[36m(pid=52054)\u001b[0m 2024-02-21 22:23:45.261215: W tensorflow/compiler/xla/stream_executor/platform/default/dso_loader.cc:64] Could not load dynamic library 'libnvinfer.so.7'; dlerror: libnvinfer.so.7: cannot open shared object file: No such file or directory\n",
      "\u001b[2m\u001b[36m(pid=52054)\u001b[0m 2024-02-21 22:23:45.261407: W tensorflow/compiler/xla/stream_executor/platform/default/dso_loader.cc:64] Could not load dynamic library 'libnvinfer_plugin.so.7'; dlerror: libnvinfer_plugin.so.7: cannot open shared object file: No such file or directory\n",
      "\u001b[2m\u001b[36m(pid=52054)\u001b[0m 2024-02-21 22:23:45.261425: W tensorflow/compiler/tf2tensorrt/utils/py_utils.cc:38] TF-TRT Warning: Cannot dlopen some TensorRT libraries. If you would like to use Nvidia GPU with TensorRT, please make sure the missing libraries mentioned above are installed properly.\n",
      "\u001b[2m\u001b[36m(pid=49906)\u001b[0m 2024-02-21 22:23:45.899875: W tensorflow/compiler/xla/stream_executor/platform/default/dso_loader.cc:64] Could not load dynamic library 'libcuda.so.1'; dlerror: libcuda.so.1: cannot open shared object file: No such file or directory\n",
      "\u001b[2m\u001b[36m(pid=49906)\u001b[0m 2024-02-21 22:23:45.899944: W tensorflow/compiler/xla/stream_executor/cuda/cuda_driver.cc:265] failed call to cuInit: UNKNOWN ERROR (303)\n",
      "\u001b[2m\u001b[36m(pid=52296)\u001b[0m 2024-02-21 22:23:45.907460: W tensorflow/compiler/xla/stream_executor/platform/default/dso_loader.cc:64] Could not load dynamic library 'libnvinfer.so.7'; dlerror: libnvinfer.so.7: cannot open shared object file: No such file or directory\n",
      "\u001b[2m\u001b[36m(pid=52296)\u001b[0m 2024-02-21 22:23:45.907571: W tensorflow/compiler/xla/stream_executor/platform/default/dso_loader.cc:64] Could not load dynamic library 'libnvinfer_plugin.so.7'; dlerror: libnvinfer_plugin.so.7: cannot open shared object file: No such file or directory\n",
      "\u001b[2m\u001b[36m(pid=52296)\u001b[0m 2024-02-21 22:23:45.907580: W tensorflow/compiler/tf2tensorrt/utils/py_utils.cc:38] TF-TRT Warning: Cannot dlopen some TensorRT libraries. If you would like to use Nvidia GPU with TensorRT, please make sure the missing libraries mentioned above are installed properly.\n",
      "\u001b[2m\u001b[36m(pid=49915)\u001b[0m 2024-02-21 22:23:46.070791: W tensorflow/compiler/xla/stream_executor/platform/default/dso_loader.cc:64] Could not load dynamic library 'libcuda.so.1'; dlerror: libcuda.so.1: cannot open shared object file: No such file or directory\n",
      "\u001b[2m\u001b[36m(pid=49915)\u001b[0m 2024-02-21 22:23:46.070861: W tensorflow/compiler/xla/stream_executor/cuda/cuda_driver.cc:265] failed call to cuInit: UNKNOWN ERROR (303)\n",
      "\u001b[2m\u001b[36m(pid=50133)\u001b[0m 2024-02-21 22:23:46.286508: W tensorflow/compiler/xla/stream_executor/platform/default/dso_loader.cc:64] Could not load dynamic library 'libcuda.so.1'; dlerror: libcuda.so.1: cannot open shared object file: No such file or directory\n",
      "\u001b[2m\u001b[36m(pid=50133)\u001b[0m 2024-02-21 22:23:46.286568: W tensorflow/compiler/xla/stream_executor/cuda/cuda_driver.cc:265] failed call to cuInit: UNKNOWN ERROR (303)\n",
      "\u001b[2m\u001b[36m(pid=50343)\u001b[0m 2024-02-21 22:23:46.642285: W tensorflow/compiler/xla/stream_executor/platform/default/dso_loader.cc:64] Could not load dynamic library 'libcuda.so.1'; dlerror: libcuda.so.1: cannot open shared object file: No such file or directory\n",
      "\u001b[2m\u001b[36m(pid=50343)\u001b[0m 2024-02-21 22:23:46.642349: W tensorflow/compiler/xla/stream_executor/cuda/cuda_driver.cc:265] failed call to cuInit: UNKNOWN ERROR (303)\n",
      "\u001b[2m\u001b[36m(pid=50556)\u001b[0m 2024-02-21 22:23:46.902908: W tensorflow/compiler/xla/stream_executor/platform/default/dso_loader.cc:64] Could not load dynamic library 'libcuda.so.1'; dlerror: libcuda.so.1: cannot open shared object file: No such file or directory\n",
      "\u001b[2m\u001b[36m(pid=50556)\u001b[0m 2024-02-21 22:23:46.902982: W tensorflow/compiler/xla/stream_executor/cuda/cuda_driver.cc:265] failed call to cuInit: UNKNOWN ERROR (303)\n",
      "\u001b[2m\u001b[36m(pid=50850)\u001b[0m 2024-02-21 22:23:46.973225: W tensorflow/compiler/xla/stream_executor/platform/default/dso_loader.cc:64] Could not load dynamic library 'libcuda.so.1'; dlerror: libcuda.so.1: cannot open shared object file: No such file or directory\n",
      "\u001b[2m\u001b[36m(pid=50850)\u001b[0m 2024-02-21 22:23:46.973284: W tensorflow/compiler/xla/stream_executor/cuda/cuda_driver.cc:265] failed call to cuInit: UNKNOWN ERROR (303)\n",
      "\u001b[2m\u001b[36m(pid=51458)\u001b[0m 2024-02-21 22:23:47.795449: W tensorflow/compiler/xla/stream_executor/platform/default/dso_loader.cc:64] Could not load dynamic library 'libcuda.so.1'; dlerror: libcuda.so.1: cannot open shared object file: No such file or directory\n",
      "\u001b[2m\u001b[36m(pid=51458)\u001b[0m 2024-02-21 22:23:47.795535: W tensorflow/compiler/xla/stream_executor/cuda/cuda_driver.cc:265] failed call to cuInit: UNKNOWN ERROR (303)\n",
      "\u001b[2m\u001b[36m(pid=51798)\u001b[0m 2024-02-21 22:23:48.669584: W tensorflow/compiler/xla/stream_executor/platform/default/dso_loader.cc:64] Could not load dynamic library 'libcuda.so.1'; dlerror: libcuda.so.1: cannot open shared object file: No such file or directory\n",
      "\u001b[2m\u001b[36m(pid=51798)\u001b[0m 2024-02-21 22:23:48.669655: W tensorflow/compiler/xla/stream_executor/cuda/cuda_driver.cc:265] failed call to cuInit: UNKNOWN ERROR (303)\n",
      "\u001b[2m\u001b[36m(pid=52054)\u001b[0m 2024-02-21 22:23:48.709714: W tensorflow/compiler/xla/stream_executor/platform/default/dso_loader.cc:64] Could not load dynamic library 'libcuda.so.1'; dlerror: libcuda.so.1: cannot open shared object file: No such file or directory\n",
      "\u001b[2m\u001b[36m(pid=52054)\u001b[0m 2024-02-21 22:23:48.709774: W tensorflow/compiler/xla/stream_executor/cuda/cuda_driver.cc:265] failed call to cuInit: UNKNOWN ERROR (303)\n",
      "\u001b[2m\u001b[36m(pid=52296)\u001b[0m 2024-02-21 22:23:49.262190: W tensorflow/compiler/xla/stream_executor/platform/default/dso_loader.cc:64] Could not load dynamic library 'libcuda.so.1'; dlerror: libcuda.so.1: cannot open shared object file: No such file or directory\n",
      "\u001b[2m\u001b[36m(pid=52296)\u001b[0m 2024-02-21 22:23:49.262272: W tensorflow/compiler/xla/stream_executor/cuda/cuda_driver.cc:265] failed call to cuInit: UNKNOWN ERROR (303)\n",
      "\u001b[2m\u001b[36m(pid=1863)\u001b[0m 2024-02-21 22:31:52.488698: W tensorflow/compiler/xla/stream_executor/platform/default/dso_loader.cc:64] Could not load dynamic library 'libcudart.so.11.0'; dlerror: libcudart.so.11.0: cannot open shared object file: No such file or directory\n",
      "\u001b[2m\u001b[36m(pid=2392)\u001b[0m 2024-02-21 22:31:53.475636: W tensorflow/compiler/xla/stream_executor/platform/default/dso_loader.cc:64] Could not load dynamic library 'libcudart.so.11.0'; dlerror: libcudart.so.11.0: cannot open shared object file: No such file or directory\n",
      "\u001b[2m\u001b[36m(pid=1863)\u001b[0m 2024-02-21 22:31:53.646863: W tensorflow/compiler/xla/stream_executor/platform/default/dso_loader.cc:64] Could not load dynamic library 'libnvinfer.so.7'; dlerror: libnvinfer.so.7: cannot open shared object file: No such file or directory\n",
      "\u001b[2m\u001b[36m(pid=1863)\u001b[0m 2024-02-21 22:31:53.646979: W tensorflow/compiler/xla/stream_executor/platform/default/dso_loader.cc:64] Could not load dynamic library 'libnvinfer_plugin.so.7'; dlerror: libnvinfer_plugin.so.7: cannot open shared object file: No such file or directory\n",
      "\u001b[2m\u001b[36m(pid=1863)\u001b[0m 2024-02-21 22:31:53.646988: W tensorflow/compiler/tf2tensorrt/utils/py_utils.cc:38] TF-TRT Warning: Cannot dlopen some TensorRT libraries. If you would like to use Nvidia GPU with TensorRT, please make sure the missing libraries mentioned above are installed properly.\n",
      "\u001b[2m\u001b[36m(pid=2826)\u001b[0m 2024-02-21 22:31:53.892449: W tensorflow/compiler/xla/stream_executor/platform/default/dso_loader.cc:64] Could not load dynamic library 'libcudart.so.11.0'; dlerror: libcudart.so.11.0: cannot open shared object file: No such file or directory\n",
      "\u001b[2m\u001b[36m(pid=2392)\u001b[0m 2024-02-21 22:31:54.578440: W tensorflow/compiler/xla/stream_executor/platform/default/dso_loader.cc:64] Could not load dynamic library 'libnvinfer.so.7'; dlerror: libnvinfer.so.7: cannot open shared object file: No such file or directory\n",
      "\u001b[2m\u001b[36m(pid=2392)\u001b[0m 2024-02-21 22:31:54.578554: W tensorflow/compiler/xla/stream_executor/platform/default/dso_loader.cc:64] Could not load dynamic library 'libnvinfer_plugin.so.7'; dlerror: libnvinfer_plugin.so.7: cannot open shared object file: No such file or directory\n",
      "\u001b[2m\u001b[36m(pid=2392)\u001b[0m 2024-02-21 22:31:54.578563: W tensorflow/compiler/tf2tensorrt/utils/py_utils.cc:38] TF-TRT Warning: Cannot dlopen some TensorRT libraries. If you would like to use Nvidia GPU with TensorRT, please make sure the missing libraries mentioned above are installed properly.\n",
      "\u001b[2m\u001b[36m(pid=3126)\u001b[0m 2024-02-21 22:31:54.816019: W tensorflow/compiler/xla/stream_executor/platform/default/dso_loader.cc:64] Could not load dynamic library 'libcudart.so.11.0'; dlerror: libcudart.so.11.0: cannot open shared object file: No such file or directory\n",
      "\u001b[2m\u001b[36m(pid=2826)\u001b[0m 2024-02-21 22:31:54.916980: W tensorflow/compiler/xla/stream_executor/platform/default/dso_loader.cc:64] Could not load dynamic library 'libnvinfer.so.7'; dlerror: libnvinfer.so.7: cannot open shared object file: No such file or directory\n",
      "\u001b[2m\u001b[36m(pid=2826)\u001b[0m 2024-02-21 22:31:54.917183: W tensorflow/compiler/xla/stream_executor/platform/default/dso_loader.cc:64] Could not load dynamic library 'libnvinfer_plugin.so.7'; dlerror: libnvinfer_plugin.so.7: cannot open shared object file: No such file or directory\n",
      "\u001b[2m\u001b[36m(pid=2826)\u001b[0m 2024-02-21 22:31:54.917203: W tensorflow/compiler/tf2tensorrt/utils/py_utils.cc:38] TF-TRT Warning: Cannot dlopen some TensorRT libraries. If you would like to use Nvidia GPU with TensorRT, please make sure the missing libraries mentioned above are installed properly.\n",
      "\u001b[2m\u001b[36m(pid=3317)\u001b[0m 2024-02-21 22:31:55.583437: W tensorflow/compiler/xla/stream_executor/platform/default/dso_loader.cc:64] Could not load dynamic library 'libcudart.so.11.0'; dlerror: libcudart.so.11.0: cannot open shared object file: No such file or directory\n",
      "\u001b[2m\u001b[36m(pid=3126)\u001b[0m 2024-02-21 22:31:55.997881: W tensorflow/compiler/xla/stream_executor/platform/default/dso_loader.cc:64] Could not load dynamic library 'libnvinfer.so.7'; dlerror: libnvinfer.so.7: cannot open shared object file: No such file or directory\n",
      "\u001b[2m\u001b[36m(pid=3126)\u001b[0m 2024-02-21 22:31:55.997996: W tensorflow/compiler/xla/stream_executor/platform/default/dso_loader.cc:64] Could not load dynamic library 'libnvinfer_plugin.so.7'; dlerror: libnvinfer_plugin.so.7: cannot open shared object file: No such file or directory\n",
      "\u001b[2m\u001b[36m(pid=3126)\u001b[0m 2024-02-21 22:31:55.998006: W tensorflow/compiler/tf2tensorrt/utils/py_utils.cc:38] TF-TRT Warning: Cannot dlopen some TensorRT libraries. If you would like to use Nvidia GPU with TensorRT, please make sure the missing libraries mentioned above are installed properly.\n",
      "\u001b[2m\u001b[36m(pid=3506)\u001b[0m 2024-02-21 22:31:56.303900: W tensorflow/compiler/xla/stream_executor/platform/default/dso_loader.cc:64] Could not load dynamic library 'libcudart.so.11.0'; dlerror: libcudart.so.11.0: cannot open shared object file: No such file or directory\n",
      "\u001b[2m\u001b[36m(pid=1863)\u001b[0m 2024-02-21 22:31:56.709496: W tensorflow/compiler/xla/stream_executor/platform/default/dso_loader.cc:64] Could not load dynamic library 'libcuda.so.1'; dlerror: libcuda.so.1: cannot open shared object file: No such file or directory\n",
      "\u001b[2m\u001b[36m(pid=1863)\u001b[0m 2024-02-21 22:31:56.709571: W tensorflow/compiler/xla/stream_executor/cuda/cuda_driver.cc:265] failed call to cuInit: UNKNOWN ERROR (303)\n",
      "\u001b[2m\u001b[36m(pid=3317)\u001b[0m 2024-02-21 22:31:56.733404: W tensorflow/compiler/xla/stream_executor/platform/default/dso_loader.cc:64] Could not load dynamic library 'libnvinfer.so.7'; dlerror: libnvinfer.so.7: cannot open shared object file: No such file or directory\n",
      "\u001b[2m\u001b[36m(pid=3317)\u001b[0m 2024-02-21 22:31:56.733563: W tensorflow/compiler/xla/stream_executor/platform/default/dso_loader.cc:64] Could not load dynamic library 'libnvinfer_plugin.so.7'; dlerror: libnvinfer_plugin.so.7: cannot open shared object file: No such file or directory\n",
      "\u001b[2m\u001b[36m(pid=3317)\u001b[0m 2024-02-21 22:31:56.733575: W tensorflow/compiler/tf2tensorrt/utils/py_utils.cc:38] TF-TRT Warning: Cannot dlopen some TensorRT libraries. If you would like to use Nvidia GPU with TensorRT, please make sure the missing libraries mentioned above are installed properly.\n",
      "\u001b[2m\u001b[36m(pid=3763)\u001b[0m 2024-02-21 22:31:57.288681: W tensorflow/compiler/xla/stream_executor/platform/default/dso_loader.cc:64] Could not load dynamic library 'libcudart.so.11.0'; dlerror: libcudart.so.11.0: cannot open shared object file: No such file or directory\n",
      "\u001b[2m\u001b[36m(pid=3506)\u001b[0m 2024-02-21 22:31:57.524228: W tensorflow/compiler/xla/stream_executor/platform/default/dso_loader.cc:64] Could not load dynamic library 'libnvinfer.so.7'; dlerror: libnvinfer.so.7: cannot open shared object file: No such file or directory\n",
      "\u001b[2m\u001b[36m(pid=3506)\u001b[0m 2024-02-21 22:31:57.524396: W tensorflow/compiler/xla/stream_executor/platform/default/dso_loader.cc:64] Could not load dynamic library 'libnvinfer_plugin.so.7'; dlerror: libnvinfer_plugin.so.7: cannot open shared object file: No such file or directory\n",
      "\u001b[2m\u001b[36m(pid=3506)\u001b[0m 2024-02-21 22:31:57.524411: W tensorflow/compiler/tf2tensorrt/utils/py_utils.cc:38] TF-TRT Warning: Cannot dlopen some TensorRT libraries. If you would like to use Nvidia GPU with TensorRT, please make sure the missing libraries mentioned above are installed properly.\n",
      "\u001b[2m\u001b[36m(pid=2392)\u001b[0m 2024-02-21 22:31:57.737201: W tensorflow/compiler/xla/stream_executor/platform/default/dso_loader.cc:64] Could not load dynamic library 'libcuda.so.1'; dlerror: libcuda.so.1: cannot open shared object file: No such file or directory\n",
      "\u001b[2m\u001b[36m(pid=2392)\u001b[0m 2024-02-21 22:31:57.737286: W tensorflow/compiler/xla/stream_executor/cuda/cuda_driver.cc:265] failed call to cuInit: UNKNOWN ERROR (303)\n",
      "\u001b[2m\u001b[36m(pid=2826)\u001b[0m 2024-02-21 22:31:58.041749: W tensorflow/compiler/xla/stream_executor/platform/default/dso_loader.cc:64] Could not load dynamic library 'libcuda.so.1'; dlerror: libcuda.so.1: cannot open shared object file: No such file or directory\n",
      "\u001b[2m\u001b[36m(pid=2826)\u001b[0m 2024-02-21 22:31:58.041824: W tensorflow/compiler/xla/stream_executor/cuda/cuda_driver.cc:265] failed call to cuInit: UNKNOWN ERROR (303)\n",
      "\u001b[2m\u001b[36m(pid=3763)\u001b[0m 2024-02-21 22:31:58.505965: W tensorflow/compiler/xla/stream_executor/platform/default/dso_loader.cc:64] Could not load dynamic library 'libnvinfer.so.7'; dlerror: libnvinfer.so.7: cannot open shared object file: No such file or directory\n",
      "\u001b[2m\u001b[36m(pid=3763)\u001b[0m 2024-02-21 22:31:58.506096: W tensorflow/compiler/xla/stream_executor/platform/default/dso_loader.cc:64] Could not load dynamic library 'libnvinfer_plugin.so.7'; dlerror: libnvinfer_plugin.so.7: cannot open shared object file: No such file or directory\n",
      "\u001b[2m\u001b[36m(pid=3763)\u001b[0m 2024-02-21 22:31:58.506106: W tensorflow/compiler/tf2tensorrt/utils/py_utils.cc:38] TF-TRT Warning: Cannot dlopen some TensorRT libraries. If you would like to use Nvidia GPU with TensorRT, please make sure the missing libraries mentioned above are installed properly.\n",
      "\u001b[2m\u001b[36m(pid=4141)\u001b[0m 2024-02-21 22:31:58.655190: W tensorflow/compiler/xla/stream_executor/platform/default/dso_loader.cc:64] Could not load dynamic library 'libcudart.so.11.0'; dlerror: libcudart.so.11.0: cannot open shared object file: No such file or directory\n",
      "\u001b[2m\u001b[36m(pid=3126)\u001b[0m 2024-02-21 22:31:59.213841: W tensorflow/compiler/xla/stream_executor/platform/default/dso_loader.cc:64] Could not load dynamic library 'libcuda.so.1'; dlerror: libcuda.so.1: cannot open shared object file: No such file or directory\n",
      "\u001b[2m\u001b[36m(pid=3126)\u001b[0m 2024-02-21 22:31:59.213892: W tensorflow/compiler/xla/stream_executor/cuda/cuda_driver.cc:265] failed call to cuInit: UNKNOWN ERROR (303)\n",
      "\u001b[2m\u001b[36m(pid=4639)\u001b[0m 2024-02-21 22:31:59.571256: W tensorflow/compiler/xla/stream_executor/platform/default/dso_loader.cc:64] Could not load dynamic library 'libcudart.so.11.0'; dlerror: libcudart.so.11.0: cannot open shared object file: No such file or directory\n",
      "\u001b[2m\u001b[36m(pid=4141)\u001b[0m 2024-02-21 22:31:59.809853: W tensorflow/compiler/xla/stream_executor/platform/default/dso_loader.cc:64] Could not load dynamic library 'libnvinfer.so.7'; dlerror: libnvinfer.so.7: cannot open shared object file: No such file or directory\n",
      "\u001b[2m\u001b[36m(pid=4141)\u001b[0m 2024-02-21 22:31:59.809974: W tensorflow/compiler/xla/stream_executor/platform/default/dso_loader.cc:64] Could not load dynamic library 'libnvinfer_plugin.so.7'; dlerror: libnvinfer_plugin.so.7: cannot open shared object file: No such file or directory\n",
      "\u001b[2m\u001b[36m(pid=4141)\u001b[0m 2024-02-21 22:31:59.809983: W tensorflow/compiler/tf2tensorrt/utils/py_utils.cc:38] TF-TRT Warning: Cannot dlopen some TensorRT libraries. If you would like to use Nvidia GPU with TensorRT, please make sure the missing libraries mentioned above are installed properly.\n",
      "\u001b[2m\u001b[36m(pid=3317)\u001b[0m 2024-02-21 22:32:00.176090: W tensorflow/compiler/xla/stream_executor/platform/default/dso_loader.cc:64] Could not load dynamic library 'libcuda.so.1'; dlerror: libcuda.so.1: cannot open shared object file: No such file or directory\n",
      "\u001b[2m\u001b[36m(pid=3317)\u001b[0m 2024-02-21 22:32:00.296883: W tensorflow/compiler/xla/stream_executor/cuda/cuda_driver.cc:265] failed call to cuInit: UNKNOWN ERROR (303)\n",
      "\u001b[2m\u001b[36m(pid=5584)\u001b[0m 2024-02-21 22:32:00.248131: W tensorflow/compiler/xla/stream_executor/platform/default/dso_loader.cc:64] Could not load dynamic library 'libcudart.so.11.0'; dlerror: libcudart.so.11.0: cannot open shared object file: No such file or directory\n",
      "\u001b[2m\u001b[36m(pid=4639)\u001b[0m 2024-02-21 22:32:00.711021: W tensorflow/compiler/xla/stream_executor/platform/default/dso_loader.cc:64] Could not load dynamic library 'libnvinfer.so.7'; dlerror: libnvinfer.so.7: cannot open shared object file: No such file or directory\n",
      "\u001b[2m\u001b[36m(pid=4639)\u001b[0m 2024-02-21 22:32:00.711156: W tensorflow/compiler/xla/stream_executor/platform/default/dso_loader.cc:64] Could not load dynamic library 'libnvinfer_plugin.so.7'; dlerror: libnvinfer_plugin.so.7: cannot open shared object file: No such file or directory\n",
      "\u001b[2m\u001b[36m(pid=4639)\u001b[0m 2024-02-21 22:32:00.711167: W tensorflow/compiler/tf2tensorrt/utils/py_utils.cc:38] TF-TRT Warning: Cannot dlopen some TensorRT libraries. If you would like to use Nvidia GPU with TensorRT, please make sure the missing libraries mentioned above are installed properly.\n",
      "\u001b[2m\u001b[36m(pid=3506)\u001b[0m 2024-02-21 22:32:00.811829: W tensorflow/compiler/xla/stream_executor/platform/default/dso_loader.cc:64] Could not load dynamic library 'libcuda.so.1'; dlerror: libcuda.so.1: cannot open shared object file: No such file or directory\n",
      "\u001b[2m\u001b[36m(pid=3506)\u001b[0m 2024-02-21 22:32:00.811919: W tensorflow/compiler/xla/stream_executor/cuda/cuda_driver.cc:265] failed call to cuInit: UNKNOWN ERROR (303)\n",
      "\u001b[2m\u001b[36m(pid=5584)\u001b[0m 2024-02-21 22:32:01.290619: W tensorflow/compiler/xla/stream_executor/platform/default/dso_loader.cc:64] Could not load dynamic library 'libnvinfer.so.7'; dlerror: libnvinfer.so.7: cannot open shared object file: No such file or directory\n",
      "\u001b[2m\u001b[36m(pid=5584)\u001b[0m 2024-02-21 22:32:01.290725: W tensorflow/compiler/xla/stream_executor/platform/default/dso_loader.cc:64] Could not load dynamic library 'libnvinfer_plugin.so.7'; dlerror: libnvinfer_plugin.so.7: cannot open shared object file: No such file or directory\n",
      "\u001b[2m\u001b[36m(pid=5584)\u001b[0m 2024-02-21 22:32:01.290734: W tensorflow/compiler/tf2tensorrt/utils/py_utils.cc:38] TF-TRT Warning: Cannot dlopen some TensorRT libraries. If you would like to use Nvidia GPU with TensorRT, please make sure the missing libraries mentioned above are installed properly.\n",
      "\u001b[2m\u001b[36m(pid=3763)\u001b[0m 2024-02-21 22:32:01.856460: W tensorflow/compiler/xla/stream_executor/platform/default/dso_loader.cc:64] Could not load dynamic library 'libcuda.so.1'; dlerror: libcuda.so.1: cannot open shared object file: No such file or directory\n",
      "\u001b[2m\u001b[36m(pid=3763)\u001b[0m 2024-02-21 22:32:01.856543: W tensorflow/compiler/xla/stream_executor/cuda/cuda_driver.cc:265] failed call to cuInit: UNKNOWN ERROR (303)\n",
      "\u001b[2m\u001b[36m(pid=4141)\u001b[0m 2024-02-21 22:32:02.887629: W tensorflow/compiler/xla/stream_executor/platform/default/dso_loader.cc:64] Could not load dynamic library 'libcuda.so.1'; dlerror: libcuda.so.1: cannot open shared object file: No such file or directory\n",
      "\u001b[2m\u001b[36m(pid=4141)\u001b[0m 2024-02-21 22:32:02.887697: W tensorflow/compiler/xla/stream_executor/cuda/cuda_driver.cc:265] failed call to cuInit: UNKNOWN ERROR (303)\n",
      "\u001b[2m\u001b[36m(pid=4639)\u001b[0m 2024-02-21 22:32:03.894242: W tensorflow/compiler/xla/stream_executor/platform/default/dso_loader.cc:64] Could not load dynamic library 'libcuda.so.1'; dlerror: libcuda.so.1: cannot open shared object file: No such file or directory\n",
      "\u001b[2m\u001b[36m(pid=4639)\u001b[0m 2024-02-21 22:32:03.894327: W tensorflow/compiler/xla/stream_executor/cuda/cuda_driver.cc:265] failed call to cuInit: UNKNOWN ERROR (303)\n",
      "\u001b[2m\u001b[36m(pid=5584)\u001b[0m 2024-02-21 22:32:04.330829: W tensorflow/compiler/xla/stream_executor/platform/default/dso_loader.cc:64] Could not load dynamic library 'libcuda.so.1'; dlerror: libcuda.so.1: cannot open shared object file: No such file or directory\n",
      "\u001b[2m\u001b[36m(pid=5584)\u001b[0m 2024-02-21 22:32:04.330918: W tensorflow/compiler/xla/stream_executor/cuda/cuda_driver.cc:265] failed call to cuInit: UNKNOWN ERROR (303)\n",
      "\u001b[2m\u001b[36m(pid=6580)\u001b[0m 2024-02-21 22:56:49.904588: W tensorflow/compiler/xla/stream_executor/platform/default/dso_loader.cc:64] Could not load dynamic library 'libcudart.so.11.0'; dlerror: libcudart.so.11.0: cannot open shared object file: No such file or directory\n",
      "\u001b[2m\u001b[36m(pid=7582)\u001b[0m 2024-02-21 22:56:51.016566: W tensorflow/compiler/xla/stream_executor/platform/default/dso_loader.cc:64] Could not load dynamic library 'libcudart.so.11.0'; dlerror: libcudart.so.11.0: cannot open shared object file: No such file or directory\n",
      "\u001b[2m\u001b[36m(pid=6580)\u001b[0m 2024-02-21 22:56:51.113062: W tensorflow/compiler/xla/stream_executor/platform/default/dso_loader.cc:64] Could not load dynamic library 'libnvinfer.so.7'; dlerror: libnvinfer.so.7: cannot open shared object file: No such file or directory\n",
      "\u001b[2m\u001b[36m(pid=6580)\u001b[0m 2024-02-21 22:56:51.113162: W tensorflow/compiler/xla/stream_executor/platform/default/dso_loader.cc:64] Could not load dynamic library 'libnvinfer_plugin.so.7'; dlerror: libnvinfer_plugin.so.7: cannot open shared object file: No such file or directory\n",
      "\u001b[2m\u001b[36m(pid=6580)\u001b[0m 2024-02-21 22:56:51.113172: W tensorflow/compiler/tf2tensorrt/utils/py_utils.cc:38] TF-TRT Warning: Cannot dlopen some TensorRT libraries. If you would like to use Nvidia GPU with TensorRT, please make sure the missing libraries mentioned above are installed properly.\n",
      "\u001b[2m\u001b[36m(pid=7582)\u001b[0m 2024-02-21 22:56:52.079154: W tensorflow/compiler/xla/stream_executor/platform/default/dso_loader.cc:64] Could not load dynamic library 'libnvinfer.so.7'; dlerror: libnvinfer.so.7: cannot open shared object file: No such file or directory\n",
      "\u001b[2m\u001b[36m(pid=7582)\u001b[0m 2024-02-21 22:56:52.079259: W tensorflow/compiler/xla/stream_executor/platform/default/dso_loader.cc:64] Could not load dynamic library 'libnvinfer_plugin.so.7'; dlerror: libnvinfer_plugin.so.7: cannot open shared object file: No such file or directory\n",
      "\u001b[2m\u001b[36m(pid=7582)\u001b[0m 2024-02-21 22:56:52.079268: W tensorflow/compiler/tf2tensorrt/utils/py_utils.cc:38] TF-TRT Warning: Cannot dlopen some TensorRT libraries. If you would like to use Nvidia GPU with TensorRT, please make sure the missing libraries mentioned above are installed properly.\n",
      "\u001b[2m\u001b[36m(pid=8447)\u001b[0m 2024-02-21 22:56:52.114951: W tensorflow/compiler/xla/stream_executor/platform/default/dso_loader.cc:64] Could not load dynamic library 'libcudart.so.11.0'; dlerror: libcudart.so.11.0: cannot open shared object file: No such file or directory\n",
      "\u001b[2m\u001b[36m(pid=8447)\u001b[0m 2024-02-21 22:56:53.267402: W tensorflow/compiler/xla/stream_executor/platform/default/dso_loader.cc:64] Could not load dynamic library 'libnvinfer.so.7'; dlerror: libnvinfer.so.7: cannot open shared object file: No such file or directory\n",
      "\u001b[2m\u001b[36m(pid=8447)\u001b[0m 2024-02-21 22:56:53.267519: W tensorflow/compiler/xla/stream_executor/platform/default/dso_loader.cc:64] Could not load dynamic library 'libnvinfer_plugin.so.7'; dlerror: libnvinfer_plugin.so.7: cannot open shared object file: No such file or directory\n",
      "\u001b[2m\u001b[36m(pid=8447)\u001b[0m 2024-02-21 22:56:53.267529: W tensorflow/compiler/tf2tensorrt/utils/py_utils.cc:38] TF-TRT Warning: Cannot dlopen some TensorRT libraries. If you would like to use Nvidia GPU with TensorRT, please make sure the missing libraries mentioned above are installed properly.\n",
      "\u001b[2m\u001b[36m(pid=8889)\u001b[0m 2024-02-21 22:56:53.258667: W tensorflow/compiler/xla/stream_executor/platform/default/dso_loader.cc:64] Could not load dynamic library 'libcudart.so.11.0'; dlerror: libcudart.so.11.0: cannot open shared object file: No such file or directory\n",
      "\u001b[2m\u001b[36m(pid=6580)\u001b[0m 2024-02-21 22:56:54.388239: W tensorflow/compiler/xla/stream_executor/platform/default/dso_loader.cc:64] Could not load dynamic library 'libcuda.so.1'; dlerror: libcuda.so.1: cannot open shared object file: No such file or directory\n",
      "\u001b[2m\u001b[36m(pid=6580)\u001b[0m 2024-02-21 22:56:54.388306: W tensorflow/compiler/xla/stream_executor/cuda/cuda_driver.cc:265] failed call to cuInit: UNKNOWN ERROR (303)\n",
      "\u001b[2m\u001b[36m(pid=8889)\u001b[0m 2024-02-21 22:56:54.406139: W tensorflow/compiler/xla/stream_executor/platform/default/dso_loader.cc:64] Could not load dynamic library 'libnvinfer.so.7'; dlerror: libnvinfer.so.7: cannot open shared object file: No such file or directory\n",
      "\u001b[2m\u001b[36m(pid=8889)\u001b[0m 2024-02-21 22:56:54.406284: W tensorflow/compiler/xla/stream_executor/platform/default/dso_loader.cc:64] Could not load dynamic library 'libnvinfer_plugin.so.7'; dlerror: libnvinfer_plugin.so.7: cannot open shared object file: No such file or directory\n",
      "\u001b[2m\u001b[36m(pid=8889)\u001b[0m 2024-02-21 22:56:54.406299: W tensorflow/compiler/tf2tensorrt/utils/py_utils.cc:38] TF-TRT Warning: Cannot dlopen some TensorRT libraries. If you would like to use Nvidia GPU with TensorRT, please make sure the missing libraries mentioned above are installed properly.\n",
      "\u001b[2m\u001b[36m(pid=9160)\u001b[0m 2024-02-21 22:56:54.619590: W tensorflow/compiler/xla/stream_executor/platform/default/dso_loader.cc:64] Could not load dynamic library 'libcudart.so.11.0'; dlerror: libcudart.so.11.0: cannot open shared object file: No such file or directory\n",
      "\u001b[2m\u001b[36m(pid=7582)\u001b[0m 2024-02-21 22:56:55.417911: W tensorflow/compiler/xla/stream_executor/platform/default/dso_loader.cc:64] Could not load dynamic library 'libcuda.so.1'; dlerror: libcuda.so.1: cannot open shared object file: No such file or directory\n",
      "\u001b[2m\u001b[36m(pid=7582)\u001b[0m 2024-02-21 22:56:55.417988: W tensorflow/compiler/xla/stream_executor/cuda/cuda_driver.cc:265] failed call to cuInit: UNKNOWN ERROR (303)\n",
      "\u001b[2m\u001b[36m(pid=9160)\u001b[0m 2024-02-21 22:56:55.693987: W tensorflow/compiler/xla/stream_executor/platform/default/dso_loader.cc:64] Could not load dynamic library 'libnvinfer.so.7'; dlerror: libnvinfer.so.7: cannot open shared object file: No such file or directory\n",
      "\u001b[2m\u001b[36m(pid=9160)\u001b[0m 2024-02-21 22:56:55.694104: W tensorflow/compiler/xla/stream_executor/platform/default/dso_loader.cc:64] Could not load dynamic library 'libnvinfer_plugin.so.7'; dlerror: libnvinfer_plugin.so.7: cannot open shared object file: No such file or directory\n",
      "\u001b[2m\u001b[36m(pid=9160)\u001b[0m 2024-02-21 22:56:55.694113: W tensorflow/compiler/tf2tensorrt/utils/py_utils.cc:38] TF-TRT Warning: Cannot dlopen some TensorRT libraries. If you would like to use Nvidia GPU with TensorRT, please make sure the missing libraries mentioned above are installed properly.\n",
      "\u001b[2m\u001b[36m(pid=9495)\u001b[0m 2024-02-21 22:56:56.059881: W tensorflow/compiler/xla/stream_executor/platform/default/dso_loader.cc:64] Could not load dynamic library 'libcudart.so.11.0'; dlerror: libcudart.so.11.0: cannot open shared object file: No such file or directory\n",
      "\u001b[2m\u001b[36m(pid=8447)\u001b[0m 2024-02-21 22:56:56.690990: W tensorflow/compiler/xla/stream_executor/platform/default/dso_loader.cc:64] Could not load dynamic library 'libcuda.so.1'; dlerror: libcuda.so.1: cannot open shared object file: No such file or directory\n",
      "\u001b[2m\u001b[36m(pid=8447)\u001b[0m 2024-02-21 22:56:56.691052: W tensorflow/compiler/xla/stream_executor/cuda/cuda_driver.cc:265] failed call to cuInit: UNKNOWN ERROR (303)\n",
      "\u001b[2m\u001b[36m(pid=9495)\u001b[0m 2024-02-21 22:56:57.211747: W tensorflow/compiler/xla/stream_executor/platform/default/dso_loader.cc:64] Could not load dynamic library 'libnvinfer.so.7'; dlerror: libnvinfer.so.7: cannot open shared object file: No such file or directory\n",
      "\u001b[2m\u001b[36m(pid=9495)\u001b[0m 2024-02-21 22:56:57.211876: W tensorflow/compiler/xla/stream_executor/platform/default/dso_loader.cc:64] Could not load dynamic library 'libnvinfer_plugin.so.7'; dlerror: libnvinfer_plugin.so.7: cannot open shared object file: No such file or directory\n",
      "\u001b[2m\u001b[36m(pid=9495)\u001b[0m 2024-02-21 22:56:57.211886: W tensorflow/compiler/tf2tensorrt/utils/py_utils.cc:38] TF-TRT Warning: Cannot dlopen some TensorRT libraries. If you would like to use Nvidia GPU with TensorRT, please make sure the missing libraries mentioned above are installed properly.\n",
      "\u001b[2m\u001b[36m(pid=10137)\u001b[0m 2024-02-21 22:56:57.482111: W tensorflow/compiler/xla/stream_executor/platform/default/dso_loader.cc:64] Could not load dynamic library 'libcudart.so.11.0'; dlerror: libcudart.so.11.0: cannot open shared object file: No such file or directory\n",
      "\u001b[2m\u001b[36m(pid=8889)\u001b[0m 2024-02-21 22:56:57.689754: W tensorflow/compiler/xla/stream_executor/platform/default/dso_loader.cc:64] Could not load dynamic library 'libcuda.so.1'; dlerror: libcuda.so.1: cannot open shared object file: No such file or directory\n",
      "\u001b[2m\u001b[36m(pid=8889)\u001b[0m 2024-02-21 22:56:57.689815: W tensorflow/compiler/xla/stream_executor/cuda/cuda_driver.cc:265] failed call to cuInit: UNKNOWN ERROR (303)\n",
      "\u001b[2m\u001b[36m(pid=10137)\u001b[0m 2024-02-21 22:56:58.682237: W tensorflow/compiler/xla/stream_executor/platform/default/dso_loader.cc:64] Could not load dynamic library 'libnvinfer.so.7'; dlerror: libnvinfer.so.7: cannot open shared object file: No such file or directory\n",
      "\u001b[2m\u001b[36m(pid=10137)\u001b[0m 2024-02-21 22:56:58.682341: W tensorflow/compiler/xla/stream_executor/platform/default/dso_loader.cc:64] Could not load dynamic library 'libnvinfer_plugin.so.7'; dlerror: libnvinfer_plugin.so.7: cannot open shared object file: No such file or directory\n",
      "\u001b[2m\u001b[36m(pid=10137)\u001b[0m 2024-02-21 22:56:58.682350: W tensorflow/compiler/tf2tensorrt/utils/py_utils.cc:38] TF-TRT Warning: Cannot dlopen some TensorRT libraries. If you would like to use Nvidia GPU with TensorRT, please make sure the missing libraries mentioned above are installed properly.\n",
      "\u001b[2m\u001b[36m(pid=11010)\u001b[0m 2024-02-21 22:56:58.682654: W tensorflow/compiler/xla/stream_executor/platform/default/dso_loader.cc:64] Could not load dynamic library 'libcudart.so.11.0'; dlerror: libcudart.so.11.0: cannot open shared object file: No such file or directory\n",
      "\u001b[2m\u001b[36m(pid=9160)\u001b[0m 2024-02-21 22:56:58.899441: W tensorflow/compiler/xla/stream_executor/platform/default/dso_loader.cc:64] Could not load dynamic library 'libcuda.so.1'; dlerror: libcuda.so.1: cannot open shared object file: No such file or directory\n",
      "\u001b[2m\u001b[36m(pid=9160)\u001b[0m 2024-02-21 22:56:58.899512: W tensorflow/compiler/xla/stream_executor/cuda/cuda_driver.cc:265] failed call to cuInit: UNKNOWN ERROR (303)\n",
      "\u001b[2m\u001b[36m(pid=11010)\u001b[0m 2024-02-21 22:56:59.691506: W tensorflow/compiler/xla/stream_executor/platform/default/dso_loader.cc:64] Could not load dynamic library 'libnvinfer.so.7'; dlerror: libnvinfer.so.7: cannot open shared object file: No such file or directory\n",
      "\u001b[2m\u001b[36m(pid=11010)\u001b[0m 2024-02-21 22:56:59.691655: W tensorflow/compiler/xla/stream_executor/platform/default/dso_loader.cc:64] Could not load dynamic library 'libnvinfer_plugin.so.7'; dlerror: libnvinfer_plugin.so.7: cannot open shared object file: No such file or directory\n",
      "\u001b[2m\u001b[36m(pid=11010)\u001b[0m 2024-02-21 22:56:59.691667: W tensorflow/compiler/tf2tensorrt/utils/py_utils.cc:38] TF-TRT Warning: Cannot dlopen some TensorRT libraries. If you would like to use Nvidia GPU with TensorRT, please make sure the missing libraries mentioned above are installed properly.\n",
      "\u001b[2m\u001b[36m(pid=11858)\u001b[0m 2024-02-21 22:57:00.336316: W tensorflow/compiler/xla/stream_executor/platform/default/dso_loader.cc:64] Could not load dynamic library 'libcudart.so.11.0'; dlerror: libcudart.so.11.0: cannot open shared object file: No such file or directory\n",
      "\u001b[2m\u001b[36m(_WorkerOperator pid=64191)\u001b[0m 2024-02-21 22:57:00.452422: W tensorflow/compiler/xla/stream_executor/platform/default/dso_loader.cc:64] Could not load dynamic library 'libcudart.so.11.0'; dlerror: libcudart.so.11.0: cannot open shared object file: No such file or directory\n",
      "\u001b[2m\u001b[36m(_WorkerOperator pid=64523)\u001b[0m 2024-02-21 22:57:00.452422: W tensorflow/compiler/xla/stream_executor/platform/default/dso_loader.cc:64] Could not load dynamic library 'libcudart.so.11.0'; dlerror: libcudart.so.11.0: cannot open shared object file: No such file or directory\n",
      "\u001b[2m\u001b[36m(_WorkerOperator pid=751)\u001b[0m 2024-02-21 22:57:00.454375: W tensorflow/compiler/xla/stream_executor/platform/default/dso_loader.cc:64] Could not load dynamic library 'libcudart.so.11.0'; dlerror: libcudart.so.11.0: cannot open shared object file: No such file or directory\n",
      "\u001b[2m\u001b[36m(_WorkerOperator pid=1230)\u001b[0m 2024-02-21 22:57:00.458726: W tensorflow/compiler/xla/stream_executor/platform/default/dso_loader.cc:64] Could not load dynamic library 'libcudart.so.11.0'; dlerror: libcudart.so.11.0: cannot open shared object file: No such file or directory\n",
      "\u001b[2m\u001b[36m(_WorkerOperator pid=64020)\u001b[0m 2024-02-21 22:57:00.514504: W tensorflow/compiler/xla/stream_executor/platform/default/dso_loader.cc:64] Could not load dynamic library 'libcudart.so.11.0'; dlerror: libcudart.so.11.0: cannot open shared object file: No such file or directory\n",
      "\u001b[2m\u001b[36m(pid=9495)\u001b[0m 2024-02-21 22:57:00.519528: W tensorflow/compiler/xla/stream_executor/platform/default/dso_loader.cc:64] Could not load dynamic library 'libcuda.so.1'; dlerror: libcuda.so.1: cannot open shared object file: No such file or directory\n",
      "\u001b[2m\u001b[36m(pid=9495)\u001b[0m 2024-02-21 22:57:00.519610: W tensorflow/compiler/xla/stream_executor/cuda/cuda_driver.cc:265] failed call to cuInit: UNKNOWN ERROR (303)\n",
      "\u001b[2m\u001b[36m(_WorkerOperator pid=1636)\u001b[0m 2024-02-21 22:57:01.254679: W tensorflow/compiler/xla/stream_executor/platform/default/dso_loader.cc:64] Could not load dynamic library 'libcudart.so.11.0'; dlerror: libcudart.so.11.0: cannot open shared object file: No such file or directory\n",
      "\u001b[2m\u001b[36m(_WorkerOperator pid=64191)\u001b[0m 2024-02-21 22:57:01.572338: W tensorflow/compiler/xla/stream_executor/platform/default/dso_loader.cc:64] Could not load dynamic library 'libnvinfer.so.7'; dlerror: libnvinfer.so.7: cannot open shared object file: No such file or directory\n",
      "\u001b[2m\u001b[36m(_WorkerOperator pid=64191)\u001b[0m 2024-02-21 22:57:01.572513: W tensorflow/compiler/xla/stream_executor/platform/default/dso_loader.cc:64] Could not load dynamic library 'libnvinfer_plugin.so.7'; dlerror: libnvinfer_plugin.so.7: cannot open shared object file: No such file or directory\n",
      "\u001b[2m\u001b[36m(_WorkerOperator pid=64191)\u001b[0m 2024-02-21 22:57:01.572533: W tensorflow/compiler/tf2tensorrt/utils/py_utils.cc:38] TF-TRT Warning: Cannot dlopen some TensorRT libraries. If you would like to use Nvidia GPU with TensorRT, please make sure the missing libraries mentioned above are installed properly.\n",
      "\u001b[2m\u001b[36m(pid=11858)\u001b[0m 2024-02-21 22:57:01.515460: W tensorflow/compiler/xla/stream_executor/platform/default/dso_loader.cc:64] Could not load dynamic library 'libnvinfer.so.7'; dlerror: libnvinfer.so.7: cannot open shared object file: No such file or directory\n",
      "\u001b[2m\u001b[36m(pid=11858)\u001b[0m 2024-02-21 22:57:01.515596: W tensorflow/compiler/xla/stream_executor/platform/default/dso_loader.cc:64] Could not load dynamic library 'libnvinfer_plugin.so.7'; dlerror: libnvinfer_plugin.so.7: cannot open shared object file: No such file or directory\n",
      "\u001b[2m\u001b[36m(pid=11858)\u001b[0m 2024-02-21 22:57:01.515607: W tensorflow/compiler/tf2tensorrt/utils/py_utils.cc:38] TF-TRT Warning: Cannot dlopen some TensorRT libraries. If you would like to use Nvidia GPU with TensorRT, please make sure the missing libraries mentioned above are installed properly.\n",
      "\u001b[2m\u001b[36m(_WorkerOperator pid=64020)\u001b[0m 2024-02-21 22:57:01.584707: W tensorflow/compiler/xla/stream_executor/platform/default/dso_loader.cc:64] Could not load dynamic library 'libnvinfer.so.7'; dlerror: libnvinfer.so.7: cannot open shared object file: No such file or directory\n",
      "\u001b[2m\u001b[36m(_WorkerOperator pid=64020)\u001b[0m 2024-02-21 22:57:01.584830: W tensorflow/compiler/xla/stream_executor/platform/default/dso_loader.cc:64] Could not load dynamic library 'libnvinfer_plugin.so.7'; dlerror: libnvinfer_plugin.so.7: cannot open shared object file: No such file or directory\n",
      "\u001b[2m\u001b[36m(_WorkerOperator pid=64020)\u001b[0m 2024-02-21 22:57:01.584840: W tensorflow/compiler/tf2tensorrt/utils/py_utils.cc:38] TF-TRT Warning: Cannot dlopen some TensorRT libraries. If you would like to use Nvidia GPU with TensorRT, please make sure the missing libraries mentioned above are installed properly.\n",
      "\u001b[2m\u001b[36m(_WorkerOperator pid=64523)\u001b[0m 2024-02-21 22:57:01.658754: W tensorflow/compiler/xla/stream_executor/platform/default/dso_loader.cc:64] Could not load dynamic library 'libnvinfer.so.7'; dlerror: libnvinfer.so.7: cannot open shared object file: No such file or directory\n",
      "\u001b[2m\u001b[36m(_WorkerOperator pid=64523)\u001b[0m 2024-02-21 22:57:01.658912: W tensorflow/compiler/xla/stream_executor/platform/default/dso_loader.cc:64] Could not load dynamic library 'libnvinfer_plugin.so.7'; dlerror: libnvinfer_plugin.so.7: cannot open shared object file: No such file or directory\n",
      "\u001b[2m\u001b[36m(_WorkerOperator pid=64523)\u001b[0m 2024-02-21 22:57:01.658932: W tensorflow/compiler/tf2tensorrt/utils/py_utils.cc:38] TF-TRT Warning: Cannot dlopen some TensorRT libraries. If you would like to use Nvidia GPU with TensorRT, please make sure the missing libraries mentioned above are installed properly.\n",
      "\u001b[2m\u001b[36m(_WorkerOperator pid=751)\u001b[0m 2024-02-21 22:57:01.594934: W tensorflow/compiler/xla/stream_executor/platform/default/dso_loader.cc:64] Could not load dynamic library 'libnvinfer.so.7'; dlerror: libnvinfer.so.7: cannot open shared object file: No such file or directory\n",
      "\u001b[2m\u001b[36m(_WorkerOperator pid=751)\u001b[0m 2024-02-21 22:57:01.595052: W tensorflow/compiler/xla/stream_executor/platform/default/dso_loader.cc:64] Could not load dynamic library 'libnvinfer_plugin.so.7'; dlerror: libnvinfer_plugin.so.7: cannot open shared object file: No such file or directory\n",
      "\u001b[2m\u001b[36m(_WorkerOperator pid=751)\u001b[0m 2024-02-21 22:57:01.595064: W tensorflow/compiler/tf2tensorrt/utils/py_utils.cc:38] TF-TRT Warning: Cannot dlopen some TensorRT libraries. If you would like to use Nvidia GPU with TensorRT, please make sure the missing libraries mentioned above are installed properly.\n",
      "\u001b[2m\u001b[36m(_WorkerOperator pid=1230)\u001b[0m 2024-02-21 22:57:01.686378: W tensorflow/compiler/xla/stream_executor/platform/default/dso_loader.cc:64] Could not load dynamic library 'libnvinfer.so.7'; dlerror: libnvinfer.so.7: cannot open shared object file: No such file or directory\n",
      "\u001b[2m\u001b[36m(_WorkerOperator pid=1230)\u001b[0m 2024-02-21 22:57:01.686488: W tensorflow/compiler/xla/stream_executor/platform/default/dso_loader.cc:64] Could not load dynamic library 'libnvinfer_plugin.so.7'; dlerror: libnvinfer_plugin.so.7: cannot open shared object file: No such file or directory\n",
      "\u001b[2m\u001b[36m(_WorkerOperator pid=1230)\u001b[0m 2024-02-21 22:57:01.686499: W tensorflow/compiler/tf2tensorrt/utils/py_utils.cc:38] TF-TRT Warning: Cannot dlopen some TensorRT libraries. If you would like to use Nvidia GPU with TensorRT, please make sure the missing libraries mentioned above are installed properly.\n",
      "\u001b[2m\u001b[36m(pid=12452)\u001b[0m 2024-02-21 22:57:02.013884: W tensorflow/compiler/xla/stream_executor/platform/default/dso_loader.cc:64] Could not load dynamic library 'libcudart.so.11.0'; dlerror: libcudart.so.11.0: cannot open shared object file: No such file or directory\n",
      "\u001b[2m\u001b[36m(pid=10137)\u001b[0m 2024-02-21 22:57:02.113896: W tensorflow/compiler/xla/stream_executor/platform/default/dso_loader.cc:64] Could not load dynamic library 'libcuda.so.1'; dlerror: libcuda.so.1: cannot open shared object file: No such file or directory\n",
      "\u001b[2m\u001b[36m(pid=10137)\u001b[0m 2024-02-21 22:57:02.113957: W tensorflow/compiler/xla/stream_executor/cuda/cuda_driver.cc:265] failed call to cuInit: UNKNOWN ERROR (303)\n",
      "\u001b[2m\u001b[36m(_WorkerOperator pid=1636)\u001b[0m 2024-02-21 22:57:02.307492: W tensorflow/compiler/xla/stream_executor/platform/default/dso_loader.cc:64] Could not load dynamic library 'libnvinfer.so.7'; dlerror: libnvinfer.so.7: cannot open shared object file: No such file or directory\n",
      "\u001b[2m\u001b[36m(_WorkerOperator pid=1636)\u001b[0m 2024-02-21 22:57:02.307600: W tensorflow/compiler/xla/stream_executor/platform/default/dso_loader.cc:64] Could not load dynamic library 'libnvinfer_plugin.so.7'; dlerror: libnvinfer_plugin.so.7: cannot open shared object file: No such file or directory\n",
      "\u001b[2m\u001b[36m(_WorkerOperator pid=1636)\u001b[0m 2024-02-21 22:57:02.307609: W tensorflow/compiler/tf2tensorrt/utils/py_utils.cc:38] TF-TRT Warning: Cannot dlopen some TensorRT libraries. If you would like to use Nvidia GPU with TensorRT, please make sure the missing libraries mentioned above are installed properly.\n",
      "\u001b[2m\u001b[36m(_WorkerOperator pid=64020)\u001b[0m /home/yejj/miniconda3/envs/sf/lib/python3.8/site-packages/secretflow/security/aggregation/experiment/ppb_aggregator.py:75: VisibleDeprecationWarning: Creating an ndarray from ragged nested sequences (which is a list-or-tuple of lists-or-tuples-or ndarrays with different lengths or shapes) is deprecated. If you meant to do this, you must specify 'dtype=object' when creating the ndarray.\n",
      "\u001b[2m\u001b[36m(_WorkerOperator pid=64020)\u001b[0m   return (np.multiply(np.array(data), weight) / total_weights).tolist()\n",
      "\u001b[2m\u001b[36m(_WorkerOperator pid=64191)\u001b[0m /home/yejj/miniconda3/envs/sf/lib/python3.8/site-packages/secretflow/security/aggregation/experiment/ppb_aggregator.py:75: VisibleDeprecationWarning: Creating an ndarray from ragged nested sequences (which is a list-or-tuple of lists-or-tuples-or ndarrays with different lengths or shapes) is deprecated. If you meant to do this, you must specify 'dtype=object' when creating the ndarray.\n",
      "\u001b[2m\u001b[36m(_WorkerOperator pid=64191)\u001b[0m   return (np.multiply(np.array(data), weight) / total_weights).tolist()\n",
      "\u001b[2m\u001b[36m(_WorkerOperator pid=64523)\u001b[0m /home/yejj/miniconda3/envs/sf/lib/python3.8/site-packages/secretflow/security/aggregation/experiment/ppb_aggregator.py:75: VisibleDeprecationWarning: Creating an ndarray from ragged nested sequences (which is a list-or-tuple of lists-or-tuples-or ndarrays with different lengths or shapes) is deprecated. If you meant to do this, you must specify 'dtype=object' when creating the ndarray.\n",
      "\u001b[2m\u001b[36m(_WorkerOperator pid=64523)\u001b[0m   return (np.multiply(np.array(data), weight) / total_weights).tolist()\n",
      "\u001b[2m\u001b[36m(_WorkerOperator pid=751)\u001b[0m /home/yejj/miniconda3/envs/sf/lib/python3.8/site-packages/secretflow/security/aggregation/experiment/ppb_aggregator.py:75: VisibleDeprecationWarning: Creating an ndarray from ragged nested sequences (which is a list-or-tuple of lists-or-tuples-or ndarrays with different lengths or shapes) is deprecated. If you meant to do this, you must specify 'dtype=object' when creating the ndarray.\n",
      "\u001b[2m\u001b[36m(_WorkerOperator pid=751)\u001b[0m   return (np.multiply(np.array(data), weight) / total_weights).tolist()\n",
      "\u001b[2m\u001b[36m(_WorkerOperator pid=1230)\u001b[0m /home/yejj/miniconda3/envs/sf/lib/python3.8/site-packages/secretflow/security/aggregation/experiment/ppb_aggregator.py:75: VisibleDeprecationWarning: Creating an ndarray from ragged nested sequences (which is a list-or-tuple of lists-or-tuples-or ndarrays with different lengths or shapes) is deprecated. If you meant to do this, you must specify 'dtype=object' when creating the ndarray.\n",
      "\u001b[2m\u001b[36m(_WorkerOperator pid=1230)\u001b[0m   return (np.multiply(np.array(data), weight) / total_weights).tolist()\n",
      "\u001b[2m\u001b[36m(_WorkerOperator pid=2075)\u001b[0m 2024-02-21 22:57:02.694749: W tensorflow/compiler/xla/stream_executor/platform/default/dso_loader.cc:64] Could not load dynamic library 'libcudart.so.11.0'; dlerror: libcudart.so.11.0: cannot open shared object file: No such file or directory\n",
      "\u001b[2m\u001b[36m(pid=11010)\u001b[0m 2024-02-21 22:57:02.929420: W tensorflow/compiler/xla/stream_executor/platform/default/dso_loader.cc:64] Could not load dynamic library 'libcuda.so.1'; dlerror: libcuda.so.1: cannot open shared object file: No such file or directory\n",
      "\u001b[2m\u001b[36m(pid=11010)\u001b[0m 2024-02-21 22:57:02.929510: W tensorflow/compiler/xla/stream_executor/cuda/cuda_driver.cc:265] failed call to cuInit: UNKNOWN ERROR (303)\n",
      "\u001b[2m\u001b[36m(_WorkerOperator pid=1636)\u001b[0m /home/yejj/miniconda3/envs/sf/lib/python3.8/site-packages/secretflow/security/aggregation/experiment/ppb_aggregator.py:75: VisibleDeprecationWarning: Creating an ndarray from ragged nested sequences (which is a list-or-tuple of lists-or-tuples-or ndarrays with different lengths or shapes) is deprecated. If you meant to do this, you must specify 'dtype=object' when creating the ndarray.\n",
      "\u001b[2m\u001b[36m(_WorkerOperator pid=1636)\u001b[0m   return (np.multiply(np.array(data), weight) / total_weights).tolist()\n",
      "\u001b[2m\u001b[36m(pid=12452)\u001b[0m 2024-02-21 22:57:03.247800: W tensorflow/compiler/xla/stream_executor/platform/default/dso_loader.cc:64] Could not load dynamic library 'libnvinfer.so.7'; dlerror: libnvinfer.so.7: cannot open shared object file: No such file or directory\n",
      "\u001b[2m\u001b[36m(pid=12452)\u001b[0m 2024-02-21 22:57:03.247916: W tensorflow/compiler/xla/stream_executor/platform/default/dso_loader.cc:64] Could not load dynamic library 'libnvinfer_plugin.so.7'; dlerror: libnvinfer_plugin.so.7: cannot open shared object file: No such file or directory\n",
      "\u001b[2m\u001b[36m(pid=12452)\u001b[0m 2024-02-21 22:57:03.247926: W tensorflow/compiler/tf2tensorrt/utils/py_utils.cc:38] TF-TRT Warning: Cannot dlopen some TensorRT libraries. If you would like to use Nvidia GPU with TensorRT, please make sure the missing libraries mentioned above are installed properly.\n",
      "\u001b[2m\u001b[36m(_WorkerOperator pid=2867)\u001b[0m 2024-02-21 22:57:03.539453: W tensorflow/compiler/xla/stream_executor/platform/default/dso_loader.cc:64] Could not load dynamic library 'libcudart.so.11.0'; dlerror: libcudart.so.11.0: cannot open shared object file: No such file or directory\n",
      "\u001b[2m\u001b[36m(_WorkerOperator pid=2075)\u001b[0m 2024-02-21 22:57:03.619441: W tensorflow/compiler/xla/stream_executor/platform/default/dso_loader.cc:64] Could not load dynamic library 'libnvinfer.so.7'; dlerror: libnvinfer.so.7: cannot open shared object file: No such file or directory\n",
      "\u001b[2m\u001b[36m(_WorkerOperator pid=2075)\u001b[0m 2024-02-21 22:57:03.619544: W tensorflow/compiler/xla/stream_executor/platform/default/dso_loader.cc:64] Could not load dynamic library 'libnvinfer_plugin.so.7'; dlerror: libnvinfer_plugin.so.7: cannot open shared object file: No such file or directory\n",
      "\u001b[2m\u001b[36m(_WorkerOperator pid=2075)\u001b[0m 2024-02-21 22:57:03.619554: W tensorflow/compiler/tf2tensorrt/utils/py_utils.cc:38] TF-TRT Warning: Cannot dlopen some TensorRT libraries. If you would like to use Nvidia GPU with TensorRT, please make sure the missing libraries mentioned above are installed properly.\n",
      "\u001b[2m\u001b[36m(_WorkerOperator pid=2075)\u001b[0m /home/yejj/miniconda3/envs/sf/lib/python3.8/site-packages/secretflow/security/aggregation/experiment/ppb_aggregator.py:75: VisibleDeprecationWarning: Creating an ndarray from ragged nested sequences (which is a list-or-tuple of lists-or-tuples-or ndarrays with different lengths or shapes) is deprecated. If you meant to do this, you must specify 'dtype=object' when creating the ndarray.\n",
      "\u001b[2m\u001b[36m(_WorkerOperator pid=2075)\u001b[0m   return (np.multiply(np.array(data), weight) / total_weights).tolist()\n",
      "\u001b[2m\u001b[36m(pid=11858)\u001b[0m 2024-02-21 22:57:04.644582: W tensorflow/compiler/xla/stream_executor/platform/default/dso_loader.cc:64] Could not load dynamic library 'libcuda.so.1'; dlerror: libcuda.so.1: cannot open shared object file: No such file or directory\n",
      "\u001b[2m\u001b[36m(pid=11858)\u001b[0m 2024-02-21 22:57:04.644651: W tensorflow/compiler/xla/stream_executor/cuda/cuda_driver.cc:265] failed call to cuInit: UNKNOWN ERROR (303)\n",
      "\u001b[2m\u001b[36m(_WorkerOperator pid=2867)\u001b[0m 2024-02-21 22:57:04.701646: W tensorflow/compiler/xla/stream_executor/platform/default/dso_loader.cc:64] Could not load dynamic library 'libnvinfer.so.7'; dlerror: libnvinfer.so.7: cannot open shared object file: No such file or directory\n",
      "\u001b[2m\u001b[36m(_WorkerOperator pid=2867)\u001b[0m 2024-02-21 22:57:04.701751: W tensorflow/compiler/xla/stream_executor/platform/default/dso_loader.cc:64] Could not load dynamic library 'libnvinfer_plugin.so.7'; dlerror: libnvinfer_plugin.so.7: cannot open shared object file: No such file or directory\n",
      "\u001b[2m\u001b[36m(_WorkerOperator pid=2867)\u001b[0m 2024-02-21 22:57:04.701760: W tensorflow/compiler/tf2tensorrt/utils/py_utils.cc:38] TF-TRT Warning: Cannot dlopen some TensorRT libraries. If you would like to use Nvidia GPU with TensorRT, please make sure the missing libraries mentioned above are installed properly.\n",
      "\u001b[2m\u001b[36m(_WorkerOperator pid=4088)\u001b[0m 2024-02-21 22:57:05.296221: W tensorflow/compiler/xla/stream_executor/platform/default/dso_loader.cc:64] Could not load dynamic library 'libcudart.so.11.0'; dlerror: libcudart.so.11.0: cannot open shared object file: No such file or directory\n",
      "\u001b[2m\u001b[36m(_WorkerOperator pid=2867)\u001b[0m /home/yejj/miniconda3/envs/sf/lib/python3.8/site-packages/secretflow/security/aggregation/experiment/ppb_aggregator.py:75: VisibleDeprecationWarning: Creating an ndarray from ragged nested sequences (which is a list-or-tuple of lists-or-tuples-or ndarrays with different lengths or shapes) is deprecated. If you meant to do this, you must specify 'dtype=object' when creating the ndarray.\n",
      "\u001b[2m\u001b[36m(_WorkerOperator pid=2867)\u001b[0m   return (np.multiply(np.array(data), weight) / total_weights).tolist()\n",
      "\u001b[2m\u001b[36m(_WorkerOperator pid=4088)\u001b[0m 2024-02-21 22:57:06.454257: W tensorflow/compiler/xla/stream_executor/platform/default/dso_loader.cc:64] Could not load dynamic library 'libnvinfer.so.7'; dlerror: libnvinfer.so.7: cannot open shared object file: No such file or directory\n",
      "\u001b[2m\u001b[36m(_WorkerOperator pid=4088)\u001b[0m 2024-02-21 22:57:06.454384: W tensorflow/compiler/xla/stream_executor/platform/default/dso_loader.cc:64] Could not load dynamic library 'libnvinfer_plugin.so.7'; dlerror: libnvinfer_plugin.so.7: cannot open shared object file: No such file or directory\n",
      "\u001b[2m\u001b[36m(_WorkerOperator pid=4088)\u001b[0m 2024-02-21 22:57:06.454395: W tensorflow/compiler/tf2tensorrt/utils/py_utils.cc:38] TF-TRT Warning: Cannot dlopen some TensorRT libraries. If you would like to use Nvidia GPU with TensorRT, please make sure the missing libraries mentioned above are installed properly.\n",
      "\u001b[2m\u001b[36m(pid=12452)\u001b[0m 2024-02-21 22:57:06.472665: W tensorflow/compiler/xla/stream_executor/platform/default/dso_loader.cc:64] Could not load dynamic library 'libcuda.so.1'; dlerror: libcuda.so.1: cannot open shared object file: No such file or directory\n",
      "\u001b[2m\u001b[36m(pid=12452)\u001b[0m 2024-02-21 22:57:06.472738: W tensorflow/compiler/xla/stream_executor/cuda/cuda_driver.cc:265] failed call to cuInit: UNKNOWN ERROR (303)\n",
      "\u001b[2m\u001b[36m(_WorkerOperator pid=5263)\u001b[0m 2024-02-21 22:57:07.120325: W tensorflow/compiler/xla/stream_executor/platform/default/dso_loader.cc:64] Could not load dynamic library 'libcudart.so.11.0'; dlerror: libcudart.so.11.0: cannot open shared object file: No such file or directory\n",
      "\u001b[2m\u001b[36m(_WorkerOperator pid=4088)\u001b[0m /home/yejj/miniconda3/envs/sf/lib/python3.8/site-packages/secretflow/security/aggregation/experiment/ppb_aggregator.py:75: VisibleDeprecationWarning: Creating an ndarray from ragged nested sequences (which is a list-or-tuple of lists-or-tuples-or ndarrays with different lengths or shapes) is deprecated. If you meant to do this, you must specify 'dtype=object' when creating the ndarray.\n",
      "\u001b[2m\u001b[36m(_WorkerOperator pid=4088)\u001b[0m   return (np.multiply(np.array(data), weight) / total_weights).tolist()\n",
      "\u001b[2m\u001b[36m(_WorkerOperator pid=5263)\u001b[0m 2024-02-21 22:57:08.280783: W tensorflow/compiler/xla/stream_executor/platform/default/dso_loader.cc:64] Could not load dynamic library 'libnvinfer.so.7'; dlerror: libnvinfer.so.7: cannot open shared object file: No such file or directory\n",
      "\u001b[2m\u001b[36m(_WorkerOperator pid=5263)\u001b[0m 2024-02-21 22:57:08.280911: W tensorflow/compiler/xla/stream_executor/platform/default/dso_loader.cc:64] Could not load dynamic library 'libnvinfer_plugin.so.7'; dlerror: libnvinfer_plugin.so.7: cannot open shared object file: No such file or directory\n",
      "\u001b[2m\u001b[36m(_WorkerOperator pid=5263)\u001b[0m 2024-02-21 22:57:08.280922: W tensorflow/compiler/tf2tensorrt/utils/py_utils.cc:38] TF-TRT Warning: Cannot dlopen some TensorRT libraries. If you would like to use Nvidia GPU with TensorRT, please make sure the missing libraries mentioned above are installed properly.\n",
      "\u001b[2m\u001b[36m(_WorkerOperator pid=5263)\u001b[0m /home/yejj/miniconda3/envs/sf/lib/python3.8/site-packages/secretflow/security/aggregation/experiment/ppb_aggregator.py:75: VisibleDeprecationWarning: Creating an ndarray from ragged nested sequences (which is a list-or-tuple of lists-or-tuples-or ndarrays with different lengths or shapes) is deprecated. If you meant to do this, you must specify 'dtype=object' when creating the ndarray.\n",
      "\u001b[2m\u001b[36m(_WorkerOperator pid=5263)\u001b[0m   return (np.multiply(np.array(data), weight) / total_weights).tolist()\n",
      "\u001b[2m\u001b[36m(pid=37877)\u001b[0m 2024-02-21 23:59:10.567278: W tensorflow/compiler/xla/stream_executor/platform/default/dso_loader.cc:64] Could not load dynamic library 'libcudart.so.11.0'; dlerror: libcudart.so.11.0: cannot open shared object file: No such file or directory\n",
      "\u001b[2m\u001b[36m(pid=37877)\u001b[0m 2024-02-21 23:59:11.615441: W tensorflow/compiler/xla/stream_executor/platform/default/dso_loader.cc:64] Could not load dynamic library 'libnvinfer.so.7'; dlerror: libnvinfer.so.7: cannot open shared object file: No such file or directory\n",
      "\u001b[2m\u001b[36m(pid=37877)\u001b[0m 2024-02-21 23:59:11.615557: W tensorflow/compiler/xla/stream_executor/platform/default/dso_loader.cc:64] Could not load dynamic library 'libnvinfer_plugin.so.7'; dlerror: libnvinfer_plugin.so.7: cannot open shared object file: No such file or directory\n",
      "\u001b[2m\u001b[36m(pid=37877)\u001b[0m 2024-02-21 23:59:11.615567: W tensorflow/compiler/tf2tensorrt/utils/py_utils.cc:38] TF-TRT Warning: Cannot dlopen some TensorRT libraries. If you would like to use Nvidia GPU with TensorRT, please make sure the missing libraries mentioned above are installed properly.\n",
      "\u001b[2m\u001b[36m(pid=40047)\u001b[0m 2024-02-21 23:59:12.297624: W tensorflow/compiler/xla/stream_executor/platform/default/dso_loader.cc:64] Could not load dynamic library 'libcudart.so.11.0'; dlerror: libcudart.so.11.0: cannot open shared object file: No such file or directory\n",
      "\u001b[2m\u001b[36m(pid=40047)\u001b[0m 2024-02-21 23:59:13.328167: W tensorflow/compiler/xla/stream_executor/platform/default/dso_loader.cc:64] Could not load dynamic library 'libnvinfer.so.7'; dlerror: libnvinfer.so.7: cannot open shared object file: No such file or directory\n",
      "\u001b[2m\u001b[36m(pid=40047)\u001b[0m 2024-02-21 23:59:13.328281: W tensorflow/compiler/xla/stream_executor/platform/default/dso_loader.cc:64] Could not load dynamic library 'libnvinfer_plugin.so.7'; dlerror: libnvinfer_plugin.so.7: cannot open shared object file: No such file or directory\n",
      "\u001b[2m\u001b[36m(pid=40047)\u001b[0m 2024-02-21 23:59:13.328290: W tensorflow/compiler/tf2tensorrt/utils/py_utils.cc:38] TF-TRT Warning: Cannot dlopen some TensorRT libraries. If you would like to use Nvidia GPU with TensorRT, please make sure the missing libraries mentioned above are installed properly.\n",
      "\u001b[2m\u001b[36m(pid=41520)\u001b[0m 2024-02-21 23:59:13.952794: W tensorflow/compiler/xla/stream_executor/platform/default/dso_loader.cc:64] Could not load dynamic library 'libcudart.so.11.0'; dlerror: libcudart.so.11.0: cannot open shared object file: No such file or directory\n",
      "\u001b[2m\u001b[36m(pid=37877)\u001b[0m 2024-02-21 23:59:14.742988: W tensorflow/compiler/xla/stream_executor/platform/default/dso_loader.cc:64] Could not load dynamic library 'libcuda.so.1'; dlerror: libcuda.so.1: cannot open shared object file: No such file or directory\n",
      "\u001b[2m\u001b[36m(pid=37877)\u001b[0m 2024-02-21 23:59:14.743049: W tensorflow/compiler/xla/stream_executor/cuda/cuda_driver.cc:265] failed call to cuInit: UNKNOWN ERROR (303)\n",
      "\u001b[2m\u001b[36m(pid=41520)\u001b[0m 2024-02-21 23:59:15.081527: W tensorflow/compiler/xla/stream_executor/platform/default/dso_loader.cc:64] Could not load dynamic library 'libnvinfer.so.7'; dlerror: libnvinfer.so.7: cannot open shared object file: No such file or directory\n",
      "\u001b[2m\u001b[36m(pid=41520)\u001b[0m 2024-02-21 23:59:15.081643: W tensorflow/compiler/xla/stream_executor/platform/default/dso_loader.cc:64] Could not load dynamic library 'libnvinfer_plugin.so.7'; dlerror: libnvinfer_plugin.so.7: cannot open shared object file: No such file or directory\n",
      "\u001b[2m\u001b[36m(pid=41520)\u001b[0m 2024-02-21 23:59:15.081653: W tensorflow/compiler/tf2tensorrt/utils/py_utils.cc:38] TF-TRT Warning: Cannot dlopen some TensorRT libraries. If you would like to use Nvidia GPU with TensorRT, please make sure the missing libraries mentioned above are installed properly.\n",
      "\u001b[2m\u001b[36m(pid=43037)\u001b[0m 2024-02-21 23:59:15.694215: W tensorflow/compiler/xla/stream_executor/platform/default/dso_loader.cc:64] Could not load dynamic library 'libcudart.so.11.0'; dlerror: libcudart.so.11.0: cannot open shared object file: No such file or directory\n",
      "\u001b[2m\u001b[36m(pid=40047)\u001b[0m 2024-02-21 23:59:16.597949: W tensorflow/compiler/xla/stream_executor/platform/default/dso_loader.cc:64] Could not load dynamic library 'libcuda.so.1'; dlerror: libcuda.so.1: cannot open shared object file: No such file or directory\n",
      "\u001b[2m\u001b[36m(pid=40047)\u001b[0m 2024-02-21 23:59:16.598015: W tensorflow/compiler/xla/stream_executor/cuda/cuda_driver.cc:265] failed call to cuInit: UNKNOWN ERROR (303)\n",
      "\u001b[2m\u001b[36m(pid=43037)\u001b[0m 2024-02-21 23:59:16.775247: W tensorflow/compiler/xla/stream_executor/platform/default/dso_loader.cc:64] Could not load dynamic library 'libnvinfer.so.7'; dlerror: libnvinfer.so.7: cannot open shared object file: No such file or directory\n",
      "\u001b[2m\u001b[36m(pid=43037)\u001b[0m 2024-02-21 23:59:16.775368: W tensorflow/compiler/xla/stream_executor/platform/default/dso_loader.cc:64] Could not load dynamic library 'libnvinfer_plugin.so.7'; dlerror: libnvinfer_plugin.so.7: cannot open shared object file: No such file or directory\n",
      "\u001b[2m\u001b[36m(pid=43037)\u001b[0m 2024-02-21 23:59:16.775379: W tensorflow/compiler/tf2tensorrt/utils/py_utils.cc:38] TF-TRT Warning: Cannot dlopen some TensorRT libraries. If you would like to use Nvidia GPU with TensorRT, please make sure the missing libraries mentioned above are installed properly.\n",
      "\u001b[2m\u001b[36m(pid=43668)\u001b[0m 2024-02-21 23:59:17.506869: W tensorflow/compiler/xla/stream_executor/platform/default/dso_loader.cc:64] Could not load dynamic library 'libcudart.so.11.0'; dlerror: libcudart.so.11.0: cannot open shared object file: No such file or directory\n",
      "\u001b[2m\u001b[36m(pid=41520)\u001b[0m 2024-02-21 23:59:18.401750: W tensorflow/compiler/xla/stream_executor/platform/default/dso_loader.cc:64] Could not load dynamic library 'libcuda.so.1'; dlerror: libcuda.so.1: cannot open shared object file: No such file or directory\n",
      "\u001b[2m\u001b[36m(pid=41520)\u001b[0m 2024-02-21 23:59:18.401830: W tensorflow/compiler/xla/stream_executor/cuda/cuda_driver.cc:265] failed call to cuInit: UNKNOWN ERROR (303)\n",
      "\u001b[2m\u001b[36m(pid=43668)\u001b[0m 2024-02-21 23:59:18.693223: W tensorflow/compiler/xla/stream_executor/platform/default/dso_loader.cc:64] Could not load dynamic library 'libnvinfer.so.7'; dlerror: libnvinfer.so.7: cannot open shared object file: No such file or directory\n",
      "\u001b[2m\u001b[36m(pid=43668)\u001b[0m 2024-02-21 23:59:18.693362: W tensorflow/compiler/xla/stream_executor/platform/default/dso_loader.cc:64] Could not load dynamic library 'libnvinfer_plugin.so.7'; dlerror: libnvinfer_plugin.so.7: cannot open shared object file: No such file or directory\n",
      "\u001b[2m\u001b[36m(pid=43668)\u001b[0m 2024-02-21 23:59:18.693373: W tensorflow/compiler/tf2tensorrt/utils/py_utils.cc:38] TF-TRT Warning: Cannot dlopen some TensorRT libraries. If you would like to use Nvidia GPU with TensorRT, please make sure the missing libraries mentioned above are installed properly.\n",
      "\u001b[2m\u001b[36m(pid=44768)\u001b[0m 2024-02-21 23:59:19.608689: W tensorflow/compiler/xla/stream_executor/platform/default/dso_loader.cc:64] Could not load dynamic library 'libcudart.so.11.0'; dlerror: libcudart.so.11.0: cannot open shared object file: No such file or directory\n",
      "\u001b[2m\u001b[36m(pid=43037)\u001b[0m 2024-02-21 23:59:19.995958: W tensorflow/compiler/xla/stream_executor/platform/default/dso_loader.cc:64] Could not load dynamic library 'libcuda.so.1'; dlerror: libcuda.so.1: cannot open shared object file: No such file or directory\n",
      "\u001b[2m\u001b[36m(pid=43037)\u001b[0m 2024-02-21 23:59:19.996021: W tensorflow/compiler/xla/stream_executor/cuda/cuda_driver.cc:265] failed call to cuInit: UNKNOWN ERROR (303)\n",
      "\u001b[2m\u001b[36m(pid=44768)\u001b[0m 2024-02-21 23:59:20.746503: W tensorflow/compiler/xla/stream_executor/platform/default/dso_loader.cc:64] Could not load dynamic library 'libnvinfer.so.7'; dlerror: libnvinfer.so.7: cannot open shared object file: No such file or directory\n",
      "\u001b[2m\u001b[36m(pid=44768)\u001b[0m 2024-02-21 23:59:20.746617: W tensorflow/compiler/xla/stream_executor/platform/default/dso_loader.cc:64] Could not load dynamic library 'libnvinfer_plugin.so.7'; dlerror: libnvinfer_plugin.so.7: cannot open shared object file: No such file or directory\n",
      "\u001b[2m\u001b[36m(pid=44768)\u001b[0m 2024-02-21 23:59:20.746626: W tensorflow/compiler/tf2tensorrt/utils/py_utils.cc:38] TF-TRT Warning: Cannot dlopen some TensorRT libraries. If you would like to use Nvidia GPU with TensorRT, please make sure the missing libraries mentioned above are installed properly.\n",
      "\u001b[2m\u001b[36m(pid=46215)\u001b[0m 2024-02-21 23:59:21.481290: W tensorflow/compiler/xla/stream_executor/platform/default/dso_loader.cc:64] Could not load dynamic library 'libcudart.so.11.0'; dlerror: libcudart.so.11.0: cannot open shared object file: No such file or directory\n",
      "\u001b[2m\u001b[36m(pid=43668)\u001b[0m 2024-02-21 23:59:21.918254: W tensorflow/compiler/xla/stream_executor/platform/default/dso_loader.cc:64] Could not load dynamic library 'libcuda.so.1'; dlerror: libcuda.so.1: cannot open shared object file: No such file or directory\n",
      "\u001b[2m\u001b[36m(pid=43668)\u001b[0m 2024-02-21 23:59:21.918317: W tensorflow/compiler/xla/stream_executor/cuda/cuda_driver.cc:265] failed call to cuInit: UNKNOWN ERROR (303)\n",
      "\u001b[2m\u001b[36m(pid=46215)\u001b[0m 2024-02-21 23:59:22.576263: W tensorflow/compiler/xla/stream_executor/platform/default/dso_loader.cc:64] Could not load dynamic library 'libnvinfer.so.7'; dlerror: libnvinfer.so.7: cannot open shared object file: No such file or directory\n",
      "\u001b[2m\u001b[36m(pid=46215)\u001b[0m 2024-02-21 23:59:22.576402: W tensorflow/compiler/xla/stream_executor/platform/default/dso_loader.cc:64] Could not load dynamic library 'libnvinfer_plugin.so.7'; dlerror: libnvinfer_plugin.so.7: cannot open shared object file: No such file or directory\n",
      "\u001b[2m\u001b[36m(pid=46215)\u001b[0m 2024-02-21 23:59:22.576413: W tensorflow/compiler/tf2tensorrt/utils/py_utils.cc:38] TF-TRT Warning: Cannot dlopen some TensorRT libraries. If you would like to use Nvidia GPU with TensorRT, please make sure the missing libraries mentioned above are installed properly.\n",
      "\u001b[2m\u001b[36m(pid=47029)\u001b[0m 2024-02-21 23:59:23.329688: W tensorflow/compiler/xla/stream_executor/platform/default/dso_loader.cc:64] Could not load dynamic library 'libcudart.so.11.0'; dlerror: libcudart.so.11.0: cannot open shared object file: No such file or directory\n",
      "\u001b[2m\u001b[36m(pid=44768)\u001b[0m 2024-02-21 23:59:24.081427: W tensorflow/compiler/xla/stream_executor/platform/default/dso_loader.cc:64] Could not load dynamic library 'libcuda.so.1'; dlerror: libcuda.so.1: cannot open shared object file: No such file or directory\n",
      "\u001b[2m\u001b[36m(pid=44768)\u001b[0m 2024-02-21 23:59:24.081487: W tensorflow/compiler/xla/stream_executor/cuda/cuda_driver.cc:265] failed call to cuInit: UNKNOWN ERROR (303)\n",
      "\u001b[2m\u001b[36m(pid=47029)\u001b[0m 2024-02-21 23:59:24.513533: W tensorflow/compiler/xla/stream_executor/platform/default/dso_loader.cc:64] Could not load dynamic library 'libnvinfer.so.7'; dlerror: libnvinfer.so.7: cannot open shared object file: No such file or directory\n",
      "\u001b[2m\u001b[36m(pid=47029)\u001b[0m 2024-02-21 23:59:24.513644: W tensorflow/compiler/xla/stream_executor/platform/default/dso_loader.cc:64] Could not load dynamic library 'libnvinfer_plugin.so.7'; dlerror: libnvinfer_plugin.so.7: cannot open shared object file: No such file or directory\n",
      "\u001b[2m\u001b[36m(pid=47029)\u001b[0m 2024-02-21 23:59:24.513653: W tensorflow/compiler/tf2tensorrt/utils/py_utils.cc:38] TF-TRT Warning: Cannot dlopen some TensorRT libraries. If you would like to use Nvidia GPU with TensorRT, please make sure the missing libraries mentioned above are installed properly.\n",
      "\u001b[2m\u001b[36m(pid=47563)\u001b[0m 2024-02-21 23:59:25.189468: W tensorflow/compiler/xla/stream_executor/platform/default/dso_loader.cc:64] Could not load dynamic library 'libcudart.so.11.0'; dlerror: libcudart.so.11.0: cannot open shared object file: No such file or directory\n",
      "\u001b[2m\u001b[36m(_run pid=32642)\u001b[0m INFO:jax._src.xla_bridge:Unable to initialize backend 'cuda': module 'jaxlib.xla_extension' has no attribute 'GpuAllocatorConfig'\n",
      "\u001b[2m\u001b[36m(_run pid=32642)\u001b[0m INFO:jax._src.xla_bridge:Unable to initialize backend 'rocm': module 'jaxlib.xla_extension' has no attribute 'GpuAllocatorConfig'\n",
      "\u001b[2m\u001b[36m(_run pid=32642)\u001b[0m INFO:jax._src.xla_bridge:Unable to initialize backend 'tpu': INVALID_ARGUMENT: TpuPlatform is not available.\n",
      "\u001b[2m\u001b[36m(_run pid=32642)\u001b[0m INFO:jax._src.xla_bridge:Unable to initialize backend 'plugin': xla_extension has no attributes named get_plugin_device_client. Compile TensorFlow with //tensorflow/compiler/xla/python:enable_plugin_device set to true (defaults to false) to enable this.\n",
      "\u001b[2m\u001b[36m(_run pid=32642)\u001b[0m WARNING:jax._src.xla_bridge:No GPU/TPU found, falling back to CPU. (Set TF_CPP_MIN_LOG_LEVEL=0 and rerun for more info.)\n",
      "\u001b[2m\u001b[36m(_run pid=28885)\u001b[0m INFO:jax._src.xla_bridge:Unable to initialize backend 'cuda': module 'jaxlib.xla_extension' has no attribute 'GpuAllocatorConfig'\n",
      "\u001b[2m\u001b[36m(_run pid=28885)\u001b[0m INFO:jax._src.xla_bridge:Unable to initialize backend 'rocm': module 'jaxlib.xla_extension' has no attribute 'GpuAllocatorConfig'\n",
      "\u001b[2m\u001b[36m(_run pid=28885)\u001b[0m INFO:jax._src.xla_bridge:Unable to initialize backend 'tpu': INVALID_ARGUMENT: TpuPlatform is not available.\n",
      "\u001b[2m\u001b[36m(_run pid=28885)\u001b[0m INFO:jax._src.xla_bridge:Unable to initialize backend 'plugin': xla_extension has no attributes named get_plugin_device_client. Compile TensorFlow with //tensorflow/compiler/xla/python:enable_plugin_device set to true (defaults to false) to enable this.\n",
      "\u001b[2m\u001b[36m(_run pid=28885)\u001b[0m WARNING:jax._src.xla_bridge:No GPU/TPU found, falling back to CPU. (Set TF_CPP_MIN_LOG_LEVEL=0 and rerun for more info.)\n",
      "\u001b[2m\u001b[36m(_run pid=32647)\u001b[0m INFO:jax._src.xla_bridge:Unable to initialize backend 'cuda': module 'jaxlib.xla_extension' has no attribute 'GpuAllocatorConfig'\n",
      "\u001b[2m\u001b[36m(_run pid=32647)\u001b[0m INFO:jax._src.xla_bridge:Unable to initialize backend 'rocm': module 'jaxlib.xla_extension' has no attribute 'GpuAllocatorConfig'\n",
      "\u001b[2m\u001b[36m(_run pid=32647)\u001b[0m INFO:jax._src.xla_bridge:Unable to initialize backend 'tpu': INVALID_ARGUMENT: TpuPlatform is not available.\n",
      "\u001b[2m\u001b[36m(_run pid=32647)\u001b[0m INFO:jax._src.xla_bridge:Unable to initialize backend 'plugin': xla_extension has no attributes named get_plugin_device_client. Compile TensorFlow with //tensorflow/compiler/xla/python:enable_plugin_device set to true (defaults to false) to enable this.\n",
      "\u001b[2m\u001b[36m(_run pid=32647)\u001b[0m WARNING:jax._src.xla_bridge:No GPU/TPU found, falling back to CPU. (Set TF_CPP_MIN_LOG_LEVEL=0 and rerun for more info.)\n",
      "\u001b[2m\u001b[36m(pid=46215)\u001b[0m 2024-02-21 23:59:25.750776: W tensorflow/compiler/xla/stream_executor/platform/default/dso_loader.cc:64] Could not load dynamic library 'libcuda.so.1'; dlerror: libcuda.so.1: cannot open shared object file: No such file or directory\n",
      "\u001b[2m\u001b[36m(pid=46215)\u001b[0m 2024-02-21 23:59:25.750832: W tensorflow/compiler/xla/stream_executor/cuda/cuda_driver.cc:265] failed call to cuInit: UNKNOWN ERROR (303)\n",
      "\u001b[2m\u001b[36m(pid=47563)\u001b[0m 2024-02-21 23:59:26.426091: W tensorflow/compiler/xla/stream_executor/platform/default/dso_loader.cc:64] Could not load dynamic library 'libnvinfer.so.7'; dlerror: libnvinfer.so.7: cannot open shared object file: No such file or directory\n",
      "\u001b[2m\u001b[36m(pid=47563)\u001b[0m 2024-02-21 23:59:26.426197: W tensorflow/compiler/xla/stream_executor/platform/default/dso_loader.cc:64] Could not load dynamic library 'libnvinfer_plugin.so.7'; dlerror: libnvinfer_plugin.so.7: cannot open shared object file: No such file or directory\n",
      "\u001b[2m\u001b[36m(pid=47563)\u001b[0m 2024-02-21 23:59:26.426206: W tensorflow/compiler/tf2tensorrt/utils/py_utils.cc:38] TF-TRT Warning: Cannot dlopen some TensorRT libraries. If you would like to use Nvidia GPU with TensorRT, please make sure the missing libraries mentioned above are installed properly.\n",
      "\u001b[2m\u001b[36m(pid=48891)\u001b[0m 2024-02-21 23:59:27.351264: W tensorflow/compiler/xla/stream_executor/platform/default/dso_loader.cc:64] Could not load dynamic library 'libcudart.so.11.0'; dlerror: libcudart.so.11.0: cannot open shared object file: No such file or directory\n",
      "\u001b[2m\u001b[36m(pid=47029)\u001b[0m 2024-02-21 23:59:27.796481: W tensorflow/compiler/xla/stream_executor/platform/default/dso_loader.cc:64] Could not load dynamic library 'libcuda.so.1'; dlerror: libcuda.so.1: cannot open shared object file: No such file or directory\n",
      "\u001b[2m\u001b[36m(pid=47029)\u001b[0m 2024-02-21 23:59:27.796546: W tensorflow/compiler/xla/stream_executor/cuda/cuda_driver.cc:265] failed call to cuInit: UNKNOWN ERROR (303)\n",
      "\u001b[2m\u001b[36m(pid=48891)\u001b[0m 2024-02-21 23:59:28.283977: W tensorflow/compiler/xla/stream_executor/platform/default/dso_loader.cc:64] Could not load dynamic library 'libnvinfer.so.7'; dlerror: libnvinfer.so.7: cannot open shared object file: No such file or directory\n",
      "\u001b[2m\u001b[36m(pid=48891)\u001b[0m 2024-02-21 23:59:28.284094: W tensorflow/compiler/xla/stream_executor/platform/default/dso_loader.cc:64] Could not load dynamic library 'libnvinfer_plugin.so.7'; dlerror: libnvinfer_plugin.so.7: cannot open shared object file: No such file or directory\n",
      "\u001b[2m\u001b[36m(pid=48891)\u001b[0m 2024-02-21 23:59:28.284105: W tensorflow/compiler/tf2tensorrt/utils/py_utils.cc:38] TF-TRT Warning: Cannot dlopen some TensorRT libraries. If you would like to use Nvidia GPU with TensorRT, please make sure the missing libraries mentioned above are installed properly.\n",
      "\u001b[2m\u001b[36m(pid=47563)\u001b[0m 2024-02-21 23:59:29.564815: W tensorflow/compiler/xla/stream_executor/platform/default/dso_loader.cc:64] Could not load dynamic library 'libcuda.so.1'; dlerror: libcuda.so.1: cannot open shared object file: No such file or directory\n",
      "\u001b[2m\u001b[36m(pid=47563)\u001b[0m 2024-02-21 23:59:29.564867: W tensorflow/compiler/xla/stream_executor/cuda/cuda_driver.cc:265] failed call to cuInit: UNKNOWN ERROR (303)\n",
      "\u001b[2m\u001b[36m(pid=48891)\u001b[0m 2024-02-21 23:59:31.009068: W tensorflow/compiler/xla/stream_executor/platform/default/dso_loader.cc:64] Could not load dynamic library 'libcuda.so.1'; dlerror: libcuda.so.1: cannot open shared object file: No such file or directory\n",
      "\u001b[2m\u001b[36m(pid=48891)\u001b[0m 2024-02-21 23:59:31.009134: W tensorflow/compiler/xla/stream_executor/cuda/cuda_driver.cc:265] failed call to cuInit: UNKNOWN ERROR (303)\n"
     ]
    },
    {
     "name": "stdout",
     "output_type": "stream",
     "text": [
      "Epoch 1/4\n"
     ]
    },
    {
     "name": "stderr",
     "output_type": "stream",
     "text": [
      "Train Processing: :  98%|█████████▊| 46/47 [00:07<00:00,  6.33it/s, {'loss': 1.4176621, 'accuracy': 0.6361833, 'val_loss': 0.46253237, 'val_accuracy': 0.8599}]\n",
      "Train Processing: :   2%|▏         | 1/47 [00:00<00:09,  5.04it/s]"
     ]
    },
    {
     "name": "stdout",
     "output_type": "stream",
     "text": [
      "Epoch 2/4\n"
     ]
    },
    {
     "name": "stderr",
     "output_type": "stream",
     "text": [
      "Train Processing: :  98%|█████████▊| 46/47 [00:07<00:00,  6.16it/s, {'loss': 0.41894323, 'accuracy': 0.8753143, 'val_loss': 0.28938162, 'val_accuracy': 0.9158}]\n",
      "Train Processing: :   2%|▏         | 1/47 [00:00<00:09,  4.96it/s]"
     ]
    },
    {
     "name": "stdout",
     "output_type": "stream",
     "text": [
      "Epoch 3/4\n"
     ]
    },
    {
     "name": "stderr",
     "output_type": "stream",
     "text": [
      "Train Processing: :  98%|█████████▊| 46/47 [00:07<00:00,  6.05it/s, {'loss': 0.29435745, 'accuracy': 0.91274285, 'val_loss': 0.21888216, 'val_accuracy': 0.9357}]\n",
      "Train Processing: :   0%|          | 0/47 [00:00<?, ?it/s]"
     ]
    },
    {
     "name": "stdout",
     "output_type": "stream",
     "text": [
      "Epoch 4/4\n"
     ]
    },
    {
     "name": "stderr",
     "output_type": "stream",
     "text": [
      "Train Processing: :  98%|█████████▊| 46/47 [00:07<00:00,  5.89it/s, {'loss': 0.23358403, 'accuracy': 0.9305, 'val_loss': 0.17687772, 'val_accuracy': 0.9467}]\n"
     ]
    },
    {
     "name": "stdout",
     "output_type": "stream",
     "text": [
      "cost time :  40.390313148498535\n"
     ]
    }
   ],
   "source": [
    "from secretflow.ml.nn import FLModel\n",
    "from secretflow.security.aggregation import PlainAggregator\n",
    "from secretflow.security.aggregation.experiment import LDPAggregator\n",
    "\n",
    "from utils.model import create_model\n",
    "num_classes = 10\n",
    "input_shape = (28, 28, 1)\n",
    "model = create_model(input_shape, num_classes, \"lenet\")\n",
    "\n",
    "plain_aggregator = PlainAggregator(agg_server)\n",
    "\n",
    "fed_plain_model = FLModel(server=agg_server,\n",
    "                    device_list=[devices[i] for i in range(10)],\n",
    "                    model=model,\n",
    "                    aggregator=plain_aggregator,\n",
    "                    strategy=\"fed_avg_w\",\n",
    "                    backend = \"tensorflow\")\n",
    "\n",
    "import time\n",
    "start_time = time.time()\n",
    "history = fed_plain_model.fit(x_train,\n",
    "                    y_train,\n",
    "                    validation_data=(x_test, y_test),\n",
    "                    epochs=3,\n",
    "                    sampler_method=\"batch\",\n",
    "                    batch_size=128,\n",
    "                    aggregate_freq=1)\n",
    "plain_time = time.time() - start_time\n",
    "# print(\"cost time : \", time.time()-start_time)"
   ]
  },
  {
   "cell_type": "code",
   "execution_count": 4,
   "metadata": {},
   "outputs": [
    {
     "name": "stderr",
     "output_type": "stream",
     "text": [
      "INFO:root:Create proxy actor <class 'secretflow.ml.nn.fl.backend.tensorflow.strategy.fed_avg_w.PYUFedAvgW'> with party party0.\n",
      "INFO:root:Create proxy actor <class 'secretflow.ml.nn.fl.backend.tensorflow.strategy.fed_avg_w.PYUFedAvgW'> with party party1.\n",
      "INFO:root:Create proxy actor <class 'secretflow.ml.nn.fl.backend.tensorflow.strategy.fed_avg_w.PYUFedAvgW'> with party party2.\n",
      "INFO:root:Create proxy actor <class 'secretflow.ml.nn.fl.backend.tensorflow.strategy.fed_avg_w.PYUFedAvgW'> with party party3.\n",
      "INFO:root:Create proxy actor <class 'secretflow.ml.nn.fl.backend.tensorflow.strategy.fed_avg_w.PYUFedAvgW'> with party party4.\n",
      "INFO:root:Create proxy actor <class 'secretflow.ml.nn.fl.backend.tensorflow.strategy.fed_avg_w.PYUFedAvgW'> with party party5.\n",
      "INFO:root:Create proxy actor <class 'secretflow.ml.nn.fl.backend.tensorflow.strategy.fed_avg_w.PYUFedAvgW'> with party party6.\n",
      "INFO:root:Create proxy actor <class 'secretflow.ml.nn.fl.backend.tensorflow.strategy.fed_avg_w.PYUFedAvgW'> with party party7.\n",
      "INFO:root:Create proxy actor <class 'secretflow.ml.nn.fl.backend.tensorflow.strategy.fed_avg_w.PYUFedAvgW'> with party party8.\n",
      "INFO:root:Create proxy actor <class 'secretflow.ml.nn.fl.backend.tensorflow.strategy.fed_avg_w.PYUFedAvgW'> with party party9.\n",
      "INFO:root:FL Train Params: {'x': FedNdarray(partitions={PYURuntime(party0): <secretflow.device.device.pyu.PYUObject object at 0x7f32887a0760>, PYURuntime(party1): <secretflow.device.device.pyu.PYUObject object at 0x7f32887a01f0>, PYURuntime(party2): <secretflow.device.device.pyu.PYUObject object at 0x7f3288768a90>, PYURuntime(party3): <secretflow.device.device.pyu.PYUObject object at 0x7f3288768d90>, PYURuntime(party4): <secretflow.device.device.pyu.PYUObject object at 0x7f32886e7250>, PYURuntime(party5): <secretflow.device.device.pyu.PYUObject object at 0x7f32886e70a0>, PYURuntime(party6): <secretflow.device.device.pyu.PYUObject object at 0x7f32886e7220>, PYURuntime(party7): <secretflow.device.device.pyu.PYUObject object at 0x7f32886e71f0>, PYURuntime(party8): <secretflow.device.device.pyu.PYUObject object at 0x7f32886e73a0>, PYURuntime(party9): <secretflow.device.device.pyu.PYUObject object at 0x7f311cf48250>}, partition_way=<PartitionWay.HORIZONTAL: 'horizontal'>), 'y': FedNdarray(partitions={PYURuntime(party0): <secretflow.device.device.pyu.PYUObject object at 0x7f32886e7040>, PYURuntime(party1): <secretflow.device.device.pyu.PYUObject object at 0x7f32886e7e20>, PYURuntime(party2): <secretflow.device.device.pyu.PYUObject object at 0x7f32886e7df0>, PYURuntime(party3): <secretflow.device.device.pyu.PYUObject object at 0x7f32886f4250>, PYURuntime(party4): <secretflow.device.device.pyu.PYUObject object at 0x7f32886f4160>, PYURuntime(party5): <secretflow.device.device.pyu.PYUObject object at 0x7f32886f4220>, PYURuntime(party6): <secretflow.device.device.pyu.PYUObject object at 0x7f32886f41f0>, PYURuntime(party7): <secretflow.device.device.pyu.PYUObject object at 0x7f32886e7c70>, PYURuntime(party8): <secretflow.device.device.pyu.PYUObject object at 0x7f32886e7a00>, PYURuntime(party9): <secretflow.device.device.pyu.PYUObject object at 0x7f32886e7a30>}, partition_way=<PartitionWay.HORIZONTAL: 'horizontal'>), 'batch_size': 128, 'batch_sampling_rate': None, 'epochs': 4, 'verbose': 1, 'callbacks': None, 'validation_data': (FedNdarray(partitions={PYURuntime(party0): <secretflow.device.device.pyu.PYUObject object at 0x7f32886e7790>, PYURuntime(party1): <secretflow.device.device.pyu.PYUObject object at 0x7f32886e7460>, PYURuntime(party2): <secretflow.device.device.pyu.PYUObject object at 0x7f32887a0280>, PYURuntime(party3): <secretflow.device.device.pyu.PYUObject object at 0x7f32886e7430>, PYURuntime(party4): <secretflow.device.device.pyu.PYUObject object at 0x7f3288768df0>, PYURuntime(party5): <secretflow.device.device.pyu.PYUObject object at 0x7f32886f48b0>, PYURuntime(party6): <secretflow.device.device.pyu.PYUObject object at 0x7f32886f4850>, PYURuntime(party7): <secretflow.device.device.pyu.PYUObject object at 0x7f32886f4550>, PYURuntime(party8): <secretflow.device.device.pyu.PYUObject object at 0x7f32886f4730>, PYURuntime(party9): <secretflow.device.device.pyu.PYUObject object at 0x7f32886f46a0>}, partition_way=<PartitionWay.HORIZONTAL: 'horizontal'>), FedNdarray(partitions={PYURuntime(party0): <secretflow.device.device.pyu.PYUObject object at 0x7f32886f4bb0>, PYURuntime(party1): <secretflow.device.device.pyu.PYUObject object at 0x7f32886f4310>, PYURuntime(party2): <secretflow.device.device.pyu.PYUObject object at 0x7f32886fc0a0>, PYURuntime(party3): <secretflow.device.device.pyu.PYUObject object at 0x7f32886fc130>, PYURuntime(party4): <secretflow.device.device.pyu.PYUObject object at 0x7f32886fc100>, PYURuntime(party5): <secretflow.device.device.pyu.PYUObject object at 0x7f32886fc220>, PYURuntime(party6): <secretflow.device.device.pyu.PYUObject object at 0x7f32886fc3d0>, PYURuntime(party7): <secretflow.device.device.pyu.PYUObject object at 0x7f32886fc580>, PYURuntime(party8): <secretflow.device.device.pyu.PYUObject object at 0x7f32886fc730>, PYURuntime(party9): <secretflow.device.device.pyu.PYUObject object at 0x7f32886fc8e0>}, partition_way=<PartitionWay.HORIZONTAL: 'horizontal'>)), 'shuffle': False, 'class_weight': None, 'sample_weight': None, 'validation_freq': 1, 'aggregate_freq': 1, 'label_decoder': None, 'max_batch_size': 20000, 'prefetch_buffer_size': None, 'sampler_method': 'batch', 'random_seed': 51995, 'dp_spent_step_freq': None, 'audit_log_dir': None, 'dataset_builder': None, 'wait_steps': 100, 'self': <secretflow.ml.nn.fl.fl_model.FLModel object at 0x7f31a5a8fca0>}\n",
      "Train Processing: :   0%|          | 0/47 [00:00<?, ?it/s]"
     ]
    },
    {
     "name": "stdout",
     "output_type": "stream",
     "text": [
      "Epoch 1/4\n"
     ]
    },
    {
     "name": "stderr",
     "output_type": "stream",
     "text": [
      "Train Processing: :  98%|█████████▊| 46/47 [00:07<00:00,  5.84it/s, {'loss': 1.5246555, 'accuracy': 0.55233335, 'val_loss': 0.5477062, 'val_accuracy': 0.826}]\n",
      "Train Processing: :   0%|          | 0/47 [00:00<?, ?it/s]"
     ]
    },
    {
     "name": "stdout",
     "output_type": "stream",
     "text": [
      "Epoch 2/4\n"
     ]
    },
    {
     "name": "stderr",
     "output_type": "stream",
     "text": [
      "Train Processing: :  98%|█████████▊| 46/47 [00:07<00:00,  6.08it/s, {'loss': 0.6228447, 'accuracy': 0.7981, 'val_loss': 0.35971978, 'val_accuracy': 0.9011}]\n",
      "Train Processing: :   0%|          | 0/47 [00:00<?, ?it/s]"
     ]
    },
    {
     "name": "stdout",
     "output_type": "stream",
     "text": [
      "Epoch 3/4\n"
     ]
    },
    {
     "name": "stderr",
     "output_type": "stream",
     "text": [
      "Train Processing: :  98%|█████████▊| 46/47 [00:08<00:00,  5.73it/s, {'loss': 0.4711311, 'accuracy': 0.85095716, 'val_loss': 0.29578358, 'val_accuracy': 0.9131}]\n",
      "Train Processing: :   0%|          | 0/47 [00:00<?, ?it/s]"
     ]
    },
    {
     "name": "stdout",
     "output_type": "stream",
     "text": [
      "Epoch 4/4\n"
     ]
    },
    {
     "name": "stderr",
     "output_type": "stream",
     "text": [
      "Train Processing: :  98%|█████████▊| 46/47 [00:08<00:00,  5.58it/s, {'loss': 0.3971029, 'accuracy': 0.87542856, 'val_loss': 0.24256279, 'val_accuracy': 0.9292}]\n"
     ]
    },
    {
     "name": "stdout",
     "output_type": "stream",
     "text": [
      "cost time :  41.380659103393555\n"
     ]
    }
   ],
   "source": [
    "dp_aggregator = LDPAggregator(agg_server)\n",
    "\n",
    "fed_dp_model = FLModel(server=agg_server,\n",
    "                    device_list=[devices[i] for i in range(10)],\n",
    "                    model=model,\n",
    "                    aggregator=dp_aggregator,\n",
    "                    strategy=\"fed_avg_w\",\n",
    "                    backend = \"tensorflow\")\n",
    "\n",
    "start_time = time.time()\n",
    "history_dp = fed_dp_model.fit(x_train,\n",
    "                    y_train,\n",
    "                    validation_data=(x_test, y_test),\n",
    "                    epochs=3,\n",
    "                    sampler_method=\"batch\",\n",
    "                    batch_size=128,\n",
    "                    aggregate_freq=1)\n",
    "dp_time = time.time() - start_time\n",
    "# print(\"cost time : \", time.time()-start_time)"
   ]
  },
  {
   "cell_type": "code",
   "execution_count": 5,
   "metadata": {},
   "outputs": [
    {
     "name": "stderr",
     "output_type": "stream",
     "text": [
      "INFO:root:Create proxy actor <class 'secretflow.security.aggregation.experiment.ppb_aggregator._AggregatorOperator'> with party server.\n",
      "INFO:root:Create proxy actor <class 'secretflow.security.aggregation.experiment.ppb_aggregator._WorkerOperator'> with party party0.\n",
      "INFO:root:Create proxy actor <class 'secretflow.security.aggregation.experiment.ppb_aggregator._WorkerOperator'> with party party1.\n",
      "INFO:root:Create proxy actor <class 'secretflow.security.aggregation.experiment.ppb_aggregator._WorkerOperator'> with party party2.\n",
      "INFO:root:Create proxy actor <class 'secretflow.security.aggregation.experiment.ppb_aggregator._WorkerOperator'> with party party3.\n",
      "INFO:root:Create proxy actor <class 'secretflow.security.aggregation.experiment.ppb_aggregator._WorkerOperator'> with party party4.\n",
      "INFO:root:Create proxy actor <class 'secretflow.security.aggregation.experiment.ppb_aggregator._WorkerOperator'> with party party5.\n",
      "INFO:root:Create proxy actor <class 'secretflow.security.aggregation.experiment.ppb_aggregator._WorkerOperator'> with party party6.\n",
      "INFO:root:Create proxy actor <class 'secretflow.security.aggregation.experiment.ppb_aggregator._WorkerOperator'> with party party7.\n",
      "INFO:root:Create proxy actor <class 'secretflow.security.aggregation.experiment.ppb_aggregator._WorkerOperator'> with party party8.\n",
      "INFO:root:Create proxy actor <class 'secretflow.security.aggregation.experiment.ppb_aggregator._WorkerOperator'> with party party9.\n",
      "INFO:root:Create proxy actor <class 'secretflow.ml.nn.fl.backend.tensorflow.strategy.fed_avg_w.PYUFedAvgW'> with party party0.\n",
      "INFO:root:Create proxy actor <class 'secretflow.ml.nn.fl.backend.tensorflow.strategy.fed_avg_w.PYUFedAvgW'> with party party1.\n",
      "INFO:root:Create proxy actor <class 'secretflow.ml.nn.fl.backend.tensorflow.strategy.fed_avg_w.PYUFedAvgW'> with party party2.\n",
      "INFO:root:Create proxy actor <class 'secretflow.ml.nn.fl.backend.tensorflow.strategy.fed_avg_w.PYUFedAvgW'> with party party3.\n",
      "INFO:root:Create proxy actor <class 'secretflow.ml.nn.fl.backend.tensorflow.strategy.fed_avg_w.PYUFedAvgW'> with party party4.\n",
      "INFO:root:Create proxy actor <class 'secretflow.ml.nn.fl.backend.tensorflow.strategy.fed_avg_w.PYUFedAvgW'> with party party5.\n",
      "INFO:root:Create proxy actor <class 'secretflow.ml.nn.fl.backend.tensorflow.strategy.fed_avg_w.PYUFedAvgW'> with party party6.\n",
      "INFO:root:Create proxy actor <class 'secretflow.ml.nn.fl.backend.tensorflow.strategy.fed_avg_w.PYUFedAvgW'> with party party7.\n",
      "INFO:root:Create proxy actor <class 'secretflow.ml.nn.fl.backend.tensorflow.strategy.fed_avg_w.PYUFedAvgW'> with party party8.\n",
      "INFO:root:Create proxy actor <class 'secretflow.ml.nn.fl.backend.tensorflow.strategy.fed_avg_w.PYUFedAvgW'> with party party9.\n",
      "INFO:root:FL Train Params: {'x': FedNdarray(partitions={PYURuntime(party0): <secretflow.device.device.pyu.PYUObject object at 0x7f32887a0760>, PYURuntime(party1): <secretflow.device.device.pyu.PYUObject object at 0x7f32887a01f0>, PYURuntime(party2): <secretflow.device.device.pyu.PYUObject object at 0x7f3288768a90>, PYURuntime(party3): <secretflow.device.device.pyu.PYUObject object at 0x7f3288768d90>, PYURuntime(party4): <secretflow.device.device.pyu.PYUObject object at 0x7f32886e7250>, PYURuntime(party5): <secretflow.device.device.pyu.PYUObject object at 0x7f32886e70a0>, PYURuntime(party6): <secretflow.device.device.pyu.PYUObject object at 0x7f32886e7220>, PYURuntime(party7): <secretflow.device.device.pyu.PYUObject object at 0x7f32886e71f0>, PYURuntime(party8): <secretflow.device.device.pyu.PYUObject object at 0x7f32886e73a0>, PYURuntime(party9): <secretflow.device.device.pyu.PYUObject object at 0x7f311cf48250>}, partition_way=<PartitionWay.HORIZONTAL: 'horizontal'>), 'y': FedNdarray(partitions={PYURuntime(party0): <secretflow.device.device.pyu.PYUObject object at 0x7f32886e7040>, PYURuntime(party1): <secretflow.device.device.pyu.PYUObject object at 0x7f32886e7e20>, PYURuntime(party2): <secretflow.device.device.pyu.PYUObject object at 0x7f32886e7df0>, PYURuntime(party3): <secretflow.device.device.pyu.PYUObject object at 0x7f32886f4250>, PYURuntime(party4): <secretflow.device.device.pyu.PYUObject object at 0x7f32886f4160>, PYURuntime(party5): <secretflow.device.device.pyu.PYUObject object at 0x7f32886f4220>, PYURuntime(party6): <secretflow.device.device.pyu.PYUObject object at 0x7f32886f41f0>, PYURuntime(party7): <secretflow.device.device.pyu.PYUObject object at 0x7f32886e7c70>, PYURuntime(party8): <secretflow.device.device.pyu.PYUObject object at 0x7f32886e7a00>, PYURuntime(party9): <secretflow.device.device.pyu.PYUObject object at 0x7f32886e7a30>}, partition_way=<PartitionWay.HORIZONTAL: 'horizontal'>), 'batch_size': 128, 'batch_sampling_rate': None, 'epochs': 4, 'verbose': 1, 'callbacks': None, 'validation_data': (FedNdarray(partitions={PYURuntime(party0): <secretflow.device.device.pyu.PYUObject object at 0x7f32886e7790>, PYURuntime(party1): <secretflow.device.device.pyu.PYUObject object at 0x7f32886e7460>, PYURuntime(party2): <secretflow.device.device.pyu.PYUObject object at 0x7f32887a0280>, PYURuntime(party3): <secretflow.device.device.pyu.PYUObject object at 0x7f32886e7430>, PYURuntime(party4): <secretflow.device.device.pyu.PYUObject object at 0x7f3288768df0>, PYURuntime(party5): <secretflow.device.device.pyu.PYUObject object at 0x7f32886f48b0>, PYURuntime(party6): <secretflow.device.device.pyu.PYUObject object at 0x7f32886f4850>, PYURuntime(party7): <secretflow.device.device.pyu.PYUObject object at 0x7f32886f4550>, PYURuntime(party8): <secretflow.device.device.pyu.PYUObject object at 0x7f32886f4730>, PYURuntime(party9): <secretflow.device.device.pyu.PYUObject object at 0x7f32886f46a0>}, partition_way=<PartitionWay.HORIZONTAL: 'horizontal'>), FedNdarray(partitions={PYURuntime(party0): <secretflow.device.device.pyu.PYUObject object at 0x7f32886f4bb0>, PYURuntime(party1): <secretflow.device.device.pyu.PYUObject object at 0x7f32886f4310>, PYURuntime(party2): <secretflow.device.device.pyu.PYUObject object at 0x7f32886fc0a0>, PYURuntime(party3): <secretflow.device.device.pyu.PYUObject object at 0x7f32886fc130>, PYURuntime(party4): <secretflow.device.device.pyu.PYUObject object at 0x7f32886fc100>, PYURuntime(party5): <secretflow.device.device.pyu.PYUObject object at 0x7f32886fc220>, PYURuntime(party6): <secretflow.device.device.pyu.PYUObject object at 0x7f32886fc3d0>, PYURuntime(party7): <secretflow.device.device.pyu.PYUObject object at 0x7f32886fc580>, PYURuntime(party8): <secretflow.device.device.pyu.PYUObject object at 0x7f32886fc730>, PYURuntime(party9): <secretflow.device.device.pyu.PYUObject object at 0x7f32886fc8e0>}, partition_way=<PartitionWay.HORIZONTAL: 'horizontal'>)), 'shuffle': False, 'class_weight': None, 'sample_weight': None, 'validation_freq': 1, 'aggregate_freq': 1, 'label_decoder': None, 'max_batch_size': 20000, 'prefetch_buffer_size': None, 'sampler_method': 'batch', 'random_seed': 93540, 'dp_spent_step_freq': None, 'audit_log_dir': None, 'dataset_builder': None, 'wait_steps': 100, 'self': <secretflow.ml.nn.fl.fl_model.FLModel object at 0x7f31a5b06940>}\n",
      "Train Processing: :   0%|          | 0/47 [00:00<?, ?it/s]"
     ]
    },
    {
     "name": "stdout",
     "output_type": "stream",
     "text": [
      "Epoch 1/4\n"
     ]
    },
    {
     "name": "stderr",
     "output_type": "stream",
     "text": [
      "Train Processing: :  98%|█████████▊| 46/47 [11:12<00:14, 14.62s/it, {'loss': 1.4399544, 'accuracy': 0.63951665, 'val_loss': 0.4786009, 'val_accuracy': 0.8572}]\n",
      "Train Processing: :   0%|          | 0/47 [00:00<?, ?it/s]"
     ]
    },
    {
     "name": "stdout",
     "output_type": "stream",
     "text": [
      "Epoch 2/4\n"
     ]
    },
    {
     "name": "stderr",
     "output_type": "stream",
     "text": [
      "Train Processing: :  98%|█████████▊| 46/47 [10:47<00:14, 14.07s/it, {'loss': 0.42937872, 'accuracy': 0.87191427, 'val_loss': 0.29531133, 'val_accuracy': 0.9152}]\n",
      "Train Processing: :   0%|          | 0/47 [00:00<?, ?it/s]"
     ]
    },
    {
     "name": "stdout",
     "output_type": "stream",
     "text": [
      "Epoch 3/4\n"
     ]
    },
    {
     "name": "stderr",
     "output_type": "stream",
     "text": [
      "Train Processing: :  98%|█████████▊| 46/47 [10:51<00:14, 14.17s/it, {'loss': 0.29758835, 'accuracy': 0.91307145, 'val_loss': 0.21889831, 'val_accuracy': 0.936}]\n",
      "Train Processing: :   0%|          | 0/47 [00:00<?, ?it/s]"
     ]
    },
    {
     "name": "stdout",
     "output_type": "stream",
     "text": [
      "Epoch 4/4\n"
     ]
    },
    {
     "name": "stderr",
     "output_type": "stream",
     "text": [
      "Train Processing: :  98%|█████████▊| 46/47 [10:55<00:14, 14.25s/it, {'loss': 0.23192924, 'accuracy': 0.93235713, 'val_loss': 0.17528027, 'val_accuracy': 0.949}]\n"
     ]
    },
    {
     "name": "stdout",
     "output_type": "stream",
     "text": [
      "cost time :  2630.1735496520996\n"
     ]
    }
   ],
   "source": [
    "from secretflow.security.aggregation.experiment.ppb_aggregator import PPBAggregator\n",
    "\n",
    "he_aggregator = PPBAggregator(agg_server, [devices[i] for i in range(10)])\n",
    "\n",
    "fed_he_model = FLModel(server=agg_server,\n",
    "                    device_list=[devices[i] for i in range(10)],\n",
    "                    model=model,\n",
    "                    aggregator=he_aggregator,\n",
    "                    strategy=\"fed_avg_w\",\n",
    "                    backend = \"tensorflow\")\n",
    "\n",
    "start_time = time.time()\n",
    "history_phe = fed_he_model.fit(x_train,\n",
    "                    y_train,\n",
    "                    validation_data=(x_test, y_test),\n",
    "                    epochs=3,\n",
    "                    sampler_method=\"batch\",\n",
    "                    batch_size=128,\n",
    "                    aggregate_freq=1)\n",
    "phe_time = time.time() - start_time\n",
    "# print(\"cost time : \", time.time()-start_time)"
   ]
  },
  {
   "cell_type": "code",
   "execution_count": 7,
   "metadata": {},
   "outputs": [
    {
     "name": "stderr",
     "output_type": "stream",
     "text": [
      "INFO:root:Create proxy actor <class 'secretflow.ml.nn.fl.backend.tensorflow.strategy.fed_avg_w.PYUFedAvgW'> with party party0.\n",
      "INFO:root:Create proxy actor <class 'secretflow.ml.nn.fl.backend.tensorflow.strategy.fed_avg_w.PYUFedAvgW'> with party party1.\n",
      "INFO:root:Create proxy actor <class 'secretflow.ml.nn.fl.backend.tensorflow.strategy.fed_avg_w.PYUFedAvgW'> with party party2.\n",
      "INFO:root:Create proxy actor <class 'secretflow.ml.nn.fl.backend.tensorflow.strategy.fed_avg_w.PYUFedAvgW'> with party party3.\n",
      "INFO:root:Create proxy actor <class 'secretflow.ml.nn.fl.backend.tensorflow.strategy.fed_avg_w.PYUFedAvgW'> with party party4.\n",
      "INFO:root:Create proxy actor <class 'secretflow.ml.nn.fl.backend.tensorflow.strategy.fed_avg_w.PYUFedAvgW'> with party party5.\n",
      "INFO:root:Create proxy actor <class 'secretflow.ml.nn.fl.backend.tensorflow.strategy.fed_avg_w.PYUFedAvgW'> with party party6.\n",
      "INFO:root:Create proxy actor <class 'secretflow.ml.nn.fl.backend.tensorflow.strategy.fed_avg_w.PYUFedAvgW'> with party party7.\n",
      "INFO:root:Create proxy actor <class 'secretflow.ml.nn.fl.backend.tensorflow.strategy.fed_avg_w.PYUFedAvgW'> with party party8.\n",
      "INFO:root:Create proxy actor <class 'secretflow.ml.nn.fl.backend.tensorflow.strategy.fed_avg_w.PYUFedAvgW'> with party party9.\n",
      "INFO:root:FL Train Params: {'x': FedNdarray(partitions={PYURuntime(party0): <secretflow.device.device.pyu.PYUObject object at 0x7f32887a0760>, PYURuntime(party1): <secretflow.device.device.pyu.PYUObject object at 0x7f32887a01f0>, PYURuntime(party2): <secretflow.device.device.pyu.PYUObject object at 0x7f3288768a90>, PYURuntime(party3): <secretflow.device.device.pyu.PYUObject object at 0x7f3288768d90>, PYURuntime(party4): <secretflow.device.device.pyu.PYUObject object at 0x7f32886e7250>, PYURuntime(party5): <secretflow.device.device.pyu.PYUObject object at 0x7f32886e70a0>, PYURuntime(party6): <secretflow.device.device.pyu.PYUObject object at 0x7f32886e7220>, PYURuntime(party7): <secretflow.device.device.pyu.PYUObject object at 0x7f32886e71f0>, PYURuntime(party8): <secretflow.device.device.pyu.PYUObject object at 0x7f32886e73a0>, PYURuntime(party9): <secretflow.device.device.pyu.PYUObject object at 0x7f311cf48250>}, partition_way=<PartitionWay.HORIZONTAL: 'horizontal'>), 'y': FedNdarray(partitions={PYURuntime(party0): <secretflow.device.device.pyu.PYUObject object at 0x7f32886e7040>, PYURuntime(party1): <secretflow.device.device.pyu.PYUObject object at 0x7f32886e7e20>, PYURuntime(party2): <secretflow.device.device.pyu.PYUObject object at 0x7f32886e7df0>, PYURuntime(party3): <secretflow.device.device.pyu.PYUObject object at 0x7f32886f4250>, PYURuntime(party4): <secretflow.device.device.pyu.PYUObject object at 0x7f32886f4160>, PYURuntime(party5): <secretflow.device.device.pyu.PYUObject object at 0x7f32886f4220>, PYURuntime(party6): <secretflow.device.device.pyu.PYUObject object at 0x7f32886f41f0>, PYURuntime(party7): <secretflow.device.device.pyu.PYUObject object at 0x7f32886e7c70>, PYURuntime(party8): <secretflow.device.device.pyu.PYUObject object at 0x7f32886e7a00>, PYURuntime(party9): <secretflow.device.device.pyu.PYUObject object at 0x7f32886e7a30>}, partition_way=<PartitionWay.HORIZONTAL: 'horizontal'>), 'batch_size': 128, 'batch_sampling_rate': None, 'epochs': 4, 'verbose': 1, 'callbacks': None, 'validation_data': (FedNdarray(partitions={PYURuntime(party0): <secretflow.device.device.pyu.PYUObject object at 0x7f32886e7790>, PYURuntime(party1): <secretflow.device.device.pyu.PYUObject object at 0x7f32886e7460>, PYURuntime(party2): <secretflow.device.device.pyu.PYUObject object at 0x7f32887a0280>, PYURuntime(party3): <secretflow.device.device.pyu.PYUObject object at 0x7f32886e7430>, PYURuntime(party4): <secretflow.device.device.pyu.PYUObject object at 0x7f3288768df0>, PYURuntime(party5): <secretflow.device.device.pyu.PYUObject object at 0x7f32886f48b0>, PYURuntime(party6): <secretflow.device.device.pyu.PYUObject object at 0x7f32886f4850>, PYURuntime(party7): <secretflow.device.device.pyu.PYUObject object at 0x7f32886f4550>, PYURuntime(party8): <secretflow.device.device.pyu.PYUObject object at 0x7f32886f4730>, PYURuntime(party9): <secretflow.device.device.pyu.PYUObject object at 0x7f32886f46a0>}, partition_way=<PartitionWay.HORIZONTAL: 'horizontal'>), FedNdarray(partitions={PYURuntime(party0): <secretflow.device.device.pyu.PYUObject object at 0x7f32886f4bb0>, PYURuntime(party1): <secretflow.device.device.pyu.PYUObject object at 0x7f32886f4310>, PYURuntime(party2): <secretflow.device.device.pyu.PYUObject object at 0x7f32886fc0a0>, PYURuntime(party3): <secretflow.device.device.pyu.PYUObject object at 0x7f32886fc130>, PYURuntime(party4): <secretflow.device.device.pyu.PYUObject object at 0x7f32886fc100>, PYURuntime(party5): <secretflow.device.device.pyu.PYUObject object at 0x7f32886fc220>, PYURuntime(party6): <secretflow.device.device.pyu.PYUObject object at 0x7f32886fc3d0>, PYURuntime(party7): <secretflow.device.device.pyu.PYUObject object at 0x7f32886fc580>, PYURuntime(party8): <secretflow.device.device.pyu.PYUObject object at 0x7f32886fc730>, PYURuntime(party9): <secretflow.device.device.pyu.PYUObject object at 0x7f32886fc8e0>}, partition_way=<PartitionWay.HORIZONTAL: 'horizontal'>)), 'shuffle': False, 'class_weight': None, 'sample_weight': None, 'validation_freq': 1, 'aggregate_freq': 1, 'label_decoder': None, 'max_batch_size': 20000, 'prefetch_buffer_size': None, 'sampler_method': 'batch', 'random_seed': 66817, 'dp_spent_step_freq': None, 'audit_log_dir': None, 'dataset_builder': None, 'wait_steps': 100, 'self': <secretflow.ml.nn.fl.fl_model.FLModel object at 0x7f31a5ab7ca0>}\n",
      "Train Processing: :   0%|          | 0/47 [00:00<?, ?it/s]"
     ]
    },
    {
     "name": "stdout",
     "output_type": "stream",
     "text": [
      "Epoch 1/4\n"
     ]
    },
    {
     "name": "stdout",
     "output_type": "stream",
     "text": [
      "\u001b[2m\u001b[36m(SPURuntime(device_id=None, party=party0) pid=33359)\u001b[0m 2024-02-21 23:59:33.060 [info] [thread_pool.cc:ThreadPool:30] Create a fixed thread pool with size 63\n",
      "\u001b[2m\u001b[36m(SPURuntime(device_id=None, party=party2) pid=33361)\u001b[0m 2024-02-21 23:59:33.052 [info] [thread_pool.cc:ThreadPool:30] Create a fixed thread pool with size 63\n",
      "\u001b[2m\u001b[36m(SPURuntime(device_id=None, party=party3) pid=33364)\u001b[0m 2024-02-21 23:59:33.052 [info] [thread_pool.cc:ThreadPool:30] Create a fixed thread pool with size 63\n",
      "\u001b[2m\u001b[36m(SPURuntime(device_id=None, party=party1) pid=33360)\u001b[0m 2024-02-21 23:59:33.052 [info] [thread_pool.cc:ThreadPool:30] Create a fixed thread pool with size 63\n",
      "\u001b[2m\u001b[36m(SPURuntime(device_id=None, party=party4) pid=33366)\u001b[0m 2024-02-21 23:59:33.053 [info] [thread_pool.cc:ThreadPool:30] Create a fixed thread pool with size 63\n",
      "\u001b[2m\u001b[36m(SPURuntime(device_id=None, party=party5) pid=33369)\u001b[0m 2024-02-21 23:59:33.052 [info] [thread_pool.cc:ThreadPool:30] Create a fixed thread pool with size 63\n",
      "\u001b[2m\u001b[36m(SPURuntime(device_id=None, party=party8) pid=33730)\u001b[0m 2024-02-21 23:59:33.054 [info] [thread_pool.cc:ThreadPool:30] Create a fixed thread pool with size 63\n",
      "\u001b[2m\u001b[36m(SPURuntime(device_id=None, party=party7) pid=33727)\u001b[0m 2024-02-21 23:59:33.053 [info] [thread_pool.cc:ThreadPool:30] Create a fixed thread pool with size 63\n",
      "\u001b[2m\u001b[36m(SPURuntime(device_id=None, party=party9) pid=33874)\u001b[0m 2024-02-21 23:59:33.052 [info] [thread_pool.cc:ThreadPool:30] Create a fixed thread pool with size 63\n",
      "\u001b[2m\u001b[36m(SPURuntime(device_id=None, party=party6) pid=33571)\u001b[0m 2024-02-21 23:59:33.052 [info] [thread_pool.cc:ThreadPool:30] Create a fixed thread pool with size 63\n"
     ]
    },
    {
     "name": "stderr",
     "output_type": "stream",
     "text": [
      "Train Processing: :  98%|█████████▊| 46/47 [08:05<00:10, 10.55s/it, {'loss': 1.3643438, 'accuracy': 0.6537667, 'val_loss': 0.46685177, 'val_accuracy': 0.8608}]\n",
      "Train Processing: :   0%|          | 0/47 [00:00<?, ?it/s]"
     ]
    },
    {
     "name": "stdout",
     "output_type": "stream",
     "text": [
      "Epoch 2/4\n"
     ]
    },
    {
     "name": "stderr",
     "output_type": "stream",
     "text": [
      "Train Processing: :  98%|█████████▊| 46/47 [08:17<00:10, 10.82s/it, {'loss': 0.42954648, 'accuracy': 0.8720143, 'val_loss': 0.29634842, 'val_accuracy': 0.9153}]\n",
      "Train Processing: :   0%|          | 0/47 [00:00<?, ?it/s]"
     ]
    },
    {
     "name": "stdout",
     "output_type": "stream",
     "text": [
      "Epoch 3/4\n"
     ]
    },
    {
     "name": "stderr",
     "output_type": "stream",
     "text": [
      "Train Processing: :  30%|██▉       | 14/47 [02:39<05:48, 10.55s/it]"
     ]
    },
    {
     "ename": "KeyboardInterrupt",
     "evalue": "",
     "output_type": "error",
     "traceback": [
      "\u001b[0;31m---------------------------------------------------------------------------\u001b[0m",
      "\u001b[0;31mKeyboardInterrupt\u001b[0m                         Traceback (most recent call last)",
      "\u001b[1;32m/home/yejj/experiments/chapter3_exp1/minist/plain.ipynb Cell 6\u001b[0m line \u001b[0;36m2\n\u001b[1;32m     <a href='vscode-notebook-cell://ssh-remote%2B192.168.88.66/home/yejj/experiments/chapter3_exp1/minist/plain.ipynb#W6sdnNjb2RlLXJlbW90ZQ%3D%3D?line=19'>20</a>\u001b[0m \u001b[39mimport\u001b[39;00m \u001b[39mtime\u001b[39;00m\n\u001b[1;32m     <a href='vscode-notebook-cell://ssh-remote%2B192.168.88.66/home/yejj/experiments/chapter3_exp1/minist/plain.ipynb#W6sdnNjb2RlLXJlbW90ZQ%3D%3D?line=20'>21</a>\u001b[0m start_time \u001b[39m=\u001b[39m time\u001b[39m.\u001b[39mtime()\n\u001b[0;32m---> <a href='vscode-notebook-cell://ssh-remote%2B192.168.88.66/home/yejj/experiments/chapter3_exp1/minist/plain.ipynb#W6sdnNjb2RlLXJlbW90ZQ%3D%3D?line=21'>22</a>\u001b[0m history \u001b[39m=\u001b[39m fed_ss_model\u001b[39m.\u001b[39;49mfit(x_train,\n\u001b[1;32m     <a href='vscode-notebook-cell://ssh-remote%2B192.168.88.66/home/yejj/experiments/chapter3_exp1/minist/plain.ipynb#W6sdnNjb2RlLXJlbW90ZQ%3D%3D?line=22'>23</a>\u001b[0m                     y_train,\n\u001b[1;32m     <a href='vscode-notebook-cell://ssh-remote%2B192.168.88.66/home/yejj/experiments/chapter3_exp1/minist/plain.ipynb#W6sdnNjb2RlLXJlbW90ZQ%3D%3D?line=23'>24</a>\u001b[0m                     validation_data\u001b[39m=\u001b[39;49m(x_test, y_test),\n\u001b[1;32m     <a href='vscode-notebook-cell://ssh-remote%2B192.168.88.66/home/yejj/experiments/chapter3_exp1/minist/plain.ipynb#W6sdnNjb2RlLXJlbW90ZQ%3D%3D?line=24'>25</a>\u001b[0m                     epochs\u001b[39m=\u001b[39;49m\u001b[39m4\u001b[39;49m,\n\u001b[1;32m     <a href='vscode-notebook-cell://ssh-remote%2B192.168.88.66/home/yejj/experiments/chapter3_exp1/minist/plain.ipynb#W6sdnNjb2RlLXJlbW90ZQ%3D%3D?line=25'>26</a>\u001b[0m                     sampler_method\u001b[39m=\u001b[39;49m\u001b[39m\"\u001b[39;49m\u001b[39mbatch\u001b[39;49m\u001b[39m\"\u001b[39;49m,\n\u001b[1;32m     <a href='vscode-notebook-cell://ssh-remote%2B192.168.88.66/home/yejj/experiments/chapter3_exp1/minist/plain.ipynb#W6sdnNjb2RlLXJlbW90ZQ%3D%3D?line=26'>27</a>\u001b[0m                     batch_size\u001b[39m=\u001b[39;49m\u001b[39m128\u001b[39;49m,\n\u001b[1;32m     <a href='vscode-notebook-cell://ssh-remote%2B192.168.88.66/home/yejj/experiments/chapter3_exp1/minist/plain.ipynb#W6sdnNjb2RlLXJlbW90ZQ%3D%3D?line=27'>28</a>\u001b[0m                     aggregate_freq\u001b[39m=\u001b[39;49m\u001b[39m1\u001b[39;49m)\n\u001b[1;32m     <a href='vscode-notebook-cell://ssh-remote%2B192.168.88.66/home/yejj/experiments/chapter3_exp1/minist/plain.ipynb#W6sdnNjb2RlLXJlbW90ZQ%3D%3D?line=29'>30</a>\u001b[0m \u001b[39mprint\u001b[39m(\u001b[39m\"\u001b[39m\u001b[39mcost time : \u001b[39m\u001b[39m\"\u001b[39m, time\u001b[39m.\u001b[39mtime()\u001b[39m-\u001b[39mstart_time)\n",
      "File \u001b[0;32m~/miniconda3/envs/sf/lib/python3.8/site-packages/secretflow/ml/nn/fl/fl_model.py:567\u001b[0m, in \u001b[0;36mFLModel.fit\u001b[0;34m(self, x, y, batch_size, batch_sampling_rate, epochs, verbose, callbacks, validation_data, shuffle, class_weight, sample_weight, validation_freq, aggregate_freq, label_decoder, max_batch_size, prefetch_buffer_size, sampler_method, random_seed, dp_spent_step_freq, audit_log_dir, dataset_builder, wait_steps)\u001b[0m\n\u001b[1;32m    565\u001b[0m     \u001b[39mif\u001b[39;00m \u001b[39mself\u001b[39m\u001b[39m.\u001b[39m_aggregator \u001b[39mis\u001b[39;00m \u001b[39mnot\u001b[39;00m \u001b[39mNone\u001b[39;00m:\n\u001b[1;32m    566\u001b[0m         model_params_list \u001b[39m=\u001b[39m [model_params \u001b[39mfor\u001b[39;00m _ \u001b[39min\u001b[39;00m \u001b[39mself\u001b[39m\u001b[39m.\u001b[39mdevice_list]\n\u001b[0;32m--> 567\u001b[0m         model_params_list \u001b[39m=\u001b[39m [\n\u001b[1;32m    568\u001b[0m             params\u001b[39m.\u001b[39mto(device)\n\u001b[1;32m    569\u001b[0m             \u001b[39mfor\u001b[39;00m device, params \u001b[39min\u001b[39;00m \u001b[39mzip\u001b[39m(\u001b[39mself\u001b[39m\u001b[39m.\u001b[39mdevice_list, model_params_list)\n\u001b[1;32m    570\u001b[0m         ]\n\u001b[1;32m    571\u001b[0m     callbacks\u001b[39m.\u001b[39mon_train_batch_end(batch\u001b[39m=\u001b[39mstep)\n\u001b[1;32m    573\u001b[0m \u001b[39m# last batch\u001b[39;00m\n",
      "File \u001b[0;32m~/miniconda3/envs/sf/lib/python3.8/site-packages/secretflow/ml/nn/fl/fl_model.py:568\u001b[0m, in \u001b[0;36m<listcomp>\u001b[0;34m(.0)\u001b[0m\n\u001b[1;32m    565\u001b[0m     \u001b[39mif\u001b[39;00m \u001b[39mself\u001b[39m\u001b[39m.\u001b[39m_aggregator \u001b[39mis\u001b[39;00m \u001b[39mnot\u001b[39;00m \u001b[39mNone\u001b[39;00m:\n\u001b[1;32m    566\u001b[0m         model_params_list \u001b[39m=\u001b[39m [model_params \u001b[39mfor\u001b[39;00m _ \u001b[39min\u001b[39;00m \u001b[39mself\u001b[39m\u001b[39m.\u001b[39mdevice_list]\n\u001b[1;32m    567\u001b[0m         model_params_list \u001b[39m=\u001b[39m [\n\u001b[0;32m--> 568\u001b[0m             params\u001b[39m.\u001b[39;49mto(device)\n\u001b[1;32m    569\u001b[0m             \u001b[39mfor\u001b[39;00m device, params \u001b[39min\u001b[39;00m \u001b[39mzip\u001b[39m(\u001b[39mself\u001b[39m\u001b[39m.\u001b[39mdevice_list, model_params_list)\n\u001b[1;32m    570\u001b[0m         ]\n\u001b[1;32m    571\u001b[0m     callbacks\u001b[39m.\u001b[39mon_train_batch_end(batch\u001b[39m=\u001b[39mstep)\n\u001b[1;32m    573\u001b[0m \u001b[39m# last batch\u001b[39;00m\n",
      "File \u001b[0;32m~/miniconda3/envs/sf/lib/python3.8/site-packages/secretflow/device/device/base.py:70\u001b[0m, in \u001b[0;36mDeviceObject.to\u001b[0;34m(self, device, *args, **kwargs)\u001b[0m\n\u001b[1;32m     60\u001b[0m \u001b[39mdef\u001b[39;00m \u001b[39mto\u001b[39m(\u001b[39mself\u001b[39m, device: Device, \u001b[39m*\u001b[39margs, \u001b[39m*\u001b[39m\u001b[39m*\u001b[39mkwargs):\n\u001b[1;32m     61\u001b[0m \u001b[39m    \u001b[39m\u001b[39m\"\"\"Device object conversion.\u001b[39;00m\n\u001b[1;32m     62\u001b[0m \n\u001b[1;32m     63\u001b[0m \u001b[39m    Args:\u001b[39;00m\n\u001b[0;32m   (...)\u001b[0m\n\u001b[1;32m     68\u001b[0m \u001b[39m        DeviceObject: Target device object.\u001b[39;00m\n\u001b[1;32m     69\u001b[0m \u001b[39m    \"\"\"\u001b[39;00m\n\u001b[0;32m---> 70\u001b[0m     \u001b[39mreturn\u001b[39;00m dispatch(_name_of_to(device\u001b[39m.\u001b[39;49mdevice_type), \u001b[39mself\u001b[39;49m, device, \u001b[39m*\u001b[39;49margs, \u001b[39m*\u001b[39;49m\u001b[39m*\u001b[39;49mkwargs)\n",
      "File \u001b[0;32m~/miniconda3/envs/sf/lib/python3.8/site-packages/secretflow/device/device/register.py:111\u001b[0m, in \u001b[0;36mdispatch\u001b[0;34m(name, self, *args, **kwargs)\u001b[0m\n\u001b[1;32m    101\u001b[0m \u001b[39mdef\u001b[39;00m \u001b[39mdispatch\u001b[39m(name: \u001b[39mstr\u001b[39m, \u001b[39mself\u001b[39m, \u001b[39m*\u001b[39margs, \u001b[39m*\u001b[39m\u001b[39m*\u001b[39mkwargs):\n\u001b[1;32m    102\u001b[0m \u001b[39m    \u001b[39m\u001b[39m\"\"\"Dispatch device kernel.\u001b[39;00m\n\u001b[1;32m    103\u001b[0m \n\u001b[1;32m    104\u001b[0m \u001b[39m    Args:\u001b[39;00m\n\u001b[0;32m   (...)\u001b[0m\n\u001b[1;32m    109\u001b[0m \u001b[39m        Kernel execution result.\u001b[39;00m\n\u001b[1;32m    110\u001b[0m \u001b[39m    \"\"\"\u001b[39;00m\n\u001b[0;32m--> 111\u001b[0m     \u001b[39mreturn\u001b[39;00m _registrar\u001b[39m.\u001b[39;49mdispatch(\u001b[39mself\u001b[39;49m\u001b[39m.\u001b[39;49mdevice_type, name, \u001b[39mself\u001b[39;49m, \u001b[39m*\u001b[39;49margs, \u001b[39m*\u001b[39;49m\u001b[39m*\u001b[39;49mkwargs)\n",
      "File \u001b[0;32m~/miniconda3/envs/sf/lib/python3.8/site-packages/secretflow/device/device/register.py:80\u001b[0m, in \u001b[0;36mRegistrar.dispatch\u001b[0;34m(self, device_type, name, *args, **kwargs)\u001b[0m\n\u001b[1;32m     78\u001b[0m \u001b[39mif\u001b[39;00m name \u001b[39mnot\u001b[39;00m \u001b[39min\u001b[39;00m \u001b[39mself\u001b[39m\u001b[39m.\u001b[39m_ops[device_type]:\n\u001b[1;32m     79\u001b[0m     \u001b[39mraise\u001b[39;00m \u001b[39mKeyError\u001b[39;00m(\u001b[39mf\u001b[39m\u001b[39m'\u001b[39m\u001b[39mdevice: \u001b[39m\u001b[39m{\u001b[39;00mdevice_type\u001b[39m}\u001b[39;00m\u001b[39m, op: \u001b[39m\u001b[39m{\u001b[39;00mname\u001b[39m}\u001b[39;00m\u001b[39m not registered\u001b[39m\u001b[39m'\u001b[39m)\n\u001b[0;32m---> 80\u001b[0m \u001b[39mreturn\u001b[39;00m \u001b[39mself\u001b[39;49m\u001b[39m.\u001b[39;49m_ops[device_type][name](\u001b[39m*\u001b[39;49margs, \u001b[39m*\u001b[39;49m\u001b[39m*\u001b[39;49mkwargs)\n",
      "File \u001b[0;32m~/miniconda3/envs/sf/lib/python3.8/site-packages/secretflow/device/kernels/spu.py:48\u001b[0m, in \u001b[0;36mspu_to_pyu\u001b[0;34m(self, pyu, config)\u001b[0m\n\u001b[1;32m     42\u001b[0m     io \u001b[39m=\u001b[39m SPUIO(conf, world_size)\n\u001b[1;32m     43\u001b[0m     \u001b[39mreturn\u001b[39;00m io\u001b[39m.\u001b[39mreconstruct(share_chunks, io_info, meta)\n\u001b[1;32m     45\u001b[0m \u001b[39mreturn\u001b[39;00m pyu(reveal)(\n\u001b[1;32m     46\u001b[0m     \u001b[39mself\u001b[39m\u001b[39m.\u001b[39mdevice\u001b[39m.\u001b[39mconf,\n\u001b[1;32m     47\u001b[0m     \u001b[39mself\u001b[39m\u001b[39m.\u001b[39mdevice\u001b[39m.\u001b[39mworld_size,\n\u001b[0;32m---> 48\u001b[0m     \u001b[39m*\u001b[39m\u001b[39mself\u001b[39;49m\u001b[39m.\u001b[39;49mdevice\u001b[39m.\u001b[39;49moutfeed_shares(\u001b[39mself\u001b[39;49m\u001b[39m.\u001b[39;49mshares_name),\n\u001b[1;32m     49\u001b[0m     \u001b[39mself\u001b[39m\u001b[39m.\u001b[39mmeta,\n\u001b[1;32m     50\u001b[0m )\n",
      "File \u001b[0;32m~/miniconda3/envs/sf/lib/python3.8/site-packages/secretflow/device/device/spu.py:1905\u001b[0m, in \u001b[0;36mSPU.outfeed_shares\u001b[0;34m(self, shares_name)\u001b[0m\n\u001b[1;32m   1897\u001b[0m \u001b[39mdef\u001b[39;00m \u001b[39moutfeed_shares\u001b[39m(\n\u001b[1;32m   1898\u001b[0m     \u001b[39mself\u001b[39m, shares_name: List[Union[ray\u001b[39m.\u001b[39mObjectRef, fed\u001b[39m.\u001b[39mFedObject]]\n\u001b[1;32m   1899\u001b[0m ) \u001b[39m-\u001b[39m\u001b[39m>\u001b[39m Tuple[\n\u001b[1;32m   1900\u001b[0m     Union[ray\u001b[39m.\u001b[39mObjectRef, fed\u001b[39m.\u001b[39mFedObject],\n\u001b[1;32m   1901\u001b[0m     List[Union[ray\u001b[39m.\u001b[39mObjectRef, fed\u001b[39m.\u001b[39mFedObject]],\n\u001b[1;32m   1902\u001b[0m ]:\n\u001b[1;32m   1903\u001b[0m     \u001b[39massert\u001b[39;00m \u001b[39mlen\u001b[39m(shares_name) \u001b[39m==\u001b[39m \u001b[39mlen\u001b[39m(\u001b[39mself\u001b[39m\u001b[39m.\u001b[39mactors)\n\u001b[0;32m-> 1905\u001b[0m     shares_chunk_count \u001b[39m=\u001b[39m sfd\u001b[39m.\u001b[39;49mget(\n\u001b[1;32m   1906\u001b[0m         (\u001b[39mnext\u001b[39;49m(\u001b[39miter\u001b[39;49m(\u001b[39mself\u001b[39;49m\u001b[39m.\u001b[39;49mactors\u001b[39m.\u001b[39;49mvalues())))\u001b[39m.\u001b[39;49moutfeed_shares_chunk_count\u001b[39m.\u001b[39;49mremote(\n\u001b[1;32m   1907\u001b[0m             shares_name[\u001b[39m0\u001b[39;49m]\n\u001b[1;32m   1908\u001b[0m         )\n\u001b[1;32m   1909\u001b[0m     )\n\u001b[1;32m   1911\u001b[0m     ret \u001b[39m=\u001b[39m []\n\u001b[1;32m   1912\u001b[0m     \u001b[39mfor\u001b[39;00m i, actor \u001b[39min\u001b[39;00m \u001b[39menumerate\u001b[39m(\u001b[39mself\u001b[39m\u001b[39m.\u001b[39mactors\u001b[39m.\u001b[39mvalues()):\n",
      "File \u001b[0;32m~/miniconda3/envs/sf/lib/python3.8/site-packages/secretflow/distributed/primitive.py:158\u001b[0m, in \u001b[0;36mget\u001b[0;34m(object_refs)\u001b[0m\n\u001b[1;32m    156\u001b[0m     \u001b[39mreturn\u001b[39;00m fed\u001b[39m.\u001b[39mget(object_refs)\n\u001b[1;32m    157\u001b[0m \u001b[39melif\u001b[39;00m get_distribution_mode() \u001b[39m==\u001b[39m DISTRIBUTION_MODE\u001b[39m.\u001b[39mSIMULATION:\n\u001b[0;32m--> 158\u001b[0m     \u001b[39mreturn\u001b[39;00m ray\u001b[39m.\u001b[39;49mget(object_refs)\n\u001b[1;32m    159\u001b[0m \u001b[39melif\u001b[39;00m get_distribution_mode() \u001b[39m==\u001b[39m DISTRIBUTION_MODE\u001b[39m.\u001b[39mDEBUG:\n\u001b[1;32m    160\u001b[0m     \u001b[39mreturn\u001b[39;00m object_refs\n",
      "File \u001b[0;32m~/miniconda3/envs/sf/lib/python3.8/site-packages/ray/_private/client_mode_hook.py:105\u001b[0m, in \u001b[0;36mclient_mode_hook.<locals>.wrapper\u001b[0;34m(*args, **kwargs)\u001b[0m\n\u001b[1;32m    103\u001b[0m     \u001b[39mif\u001b[39;00m func\u001b[39m.\u001b[39m\u001b[39m__name__\u001b[39m \u001b[39m!=\u001b[39m \u001b[39m\"\u001b[39m\u001b[39minit\u001b[39m\u001b[39m\"\u001b[39m \u001b[39mor\u001b[39;00m is_client_mode_enabled_by_default:\n\u001b[1;32m    104\u001b[0m         \u001b[39mreturn\u001b[39;00m \u001b[39mgetattr\u001b[39m(ray, func\u001b[39m.\u001b[39m\u001b[39m__name__\u001b[39m)(\u001b[39m*\u001b[39margs, \u001b[39m*\u001b[39m\u001b[39m*\u001b[39mkwargs)\n\u001b[0;32m--> 105\u001b[0m \u001b[39mreturn\u001b[39;00m func(\u001b[39m*\u001b[39;49margs, \u001b[39m*\u001b[39;49m\u001b[39m*\u001b[39;49mkwargs)\n",
      "File \u001b[0;32m~/miniconda3/envs/sf/lib/python3.8/site-packages/ray/_private/worker.py:2303\u001b[0m, in \u001b[0;36mget\u001b[0;34m(object_refs, timeout)\u001b[0m\n\u001b[1;32m   2298\u001b[0m     \u001b[39mraise\u001b[39;00m \u001b[39mValueError\u001b[39;00m(\n\u001b[1;32m   2299\u001b[0m         \u001b[39m\"\u001b[39m\u001b[39m'\u001b[39m\u001b[39mobject_refs\u001b[39m\u001b[39m'\u001b[39m\u001b[39m must either be an ObjectRef or a list of ObjectRefs.\u001b[39m\u001b[39m\"\u001b[39m\n\u001b[1;32m   2300\u001b[0m     )\n\u001b[1;32m   2302\u001b[0m \u001b[39m# TODO(ujvl): Consider how to allow user to retrieve the ready objects.\u001b[39;00m\n\u001b[0;32m-> 2303\u001b[0m values, debugger_breakpoint \u001b[39m=\u001b[39m worker\u001b[39m.\u001b[39;49mget_objects(object_refs, timeout\u001b[39m=\u001b[39;49mtimeout)\n\u001b[1;32m   2304\u001b[0m \u001b[39mfor\u001b[39;00m i, value \u001b[39min\u001b[39;00m \u001b[39menumerate\u001b[39m(values):\n\u001b[1;32m   2305\u001b[0m     \u001b[39mif\u001b[39;00m \u001b[39misinstance\u001b[39m(value, RayError):\n",
      "File \u001b[0;32m~/miniconda3/envs/sf/lib/python3.8/site-packages/ray/_private/worker.py:668\u001b[0m, in \u001b[0;36mWorker.get_objects\u001b[0;34m(self, object_refs, timeout)\u001b[0m\n\u001b[1;32m    662\u001b[0m         \u001b[39mraise\u001b[39;00m \u001b[39mTypeError\u001b[39;00m(\n\u001b[1;32m    663\u001b[0m             \u001b[39mf\u001b[39m\u001b[39m\"\u001b[39m\u001b[39mAttempting to call `get` on the value \u001b[39m\u001b[39m{\u001b[39;00mobject_ref\u001b[39m}\u001b[39;00m\u001b[39m, \u001b[39m\u001b[39m\"\u001b[39m\n\u001b[1;32m    664\u001b[0m             \u001b[39m\"\u001b[39m\u001b[39mwhich is not an ray.ObjectRef.\u001b[39m\u001b[39m\"\u001b[39m\n\u001b[1;32m    665\u001b[0m         )\n\u001b[1;32m    667\u001b[0m timeout_ms \u001b[39m=\u001b[39m \u001b[39mint\u001b[39m(timeout \u001b[39m*\u001b[39m \u001b[39m1000\u001b[39m) \u001b[39mif\u001b[39;00m timeout \u001b[39melse\u001b[39;00m \u001b[39m-\u001b[39m\u001b[39m1\u001b[39m\n\u001b[0;32m--> 668\u001b[0m data_metadata_pairs \u001b[39m=\u001b[39m \u001b[39mself\u001b[39;49m\u001b[39m.\u001b[39;49mcore_worker\u001b[39m.\u001b[39;49mget_objects(\n\u001b[1;32m    669\u001b[0m     object_refs, \u001b[39mself\u001b[39;49m\u001b[39m.\u001b[39;49mcurrent_task_id, timeout_ms\n\u001b[1;32m    670\u001b[0m )\n\u001b[1;32m    671\u001b[0m debugger_breakpoint \u001b[39m=\u001b[39m \u001b[39mb\u001b[39m\u001b[39m\"\u001b[39m\u001b[39m\"\u001b[39m\n\u001b[1;32m    672\u001b[0m \u001b[39mfor\u001b[39;00m (data, metadata) \u001b[39min\u001b[39;00m data_metadata_pairs:\n",
      "File \u001b[0;32mpython/ray/_raylet.pyx:1554\u001b[0m, in \u001b[0;36mray._raylet.CoreWorker.get_objects\u001b[0;34m()\u001b[0m\n",
      "File \u001b[0;32mpython/ray/_raylet.pyx:195\u001b[0m, in \u001b[0;36mray._raylet.check_status\u001b[0;34m()\u001b[0m\n",
      "\u001b[0;31mKeyboardInterrupt\u001b[0m: "
     ]
    }
   ],
   "source": [
    "from secretflow.security.aggregation import SPUAggregator\n",
    "import spu\n",
    "\n",
    "DEFAULT_SEMI2K_RUNTIME_CONFIG = {\n",
    "    'protocol': spu.spu_pb2.SEMI2K,\n",
    "    'field': spu.spu_pb2.FM128,\n",
    "}\n",
    "\n",
    "cdef = sf.utils.testing.cluster_def([f\"party{i}\" for i in range(10)], DEFAULT_SEMI2K_RUNTIME_CONFIG)\n",
    "spu_device = sf.SPU(cdef)\n",
    "\n",
    "ss_aggregator = SPUAggregator(spu_device)\n",
    "\n",
    "fed_ss_model = FLModel(server=agg_server,\n",
    "                    device_list=[devices[i] for i in range(10)],\n",
    "                    model=model,\n",
    "                    aggregator=ss_aggregator,\n",
    "                    strategy=\"fed_avg_w\",\n",
    "                    backend = \"tensorflow\")\n",
    "\n",
    "start_time = time.time()\n",
    "history_ss = fed_ss_model.fit(x_train,\n",
    "                    y_train,\n",
    "                    validation_data=(x_test, y_test),\n",
    "                    epochs=3,\n",
    "                    sampler_method=\"batch\",\n",
    "                    batch_size=128,\n",
    "                    aggregate_freq=1)\n",
    "ss_time = time.time() - start_time\n",
    "# print(\"cost time : \", time.time()-start_time)"
   ]
  },
  {
   "cell_type": "code",
   "execution_count": null,
   "metadata": {},
   "outputs": [],
   "source": [
    "rows = ['plain', 'dp', 'ss', 'he']\n",
    "cols = [plain_time, dp_time, ss_time, phe_time]\n",
    "\n",
    "# 绘制柱状图\n"
   ]
  }
 ],
 "metadata": {
  "kernelspec": {
   "display_name": "sf",
   "language": "python",
   "name": "python3"
  },
  "language_info": {
   "codemirror_mode": {
    "name": "ipython",
    "version": 3
   },
   "file_extension": ".py",
   "mimetype": "text/x-python",
   "name": "python",
   "nbconvert_exporter": "python",
   "pygments_lexer": "ipython3",
   "version": "3.8.18"
  }
 },
 "nbformat": 4,
 "nbformat_minor": 2
}
