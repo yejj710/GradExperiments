{
 "cells": [
  {
   "cell_type": "code",
   "execution_count": 1,
   "metadata": {},
   "outputs": [
    {
     "name": "stderr",
     "output_type": "stream",
     "text": [
      "2024-02-22 21:57:02,076\tINFO worker.py:1538 -- Started a local Ray instance.\n",
      "/home/yejj/miniconda3/envs/sf/lib/python3.8/site-packages/sklearn/preprocessing/_encoders.py:975: FutureWarning: `sparse` was renamed to `sparse_output` in version 1.2 and will be removed in 1.4. `sparse_output` is ignored unless you leave `sparse` to its default value.\n",
      "  warnings.warn(\n",
      "/home/yejj/miniconda3/envs/sf/lib/python3.8/site-packages/sklearn/preprocessing/_encoders.py:975: FutureWarning: `sparse` was renamed to `sparse_output` in version 1.2 and will be removed in 1.4. `sparse_output` is ignored unless you leave `sparse` to its default value.\n",
      "  warnings.warn(\n"
     ]
    },
    {
     "data": {
      "text/plain": [
       "{PYURuntime(party0): (6000, 28, 28),\n",
       " PYURuntime(party1): (6000, 28, 28),\n",
       " PYURuntime(party2): (6000, 28, 28),\n",
       " PYURuntime(party3): (6000, 28, 28),\n",
       " PYURuntime(party4): (6000, 28, 28),\n",
       " PYURuntime(party5): (6000, 28, 28),\n",
       " PYURuntime(party6): (6000, 28, 28),\n",
       " PYURuntime(party7): (6000, 28, 28),\n",
       " PYURuntime(party8): (6000, 28, 28),\n",
       " PYURuntime(party9): (6000, 28, 28)}"
      ]
     },
     "execution_count": 1,
     "metadata": {},
     "output_type": "execute_result"
    }
   ],
   "source": [
    "import secretflow as sf\n",
    "\n",
    "import sys\n",
    "sys.path.append(\"/home/yejj/GradExperiments/chapter3\")\n",
    "\n",
    "sf.shutdown()\n",
    "#init 10 nodes and 1 server\n",
    "nodes = [f\"party{i}\" for i in range(10)]\n",
    "nodes.append('server')\n",
    "\n",
    "# init nodes\n",
    "sf.init(nodes, address=\"local\")\n",
    "# init PYU device\n",
    "devices = {}\n",
    "for i in range(10):\n",
    "    devices[i] = sf.PYU(f\"party{i}\")\n",
    "# alice, bob, agg_server = sf.PYU(\"alice\"), sf.PYU(\"bob\"), sf.PYU(\"server\")\n",
    "agg_server = sf.PYU(\"server\")\n",
    "\n",
    "from secretflow.utils.simulation.datasets import load_mnist\n",
    "\n",
    "(x_train, y_train), (x_test, y_test) = load_mnist(parts=[devices[i] for i in range(10)], normalized_x=True, categorical_y=True)\n",
    "x_train.partition_shape()"
   ]
  },
  {
   "cell_type": "code",
   "execution_count": 2,
   "metadata": {},
   "outputs": [
    {
     "name": "stderr",
     "output_type": "stream",
     "text": [
      "2024-02-22 21:57:08.405087: W tensorflow/compiler/xla/stream_executor/platform/default/dso_loader.cc:64] Could not load dynamic library 'libcudart.so.11.0'; dlerror: libcudart.so.11.0: cannot open shared object file: No such file or directory\n",
      "2024-02-22 21:57:09.500198: W tensorflow/compiler/xla/stream_executor/platform/default/dso_loader.cc:64] Could not load dynamic library 'libnvinfer.so.7'; dlerror: libnvinfer.so.7: cannot open shared object file: No such file or directory\n",
      "2024-02-22 21:57:09.500317: W tensorflow/compiler/xla/stream_executor/platform/default/dso_loader.cc:64] Could not load dynamic library 'libnvinfer_plugin.so.7'; dlerror: libnvinfer_plugin.so.7: cannot open shared object file: No such file or directory\n",
      "2024-02-22 21:57:09.500327: W tensorflow/compiler/tf2tensorrt/utils/py_utils.cc:38] TF-TRT Warning: Cannot dlopen some TensorRT libraries. If you would like to use Nvidia GPU with TensorRT, please make sure the missing libraries mentioned above are installed properly.\n",
      "2024-02-22 21:57:12.677295: W tensorflow/compiler/xla/stream_executor/platform/default/dso_loader.cc:64] Could not load dynamic library 'libcuda.so.1'; dlerror: libcuda.so.1: cannot open shared object file: No such file or directory\n",
      "2024-02-22 21:57:12.677356: W tensorflow/compiler/xla/stream_executor/cuda/cuda_driver.cc:265] failed call to cuInit: UNKNOWN ERROR (303)\n",
      "INFO:root:Create proxy actor <class 'secretflow.ml.nn.fl.backend.tensorflow.strategy.fed_avg_w.PYUFedAvgW'> with party party0.\n",
      "INFO:root:Create proxy actor <class 'secretflow.ml.nn.fl.backend.tensorflow.strategy.fed_avg_w.PYUFedAvgW'> with party party1.\n",
      "INFO:root:Create proxy actor <class 'secretflow.ml.nn.fl.backend.tensorflow.strategy.fed_avg_w.PYUFedAvgW'> with party party2.\n",
      "INFO:root:Create proxy actor <class 'secretflow.ml.nn.fl.backend.tensorflow.strategy.fed_avg_w.PYUFedAvgW'> with party party3.\n",
      "INFO:root:Create proxy actor <class 'secretflow.ml.nn.fl.backend.tensorflow.strategy.fed_avg_w.PYUFedAvgW'> with party party4.\n",
      "INFO:root:Create proxy actor <class 'secretflow.ml.nn.fl.backend.tensorflow.strategy.fed_avg_w.PYUFedAvgW'> with party party5.\n",
      "INFO:root:Create proxy actor <class 'secretflow.ml.nn.fl.backend.tensorflow.strategy.fed_avg_w.PYUFedAvgW'> with party party6.\n",
      "INFO:root:Create proxy actor <class 'secretflow.ml.nn.fl.backend.tensorflow.strategy.fed_avg_w.PYUFedAvgW'> with party party7.\n",
      "INFO:root:Create proxy actor <class 'secretflow.ml.nn.fl.backend.tensorflow.strategy.fed_avg_w.PYUFedAvgW'> with party party8.\n",
      "INFO:root:Create proxy actor <class 'secretflow.ml.nn.fl.backend.tensorflow.strategy.fed_avg_w.PYUFedAvgW'> with party party9.\n",
      "INFO:root:666FL Train Params: {'x': FedNdarray(partitions={PYURuntime(party0): <secretflow.device.device.pyu.PYUObject object at 0x7f229ef95670>, PYURuntime(party1): <secretflow.device.device.pyu.PYUObject object at 0x7f229ef5ca00>, PYURuntime(party2): <secretflow.device.device.pyu.PYUObject object at 0x7f229ef5c8b0>, PYURuntime(party3): <secretflow.device.device.pyu.PYUObject object at 0x7f229ef5cac0>, PYURuntime(party4): <secretflow.device.device.pyu.PYUObject object at 0x7f229eeda070>, PYURuntime(party5): <secretflow.device.device.pyu.PYUObject object at 0x7f229eeda100>, PYURuntime(party6): <secretflow.device.device.pyu.PYUObject object at 0x7f229eeda160>, PYURuntime(party7): <secretflow.device.device.pyu.PYUObject object at 0x7f229eeda040>, PYURuntime(party8): <secretflow.device.device.pyu.PYUObject object at 0x7f229eeda280>, PYURuntime(party9): <secretflow.device.device.pyu.PYUObject object at 0x7f229eeda430>}, partition_way=<PartitionWay.HORIZONTAL: 'horizontal'>), 'y': FedNdarray(partitions={PYURuntime(party0): <secretflow.device.device.pyu.PYUObject object at 0x7f229eeda790>, PYURuntime(party1): <secretflow.device.device.pyu.PYUObject object at 0x7f229eedaaf0>, PYURuntime(party2): <secretflow.device.device.pyu.PYUObject object at 0x7f229eeda5e0>, PYURuntime(party3): <secretflow.device.device.pyu.PYUObject object at 0x7f229eee7160>, PYURuntime(party4): <secretflow.device.device.pyu.PYUObject object at 0x7f229eedadf0>, PYURuntime(party5): <secretflow.device.device.pyu.PYUObject object at 0x7f229eedab20>, PYURuntime(party6): <secretflow.device.device.pyu.PYUObject object at 0x7f229eedaa00>, PYURuntime(party7): <secretflow.device.device.pyu.PYUObject object at 0x7f229eedaee0>, PYURuntime(party8): <secretflow.device.device.pyu.PYUObject object at 0x7f229eedad90>, PYURuntime(party9): <secretflow.device.device.pyu.PYUObject object at 0x7f229ef953d0>}, partition_way=<PartitionWay.HORIZONTAL: 'horizontal'>), 'batch_size': 128, 'batch_sampling_rate': None, 'epochs': 2, 'verbose': 1, 'callbacks': <secretflow.ml.nn.callbacks.early_stopping.EarlyStoppingEpoch object at 0x7f21c0f01580>, 'validation_data': (FedNdarray(partitions={PYURuntime(party0): <secretflow.device.device.pyu.PYUObject object at 0x7f229eeda8b0>, PYURuntime(party1): <secretflow.device.device.pyu.PYUObject object at 0x7f229f387070>, PYURuntime(party2): <secretflow.device.device.pyu.PYUObject object at 0x7f229ef5cd90>, PYURuntime(party3): <secretflow.device.device.pyu.PYUObject object at 0x7f229eee7220>, PYURuntime(party4): <secretflow.device.device.pyu.PYUObject object at 0x7f229eee7040>, PYURuntime(party5): <secretflow.device.device.pyu.PYUObject object at 0x7f229eee7520>, PYURuntime(party6): <secretflow.device.device.pyu.PYUObject object at 0x7f229eee72e0>, PYURuntime(party7): <secretflow.device.device.pyu.PYUObject object at 0x7f229eee7610>, PYURuntime(party8): <secretflow.device.device.pyu.PYUObject object at 0x7f229eee77c0>, PYURuntime(party9): <secretflow.device.device.pyu.PYUObject object at 0x7f229eee7970>}, partition_way=<PartitionWay.HORIZONTAL: 'horizontal'>), FedNdarray(partitions={PYURuntime(party0): <secretflow.device.device.pyu.PYUObject object at 0x7f229eeee0a0>, PYURuntime(party1): <secretflow.device.device.pyu.PYUObject object at 0x7f229eeee0d0>, PYURuntime(party2): <secretflow.device.device.pyu.PYUObject object at 0x7f229eeee070>, PYURuntime(party3): <secretflow.device.device.pyu.PYUObject object at 0x7f229eeee1f0>, PYURuntime(party4): <secretflow.device.device.pyu.PYUObject object at 0x7f229eeee310>, PYURuntime(party5): <secretflow.device.device.pyu.PYUObject object at 0x7f229eeee430>, PYURuntime(party6): <secretflow.device.device.pyu.PYUObject object at 0x7f229eeee5e0>, PYURuntime(party7): <secretflow.device.device.pyu.PYUObject object at 0x7f229eeee790>, PYURuntime(party8): <secretflow.device.device.pyu.PYUObject object at 0x7f229eeee940>, PYURuntime(party9): <secretflow.device.device.pyu.PYUObject object at 0x7f229eeeeac0>}, partition_way=<PartitionWay.HORIZONTAL: 'horizontal'>)), 'shuffle': False, 'class_weight': None, 'sample_weight': None, 'validation_freq': 1, 'aggregate_freq': 1, 'label_decoder': None, 'max_batch_size': 20000, 'prefetch_buffer_size': None, 'sampler_method': 'batch', 'random_seed': 65864, 'dp_spent_step_freq': None, 'audit_log_dir': None, 'dataset_builder': None, 'wait_steps': 100, 'self': <secretflow.ml.nn.fl.fl_model.FLModel object at 0x7f229eeee910>}\n",
      "Train Processing: :   0%|          | 0/47 [00:00<?, ?it/s]"
     ]
    },
    {
     "name": "stderr",
     "output_type": "stream",
     "text": [
      "\u001b[2m\u001b[36m(pid=17707)\u001b[0m 2024-02-22 21:57:15.253228: W tensorflow/compiler/xla/stream_executor/platform/default/dso_loader.cc:64] Could not load dynamic library 'libcudart.so.11.0'; dlerror: libcudart.so.11.0: cannot open shared object file: No such file or directory\n",
      "\u001b[2m\u001b[36m(pid=17667)\u001b[0m 2024-02-22 21:57:15.291518: W tensorflow/compiler/xla/stream_executor/platform/default/dso_loader.cc:64] Could not load dynamic library 'libcudart.so.11.0'; dlerror: libcudart.so.11.0: cannot open shared object file: No such file or directory\n",
      "\u001b[2m\u001b[36m(pid=17870)\u001b[0m 2024-02-22 21:57:15.649766: W tensorflow/compiler/xla/stream_executor/platform/default/dso_loader.cc:64] Could not load dynamic library 'libcudart.so.11.0'; dlerror: libcudart.so.11.0: cannot open shared object file: No such file or directory\n",
      "\u001b[2m\u001b[36m(pid=18151)\u001b[0m 2024-02-22 21:57:16.172177: W tensorflow/compiler/xla/stream_executor/platform/default/dso_loader.cc:64] Could not load dynamic library 'libcudart.so.11.0'; dlerror: libcudart.so.11.0: cannot open shared object file: No such file or directory\n",
      "\u001b[2m\u001b[36m(pid=17707)\u001b[0m 2024-02-22 21:57:16.402555: W tensorflow/compiler/xla/stream_executor/platform/default/dso_loader.cc:64] Could not load dynamic library 'libnvinfer.so.7'; dlerror: libnvinfer.so.7: cannot open shared object file: No such file or directory\n",
      "\u001b[2m\u001b[36m(pid=17707)\u001b[0m 2024-02-22 21:57:16.402691: W tensorflow/compiler/xla/stream_executor/platform/default/dso_loader.cc:64] Could not load dynamic library 'libnvinfer_plugin.so.7'; dlerror: libnvinfer_plugin.so.7: cannot open shared object file: No such file or directory\n",
      "\u001b[2m\u001b[36m(pid=17707)\u001b[0m 2024-02-22 21:57:16.402700: W tensorflow/compiler/tf2tensorrt/utils/py_utils.cc:38] TF-TRT Warning: Cannot dlopen some TensorRT libraries. If you would like to use Nvidia GPU with TensorRT, please make sure the missing libraries mentioned above are installed properly.\n",
      "\u001b[2m\u001b[36m(pid=18568)\u001b[0m 2024-02-22 21:57:16.448352: W tensorflow/compiler/xla/stream_executor/platform/default/dso_loader.cc:64] Could not load dynamic library 'libcudart.so.11.0'; dlerror: libcudart.so.11.0: cannot open shared object file: No such file or directory\n",
      "\u001b[2m\u001b[36m(pid=17667)\u001b[0m 2024-02-22 21:57:16.494970: W tensorflow/compiler/xla/stream_executor/platform/default/dso_loader.cc:64] Could not load dynamic library 'libnvinfer.so.7'; dlerror: libnvinfer.so.7: cannot open shared object file: No such file or directory\n",
      "\u001b[2m\u001b[36m(pid=17667)\u001b[0m 2024-02-22 21:57:16.495091: W tensorflow/compiler/xla/stream_executor/platform/default/dso_loader.cc:64] Could not load dynamic library 'libnvinfer_plugin.so.7'; dlerror: libnvinfer_plugin.so.7: cannot open shared object file: No such file or directory\n",
      "\u001b[2m\u001b[36m(pid=17667)\u001b[0m 2024-02-22 21:57:16.495101: W tensorflow/compiler/tf2tensorrt/utils/py_utils.cc:38] TF-TRT Warning: Cannot dlopen some TensorRT libraries. If you would like to use Nvidia GPU with TensorRT, please make sure the missing libraries mentioned above are installed properly.\n",
      "\u001b[2m\u001b[36m(pid=18806)\u001b[0m 2024-02-22 21:57:16.749564: W tensorflow/compiler/xla/stream_executor/platform/default/dso_loader.cc:64] Could not load dynamic library 'libcudart.so.11.0'; dlerror: libcudart.so.11.0: cannot open shared object file: No such file or directory\n",
      "\u001b[2m\u001b[36m(pid=17870)\u001b[0m 2024-02-22 21:57:16.854288: W tensorflow/compiler/xla/stream_executor/platform/default/dso_loader.cc:64] Could not load dynamic library 'libnvinfer.so.7'; dlerror: libnvinfer.so.7: cannot open shared object file: No such file or directory\n",
      "\u001b[2m\u001b[36m(pid=17870)\u001b[0m 2024-02-22 21:57:16.854416: W tensorflow/compiler/xla/stream_executor/platform/default/dso_loader.cc:64] Could not load dynamic library 'libnvinfer_plugin.so.7'; dlerror: libnvinfer_plugin.so.7: cannot open shared object file: No such file or directory\n",
      "\u001b[2m\u001b[36m(pid=17870)\u001b[0m 2024-02-22 21:57:16.854426: W tensorflow/compiler/tf2tensorrt/utils/py_utils.cc:38] TF-TRT Warning: Cannot dlopen some TensorRT libraries. If you would like to use Nvidia GPU with TensorRT, please make sure the missing libraries mentioned above are installed properly.\n",
      "\u001b[2m\u001b[36m(pid=18929)\u001b[0m 2024-02-22 21:57:17.099614: W tensorflow/compiler/xla/stream_executor/platform/default/dso_loader.cc:64] Could not load dynamic library 'libcudart.so.11.0'; dlerror: libcudart.so.11.0: cannot open shared object file: No such file or directory\n",
      "\u001b[2m\u001b[36m(pid=18151)\u001b[0m 2024-02-22 21:57:17.313860: W tensorflow/compiler/xla/stream_executor/platform/default/dso_loader.cc:64] Could not load dynamic library 'libnvinfer.so.7'; dlerror: libnvinfer.so.7: cannot open shared object file: No such file or directory\n",
      "\u001b[2m\u001b[36m(pid=18151)\u001b[0m 2024-02-22 21:57:17.314028: W tensorflow/compiler/xla/stream_executor/platform/default/dso_loader.cc:64] Could not load dynamic library 'libnvinfer_plugin.so.7'; dlerror: libnvinfer_plugin.so.7: cannot open shared object file: No such file or directory\n",
      "\u001b[2m\u001b[36m(pid=18151)\u001b[0m 2024-02-22 21:57:17.314042: W tensorflow/compiler/tf2tensorrt/utils/py_utils.cc:38] TF-TRT Warning: Cannot dlopen some TensorRT libraries. If you would like to use Nvidia GPU with TensorRT, please make sure the missing libraries mentioned above are installed properly.\n",
      "\u001b[2m\u001b[36m(pid=18568)\u001b[0m 2024-02-22 21:57:17.619537: W tensorflow/compiler/xla/stream_executor/platform/default/dso_loader.cc:64] Could not load dynamic library 'libnvinfer.so.7'; dlerror: libnvinfer.so.7: cannot open shared object file: No such file or directory\n",
      "\u001b[2m\u001b[36m(pid=18568)\u001b[0m 2024-02-22 21:57:17.619661: W tensorflow/compiler/xla/stream_executor/platform/default/dso_loader.cc:64] Could not load dynamic library 'libnvinfer_plugin.so.7'; dlerror: libnvinfer_plugin.so.7: cannot open shared object file: No such file or directory\n",
      "\u001b[2m\u001b[36m(pid=18568)\u001b[0m 2024-02-22 21:57:17.619670: W tensorflow/compiler/tf2tensorrt/utils/py_utils.cc:38] TF-TRT Warning: Cannot dlopen some TensorRT libraries. If you would like to use Nvidia GPU with TensorRT, please make sure the missing libraries mentioned above are installed properly.\n",
      "\u001b[2m\u001b[36m(pid=19210)\u001b[0m 2024-02-22 21:57:17.591250: W tensorflow/compiler/xla/stream_executor/platform/default/dso_loader.cc:64] Could not load dynamic library 'libcudart.so.11.0'; dlerror: libcudart.so.11.0: cannot open shared object file: No such file or directory\n",
      "\u001b[2m\u001b[36m(pid=18806)\u001b[0m 2024-02-22 21:57:17.815079: W tensorflow/compiler/xla/stream_executor/platform/default/dso_loader.cc:64] Could not load dynamic library 'libnvinfer.so.7'; dlerror: libnvinfer.so.7: cannot open shared object file: No such file or directory\n",
      "\u001b[2m\u001b[36m(pid=18806)\u001b[0m 2024-02-22 21:57:17.815211: W tensorflow/compiler/xla/stream_executor/platform/default/dso_loader.cc:64] Could not load dynamic library 'libnvinfer_plugin.so.7'; dlerror: libnvinfer_plugin.so.7: cannot open shared object file: No such file or directory\n",
      "\u001b[2m\u001b[36m(pid=18806)\u001b[0m 2024-02-22 21:57:17.815221: W tensorflow/compiler/tf2tensorrt/utils/py_utils.cc:38] TF-TRT Warning: Cannot dlopen some TensorRT libraries. If you would like to use Nvidia GPU with TensorRT, please make sure the missing libraries mentioned above are installed properly.\n",
      "\u001b[2m\u001b[36m(pid=20118)\u001b[0m 2024-02-22 21:57:18.258421: W tensorflow/compiler/xla/stream_executor/platform/default/dso_loader.cc:64] Could not load dynamic library 'libcudart.so.11.0'; dlerror: libcudart.so.11.0: cannot open shared object file: No such file or directory\n",
      "\u001b[2m\u001b[36m(pid=18929)\u001b[0m 2024-02-22 21:57:18.374838: W tensorflow/compiler/xla/stream_executor/platform/default/dso_loader.cc:64] Could not load dynamic library 'libnvinfer.so.7'; dlerror: libnvinfer.so.7: cannot open shared object file: No such file or directory\n",
      "\u001b[2m\u001b[36m(pid=18929)\u001b[0m 2024-02-22 21:57:18.374992: W tensorflow/compiler/xla/stream_executor/platform/default/dso_loader.cc:64] Could not load dynamic library 'libnvinfer_plugin.so.7'; dlerror: libnvinfer_plugin.so.7: cannot open shared object file: No such file or directory\n",
      "\u001b[2m\u001b[36m(pid=18929)\u001b[0m 2024-02-22 21:57:18.375004: W tensorflow/compiler/tf2tensorrt/utils/py_utils.cc:38] TF-TRT Warning: Cannot dlopen some TensorRT libraries. If you would like to use Nvidia GPU with TensorRT, please make sure the missing libraries mentioned above are installed properly.\n",
      "\u001b[2m\u001b[36m(pid=21911)\u001b[0m 2024-02-22 21:57:18.605541: W tensorflow/compiler/xla/stream_executor/platform/default/dso_loader.cc:64] Could not load dynamic library 'libcudart.so.11.0'; dlerror: libcudart.so.11.0: cannot open shared object file: No such file or directory\n",
      "\u001b[2m\u001b[36m(pid=19210)\u001b[0m 2024-02-22 21:57:18.795326: W tensorflow/compiler/xla/stream_executor/platform/default/dso_loader.cc:64] Could not load dynamic library 'libnvinfer.so.7'; dlerror: libnvinfer.so.7: cannot open shared object file: No such file or directory\n",
      "\u001b[2m\u001b[36m(pid=19210)\u001b[0m 2024-02-22 21:57:18.795444: W tensorflow/compiler/xla/stream_executor/platform/default/dso_loader.cc:64] Could not load dynamic library 'libnvinfer_plugin.so.7'; dlerror: libnvinfer_plugin.so.7: cannot open shared object file: No such file or directory\n",
      "\u001b[2m\u001b[36m(pid=19210)\u001b[0m 2024-02-22 21:57:18.795454: W tensorflow/compiler/tf2tensorrt/utils/py_utils.cc:38] TF-TRT Warning: Cannot dlopen some TensorRT libraries. If you would like to use Nvidia GPU with TensorRT, please make sure the missing libraries mentioned above are installed properly.\n",
      "\u001b[2m\u001b[36m(pid=17707)\u001b[0m 2024-02-22 21:57:19.467147: W tensorflow/compiler/xla/stream_executor/platform/default/dso_loader.cc:64] Could not load dynamic library 'libcuda.so.1'; dlerror: libcuda.so.1: cannot open shared object file: No such file or directory\n",
      "\u001b[2m\u001b[36m(pid=17707)\u001b[0m 2024-02-22 21:57:19.467212: W tensorflow/compiler/xla/stream_executor/cuda/cuda_driver.cc:265] failed call to cuInit: UNKNOWN ERROR (303)\n",
      "\u001b[2m\u001b[36m(pid=20118)\u001b[0m 2024-02-22 21:57:19.374618: W tensorflow/compiler/xla/stream_executor/platform/default/dso_loader.cc:64] Could not load dynamic library 'libnvinfer.so.7'; dlerror: libnvinfer.so.7: cannot open shared object file: No such file or directory\n",
      "\u001b[2m\u001b[36m(pid=20118)\u001b[0m 2024-02-22 21:57:19.374729: W tensorflow/compiler/xla/stream_executor/platform/default/dso_loader.cc:64] Could not load dynamic library 'libnvinfer_plugin.so.7'; dlerror: libnvinfer_plugin.so.7: cannot open shared object file: No such file or directory\n",
      "\u001b[2m\u001b[36m(pid=20118)\u001b[0m 2024-02-22 21:57:19.374738: W tensorflow/compiler/tf2tensorrt/utils/py_utils.cc:38] TF-TRT Warning: Cannot dlopen some TensorRT libraries. If you would like to use Nvidia GPU with TensorRT, please make sure the missing libraries mentioned above are installed properly.\n",
      "\u001b[2m\u001b[36m(pid=17667)\u001b[0m 2024-02-22 21:57:19.732391: W tensorflow/compiler/xla/stream_executor/platform/default/dso_loader.cc:64] Could not load dynamic library 'libcuda.so.1'; dlerror: libcuda.so.1: cannot open shared object file: No such file or directory\n",
      "\u001b[2m\u001b[36m(pid=17667)\u001b[0m 2024-02-22 21:57:19.732458: W tensorflow/compiler/xla/stream_executor/cuda/cuda_driver.cc:265] failed call to cuInit: UNKNOWN ERROR (303)\n",
      "\u001b[2m\u001b[36m(pid=21911)\u001b[0m 2024-02-22 21:57:19.845944: W tensorflow/compiler/xla/stream_executor/platform/default/dso_loader.cc:64] Could not load dynamic library 'libnvinfer.so.7'; dlerror: libnvinfer.so.7: cannot open shared object file: No such file or directory\n",
      "\u001b[2m\u001b[36m(pid=21911)\u001b[0m 2024-02-22 21:57:19.846125: W tensorflow/compiler/xla/stream_executor/platform/default/dso_loader.cc:64] Could not load dynamic library 'libnvinfer_plugin.so.7'; dlerror: libnvinfer_plugin.so.7: cannot open shared object file: No such file or directory\n",
      "\u001b[2m\u001b[36m(pid=21911)\u001b[0m 2024-02-22 21:57:19.846144: W tensorflow/compiler/tf2tensorrt/utils/py_utils.cc:38] TF-TRT Warning: Cannot dlopen some TensorRT libraries. If you would like to use Nvidia GPU with TensorRT, please make sure the missing libraries mentioned above are installed properly.\n",
      "\u001b[2m\u001b[36m(pid=17870)\u001b[0m 2024-02-22 21:57:19.977321: W tensorflow/compiler/xla/stream_executor/platform/default/dso_loader.cc:64] Could not load dynamic library 'libcuda.so.1'; dlerror: libcuda.so.1: cannot open shared object file: No such file or directory\n",
      "\u001b[2m\u001b[36m(pid=17870)\u001b[0m 2024-02-22 21:57:19.977397: W tensorflow/compiler/xla/stream_executor/cuda/cuda_driver.cc:265] failed call to cuInit: UNKNOWN ERROR (303)\n",
      "\u001b[2m\u001b[36m(pid=18151)\u001b[0m 2024-02-22 21:57:20.545755: W tensorflow/compiler/xla/stream_executor/platform/default/dso_loader.cc:64] Could not load dynamic library 'libcuda.so.1'; dlerror: libcuda.so.1: cannot open shared object file: No such file or directory\n",
      "\u001b[2m\u001b[36m(pid=18151)\u001b[0m 2024-02-22 21:57:20.545821: W tensorflow/compiler/xla/stream_executor/cuda/cuda_driver.cc:265] failed call to cuInit: UNKNOWN ERROR (303)\n",
      "\u001b[2m\u001b[36m(pid=18568)\u001b[0m 2024-02-22 21:57:21.065681: W tensorflow/compiler/xla/stream_executor/platform/default/dso_loader.cc:64] Could not load dynamic library 'libcuda.so.1'; dlerror: libcuda.so.1: cannot open shared object file: No such file or directory\n",
      "\u001b[2m\u001b[36m(pid=18568)\u001b[0m 2024-02-22 21:57:21.065751: W tensorflow/compiler/xla/stream_executor/cuda/cuda_driver.cc:265] failed call to cuInit: UNKNOWN ERROR (303)\n",
      "\u001b[2m\u001b[36m(pid=18806)\u001b[0m 2024-02-22 21:57:21.090088: W tensorflow/compiler/xla/stream_executor/platform/default/dso_loader.cc:64] Could not load dynamic library 'libcuda.so.1'; dlerror: libcuda.so.1: cannot open shared object file: No such file or directory\n",
      "\u001b[2m\u001b[36m(pid=18806)\u001b[0m 2024-02-22 21:57:21.090158: W tensorflow/compiler/xla/stream_executor/cuda/cuda_driver.cc:265] failed call to cuInit: UNKNOWN ERROR (303)\n",
      "\u001b[2m\u001b[36m(pid=18929)\u001b[0m 2024-02-22 21:57:21.711255: W tensorflow/compiler/xla/stream_executor/platform/default/dso_loader.cc:64] Could not load dynamic library 'libcuda.so.1'; dlerror: libcuda.so.1: cannot open shared object file: No such file or directory\n",
      "\u001b[2m\u001b[36m(pid=18929)\u001b[0m 2024-02-22 21:57:21.711325: W tensorflow/compiler/xla/stream_executor/cuda/cuda_driver.cc:265] failed call to cuInit: UNKNOWN ERROR (303)\n",
      "\u001b[2m\u001b[36m(pid=19210)\u001b[0m 2024-02-22 21:57:21.792484: W tensorflow/compiler/xla/stream_executor/platform/default/dso_loader.cc:64] Could not load dynamic library 'libcuda.so.1'; dlerror: libcuda.so.1: cannot open shared object file: No such file or directory\n",
      "\u001b[2m\u001b[36m(pid=19210)\u001b[0m 2024-02-22 21:57:21.792558: W tensorflow/compiler/xla/stream_executor/cuda/cuda_driver.cc:265] failed call to cuInit: UNKNOWN ERROR (303)\n",
      "\u001b[2m\u001b[36m(pid=20118)\u001b[0m 2024-02-22 21:57:22.577230: W tensorflow/compiler/xla/stream_executor/platform/default/dso_loader.cc:64] Could not load dynamic library 'libcuda.so.1'; dlerror: libcuda.so.1: cannot open shared object file: No such file or directory\n",
      "\u001b[2m\u001b[36m(pid=20118)\u001b[0m 2024-02-22 21:57:22.577286: W tensorflow/compiler/xla/stream_executor/cuda/cuda_driver.cc:265] failed call to cuInit: UNKNOWN ERROR (303)\n",
      "\u001b[2m\u001b[36m(pid=21911)\u001b[0m 2024-02-22 21:57:22.940915: W tensorflow/compiler/xla/stream_executor/platform/default/dso_loader.cc:64] Could not load dynamic library 'libcuda.so.1'; dlerror: libcuda.so.1: cannot open shared object file: No such file or directory\n",
      "\u001b[2m\u001b[36m(pid=21911)\u001b[0m 2024-02-22 21:57:22.940979: W tensorflow/compiler/xla/stream_executor/cuda/cuda_driver.cc:265] failed call to cuInit: UNKNOWN ERROR (303)\n"
     ]
    },
    {
     "name": "stdout",
     "output_type": "stream",
     "text": [
      "Epoch 1/2\n"
     ]
    },
    {
     "name": "stderr",
     "output_type": "stream",
     "text": [
      "Train Processing: :  98%|█████████▊| 46/47 [00:06<00:00,  7.17it/s]WARNING:root:Early stopping conditioned on metric `val_loss` which is not available. Available metrics are: \n",
      "Train Processing: :  98%|█████████▊| 46/47 [00:07<00:00,  6.05it/s, {'loss': 1.402708, 'accuracy': 0.6202, 'val_loss': 0.48212877, 'val_accuracy': 0.8561}]\n",
      "Train Processing: :   0%|          | 0/47 [00:00<?, ?it/s]"
     ]
    },
    {
     "name": "stdout",
     "output_type": "stream",
     "text": [
      "Epoch 2/2\n"
     ]
    },
    {
     "name": "stderr",
     "output_type": "stream",
     "text": [
      "Train Processing: :  96%|█████████▌| 45/47 [00:06<00:00,  8.52it/s]WARNING:root:Early stopping conditioned on metric `val_loss` which is not available. Available metrics are: \n",
      "Train Processing: :  98%|█████████▊| 46/47 [00:07<00:00,  6.26it/s, {'loss': 0.4367702, 'accuracy': 0.8701286, 'val_loss': 0.30069393, 'val_accuracy': 0.9132}]\n"
     ]
    },
    {
     "data": {
      "text/plain": [
       "{'global_history': {'loss': [1.402708, 0.4367702],\n",
       "  'accuracy': [0.6202, 0.8701286],\n",
       "  'val_loss': [0.48212877, 0.30069393],\n",
       "  'val_accuracy': [0.8561, 0.9132]},\n",
       " 'local_history': {'party0_loss': [1.4011714, 0.4304856],\n",
       "  'party0_accuracy': [0.61266667, 0.8747143],\n",
       "  'party0_val_loss': [0.5349864, 0.32775438],\n",
       "  'party0_val_accuracy': [0.826, 0.899],\n",
       "  'party1_loss': [1.3837107, 0.45385352],\n",
       "  'party1_accuracy': [0.62866664, 0.8642857],\n",
       "  'party1_val_loss': [0.6436127, 0.43075618],\n",
       "  'party1_val_accuracy': [0.814, 0.874],\n",
       "  'party2_loss': [1.4322951, 0.48986185],\n",
       "  'party2_accuracy': [0.60033333, 0.84985715],\n",
       "  'party2_val_loss': [0.5886445, 0.3731605],\n",
       "  'party2_val_accuracy': [0.831, 0.888],\n",
       "  'party3_loss': [1.4045137, 0.434759],\n",
       "  'party3_accuracy': [0.6128333, 0.8742857],\n",
       "  'party3_val_loss': [0.61489105, 0.4006433],\n",
       "  'party3_val_accuracy': [0.829, 0.879],\n",
       "  'party4_loss': [1.4165958, 0.4641799],\n",
       "  'party4_accuracy': [0.6281667, 0.86414284],\n",
       "  'party4_val_loss': [0.5900066, 0.3831117],\n",
       "  'party4_val_accuracy': [0.826, 0.894],\n",
       "  'party5_loss': [1.4074911, 0.4365986],\n",
       "  'party5_accuracy': [0.60866666, 0.8685714],\n",
       "  'party5_val_loss': [0.34892341, 0.20462498],\n",
       "  'party5_val_accuracy': [0.889, 0.932],\n",
       "  'party6_loss': [1.4095968, 0.44001424],\n",
       "  'party6_accuracy': [0.6175, 0.86957145],\n",
       "  'party6_val_loss': [0.4069077, 0.24574552],\n",
       "  'party6_val_accuracy': [0.885, 0.93],\n",
       "  'party7_loss': [1.4132366, 0.4354595],\n",
       "  'party7_accuracy': [0.619, 0.86785716],\n",
       "  'party7_val_loss': [0.35401654, 0.20057435],\n",
       "  'party7_val_accuracy': [0.893, 0.946],\n",
       "  'party8_loss': [1.4152408, 0.41608813],\n",
       "  'party8_accuracy': [0.615, 0.87685716],\n",
       "  'party8_val_loss': [0.26536238, 0.12531722],\n",
       "  'party8_val_accuracy': [0.914, 0.971],\n",
       "  'party9_loss': [1.3432298, 0.36640155],\n",
       "  'party9_accuracy': [0.6591667, 0.89114285],\n",
       "  'party9_val_loss': [0.47393626, 0.31525087],\n",
       "  'party9_val_accuracy': [0.854, 0.919]}}"
      ]
     },
     "execution_count": 2,
     "metadata": {},
     "output_type": "execute_result"
    }
   ],
   "source": [
    "from secretflow.ml.nn import FLModel\n",
    "from secretflow.security.aggregation import PlainAggregator\n",
    "from utils.model import create_model\n",
    "num_classes = 10\n",
    "input_shape = (28, 28, 1)\n",
    "model = create_model(input_shape, num_classes, \"lenet\")\n",
    "\n",
    "plain_aggregator = PlainAggregator(agg_server)\n",
    "\n",
    "fed_plain_model = FLModel(server=agg_server,\n",
    "                    device_list=[devices[i] for i in range(10)],\n",
    "                    model=model,\n",
    "                    aggregator=plain_aggregator,\n",
    "                    strategy=\"fed_avg_w\",\n",
    "                    backend = \"tensorflow\")\n",
    "\n",
    "from secretflow.ml.nn.callbacks.early_stopping import EarlyStoppingEpoch\n",
    "earlystop_callback = EarlyStoppingEpoch(\n",
    "\t\tmonitor='val_loss', min_delta=0.1, mode='min',\n",
    "        patience=2)\n",
    "\n",
    "import time\n",
    "start_time = time.time()\n",
    "history = fed_plain_model.fit(x_train,\n",
    "                    y_train,\n",
    "                    validation_data=(x_test, y_test),\n",
    "                    epochs=2,\n",
    "                    sampler_method=\"batch\",\n",
    "                    batch_size=128,\n",
    "                    aggregate_freq=1,\n",
    "                    callbacks=earlystop_callback)\n",
    "plain_time = time.time() - start_time\n",
    "# print(\"cost time : \", time.time()-start_time)\n",
    "history"
   ]
  }
 ],
 "metadata": {
  "kernelspec": {
   "display_name": "sf",
   "language": "python",
   "name": "python3"
  },
  "language_info": {
   "codemirror_mode": {
    "name": "ipython",
    "version": 3
   },
   "file_extension": ".py",
   "mimetype": "text/x-python",
   "name": "python",
   "nbconvert_exporter": "python",
   "pygments_lexer": "ipython3",
   "version": "3.8.18"
  }
 },
 "nbformat": 4,
 "nbformat_minor": 2
}
