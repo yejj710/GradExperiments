{
 "cells": [
  {
   "cell_type": "code",
   "execution_count": 1,
   "metadata": {},
   "outputs": [
    {
     "name": "stderr",
     "output_type": "stream",
     "text": [
      "2024-02-22 11:15:46,110\tINFO worker.py:1538 -- Started a local Ray instance.\n"
     ]
    }
   ],
   "source": [
    "import secretflow as sf\n",
    "\n",
    "import sys\n",
    "sys.path.append(\"/home/yejj/GradExperiments/chapter3_exp1\")\n",
    "\n",
    "sf.shutdown()\n",
    "#init 10 nodes and 1 server\n",
    "nodes = [f\"party{i}\" for i in range(10)]\n",
    "nodes.append('server')\n",
    "\n",
    "# init nodes\n",
    "sf.init(nodes, address=\"local\")\n",
    "# init PYU device\n",
    "devices = {}\n",
    "for i in range(10):\n",
    "    devices[i] = sf.PYU(f\"party{i}\")\n",
    "# alice, bob, agg_server = sf.PYU(\"alice\"), sf.PYU(\"bob\"), sf.PYU(\"server\")\n",
    "agg_server = sf.PYU(\"server\")"
   ]
  },
  {
   "cell_type": "code",
   "execution_count": 2,
   "metadata": {},
   "outputs": [
    {
     "name": "stderr",
     "output_type": "stream",
     "text": [
      "/home/yejj/miniconda3/envs/sf/lib/python3.8/site-packages/sklearn/preprocessing/_encoders.py:975: FutureWarning: `sparse` was renamed to `sparse_output` in version 1.2 and will be removed in 1.4. `sparse_output` is ignored unless you leave `sparse` to its default value.\n",
      "  warnings.warn(\n",
      "/home/yejj/miniconda3/envs/sf/lib/python3.8/site-packages/sklearn/preprocessing/_encoders.py:975: FutureWarning: `sparse` was renamed to `sparse_output` in version 1.2 and will be removed in 1.4. `sparse_output` is ignored unless you leave `sparse` to its default value.\n",
      "  warnings.warn(\n"
     ]
    },
    {
     "data": {
      "text/plain": [
       "{PYURuntime(party0): (6000, 28, 28),\n",
       " PYURuntime(party1): (6000, 28, 28),\n",
       " PYURuntime(party2): (6000, 28, 28),\n",
       " PYURuntime(party3): (6000, 28, 28),\n",
       " PYURuntime(party4): (6000, 28, 28),\n",
       " PYURuntime(party5): (6000, 28, 28),\n",
       " PYURuntime(party6): (6000, 28, 28),\n",
       " PYURuntime(party7): (6000, 28, 28),\n",
       " PYURuntime(party8): (6000, 28, 28),\n",
       " PYURuntime(party9): (6000, 28, 28)}"
      ]
     },
     "execution_count": 2,
     "metadata": {},
     "output_type": "execute_result"
    }
   ],
   "source": [
    "from secretflow.utils.simulation.datasets import load_mnist\n",
    "\n",
    "(x_train, y_train), (x_test, y_test) = load_mnist(parts=[devices[i] for i in range(10)], normalized_x=True, categorical_y=True)\n",
    "x_train.partition_shape()"
   ]
  },
  {
   "cell_type": "code",
   "execution_count": 3,
   "metadata": {},
   "outputs": [
    {
     "name": "stderr",
     "output_type": "stream",
     "text": [
      "2024-02-22 11:15:56.381037: W tensorflow/compiler/xla/stream_executor/platform/default/dso_loader.cc:64] Could not load dynamic library 'libcudart.so.11.0'; dlerror: libcudart.so.11.0: cannot open shared object file: No such file or directory\n",
      "2024-02-22 11:15:57.537545: W tensorflow/compiler/xla/stream_executor/platform/default/dso_loader.cc:64] Could not load dynamic library 'libnvinfer.so.7'; dlerror: libnvinfer.so.7: cannot open shared object file: No such file or directory\n",
      "2024-02-22 11:15:57.537656: W tensorflow/compiler/xla/stream_executor/platform/default/dso_loader.cc:64] Could not load dynamic library 'libnvinfer_plugin.so.7'; dlerror: libnvinfer_plugin.so.7: cannot open shared object file: No such file or directory\n",
      "2024-02-22 11:15:57.537665: W tensorflow/compiler/tf2tensorrt/utils/py_utils.cc:38] TF-TRT Warning: Cannot dlopen some TensorRT libraries. If you would like to use Nvidia GPU with TensorRT, please make sure the missing libraries mentioned above are installed properly.\n",
      "2024-02-22 11:16:00.473546: W tensorflow/compiler/xla/stream_executor/platform/default/dso_loader.cc:64] Could not load dynamic library 'libcuda.so.1'; dlerror: libcuda.so.1: cannot open shared object file: No such file or directory\n",
      "2024-02-22 11:16:00.473584: W tensorflow/compiler/xla/stream_executor/cuda/cuda_driver.cc:265] failed call to cuInit: UNKNOWN ERROR (303)\n",
      "INFO:root:Create proxy actor <class 'secretflow.ml.nn.fl.backend.tensorflow.strategy.fed_avg_w.PYUFedAvgW'> with party party0.\n",
      "INFO:root:Create proxy actor <class 'secretflow.ml.nn.fl.backend.tensorflow.strategy.fed_avg_w.PYUFedAvgW'> with party party1.\n",
      "INFO:root:Create proxy actor <class 'secretflow.ml.nn.fl.backend.tensorflow.strategy.fed_avg_w.PYUFedAvgW'> with party party2.\n",
      "INFO:root:Create proxy actor <class 'secretflow.ml.nn.fl.backend.tensorflow.strategy.fed_avg_w.PYUFedAvgW'> with party party3.\n",
      "INFO:root:Create proxy actor <class 'secretflow.ml.nn.fl.backend.tensorflow.strategy.fed_avg_w.PYUFedAvgW'> with party party4.\n",
      "INFO:root:Create proxy actor <class 'secretflow.ml.nn.fl.backend.tensorflow.strategy.fed_avg_w.PYUFedAvgW'> with party party5.\n",
      "INFO:root:Create proxy actor <class 'secretflow.ml.nn.fl.backend.tensorflow.strategy.fed_avg_w.PYUFedAvgW'> with party party6.\n",
      "INFO:root:Create proxy actor <class 'secretflow.ml.nn.fl.backend.tensorflow.strategy.fed_avg_w.PYUFedAvgW'> with party party7.\n",
      "INFO:root:Create proxy actor <class 'secretflow.ml.nn.fl.backend.tensorflow.strategy.fed_avg_w.PYUFedAvgW'> with party party8.\n",
      "INFO:root:Create proxy actor <class 'secretflow.ml.nn.fl.backend.tensorflow.strategy.fed_avg_w.PYUFedAvgW'> with party party9.\n",
      "INFO:root:FL Train Params: {'x': FedNdarray(partitions={PYURuntime(party0): <secretflow.device.device.pyu.PYUObject object at 0x7fb7009a1790>, PYURuntime(party1): <secretflow.device.device.pyu.PYUObject object at 0x7fb70096bc70>, PYURuntime(party2): <secretflow.device.device.pyu.PYUObject object at 0x7fb70096bb50>, PYURuntime(party3): <secretflow.device.device.pyu.PYUObject object at 0x7fb70096bd30>, PYURuntime(party4): <secretflow.device.device.pyu.PYUObject object at 0x7fb7008e9250>, PYURuntime(party5): <secretflow.device.device.pyu.PYUObject object at 0x7fb7008e9160>, PYURuntime(party6): <secretflow.device.device.pyu.PYUObject object at 0x7fb7008e9220>, PYURuntime(party7): <secretflow.device.device.pyu.PYUObject object at 0x7fb7008e91f0>, PYURuntime(party8): <secretflow.device.device.pyu.PYUObject object at 0x7fb7008e93a0>, PYURuntime(party9): <secretflow.device.device.pyu.PYUObject object at 0x7fb7008e9550>}, partition_way=<PartitionWay.HORIZONTAL: 'horizontal'>), 'y': FedNdarray(partitions={PYURuntime(party0): <secretflow.device.device.pyu.PYUObject object at 0x7fb7008e98b0>, PYURuntime(party1): <secretflow.device.device.pyu.PYUObject object at 0x7fb7008e9c10>, PYURuntime(party2): <secretflow.device.device.pyu.PYUObject object at 0x7fb7008e9d90>, PYURuntime(party3): <secretflow.device.device.pyu.PYUObject object at 0x7fb7008f6280>, PYURuntime(party4): <secretflow.device.device.pyu.PYUObject object at 0x7fb7008f60a0>, PYURuntime(party5): <secretflow.device.device.pyu.PYUObject object at 0x7fb7008f6250>, PYURuntime(party6): <secretflow.device.device.pyu.PYUObject object at 0x7fb7008e9e80>, PYURuntime(party7): <secretflow.device.device.pyu.PYUObject object at 0x7fb7008e9be0>, PYURuntime(party8): <secretflow.device.device.pyu.PYUObject object at 0x7fb7008e9c40>, PYURuntime(party9): <secretflow.device.device.pyu.PYUObject object at 0x7fb7008e9ee0>}, partition_way=<PartitionWay.HORIZONTAL: 'horizontal'>), 'batch_size': 128, 'batch_sampling_rate': None, 'epochs': 3, 'verbose': 1, 'callbacks': None, 'validation_data': (FedNdarray(partitions={PYURuntime(party0): <secretflow.device.device.pyu.PYUObject object at 0x7fb7008e9310>, PYURuntime(party1): <secretflow.device.device.pyu.PYUObject object at 0x7fb7009a1700>, PYURuntime(party2): <secretflow.device.device.pyu.PYUObject object at 0x7fb7008e9670>, PYURuntime(party3): <secretflow.device.device.pyu.PYUObject object at 0x7fb70096bf10>, PYURuntime(party4): <secretflow.device.device.pyu.PYUObject object at 0x7fb7008f6970>, PYURuntime(party5): <secretflow.device.device.pyu.PYUObject object at 0x7fb7008f68b0>, PYURuntime(party6): <secretflow.device.device.pyu.PYUObject object at 0x7fb7008f69d0>, PYURuntime(party7): <secretflow.device.device.pyu.PYUObject object at 0x7fb7008f6940>, PYURuntime(party8): <secretflow.device.device.pyu.PYUObject object at 0x7fb7008f6610>, PYURuntime(party9): <secretflow.device.device.pyu.PYUObject object at 0x7fb7008f6310>}, partition_way=<PartitionWay.HORIZONTAL: 'horizontal'>), FedNdarray(partitions={PYURuntime(party0): <secretflow.device.device.pyu.PYUObject object at 0x7fb7008f6be0>, PYURuntime(party1): <secretflow.device.device.pyu.PYUObject object at 0x7fb7008fd100>, PYURuntime(party2): <secretflow.device.device.pyu.PYUObject object at 0x7fb7008fd190>, PYURuntime(party3): <secretflow.device.device.pyu.PYUObject object at 0x7fb7008fd0d0>, PYURuntime(party4): <secretflow.device.device.pyu.PYUObject object at 0x7fb7008fd220>, PYURuntime(party5): <secretflow.device.device.pyu.PYUObject object at 0x7fb7008fd340>, PYURuntime(party6): <secretflow.device.device.pyu.PYUObject object at 0x7fb7008fd4f0>, PYURuntime(party7): <secretflow.device.device.pyu.PYUObject object at 0x7fb7008fd6a0>, PYURuntime(party8): <secretflow.device.device.pyu.PYUObject object at 0x7fb7008fd850>, PYURuntime(party9): <secretflow.device.device.pyu.PYUObject object at 0x7fb7008fda00>}, partition_way=<PartitionWay.HORIZONTAL: 'horizontal'>)), 'shuffle': False, 'class_weight': None, 'sample_weight': None, 'validation_freq': 1, 'aggregate_freq': 1, 'label_decoder': None, 'max_batch_size': 20000, 'prefetch_buffer_size': None, 'sampler_method': 'batch', 'random_seed': 58793, 'dp_spent_step_freq': None, 'audit_log_dir': None, 'dataset_builder': None, 'wait_steps': 100, 'self': <secretflow.ml.nn.fl.fl_model.FLModel object at 0x7fb608d81b80>}\n",
      "Train Processing: :   0%|          | 0/47 [00:00<?, ?it/s]"
     ]
    },
    {
     "name": "stderr",
     "output_type": "stream",
     "text": [
      "\u001b[2m\u001b[36m(pid=63988)\u001b[0m 2024-02-22 11:16:03.050429: W tensorflow/compiler/xla/stream_executor/platform/default/dso_loader.cc:64] Could not load dynamic library 'libcudart.so.11.0'; dlerror: libcudart.so.11.0: cannot open shared object file: No such file or directory\n",
      "\u001b[2m\u001b[36m(pid=63992)\u001b[0m 2024-02-22 11:16:03.273573: W tensorflow/compiler/xla/stream_executor/platform/default/dso_loader.cc:64] Could not load dynamic library 'libcudart.so.11.0'; dlerror: libcudart.so.11.0: cannot open shared object file: No such file or directory\n",
      "\u001b[2m\u001b[36m(pid=64173)\u001b[0m 2024-02-22 11:16:03.436249: W tensorflow/compiler/xla/stream_executor/platform/default/dso_loader.cc:64] Could not load dynamic library 'libcudart.so.11.0'; dlerror: libcudart.so.11.0: cannot open shared object file: No such file or directory\n",
      "\u001b[2m\u001b[36m(pid=64381)\u001b[0m 2024-02-22 11:16:03.935331: W tensorflow/compiler/xla/stream_executor/platform/default/dso_loader.cc:64] Could not load dynamic library 'libcudart.so.11.0'; dlerror: libcudart.so.11.0: cannot open shared object file: No such file or directory\n",
      "\u001b[2m\u001b[36m(pid=63988)\u001b[0m 2024-02-22 11:16:04.194578: W tensorflow/compiler/xla/stream_executor/platform/default/dso_loader.cc:64] Could not load dynamic library 'libnvinfer.so.7'; dlerror: libnvinfer.so.7: cannot open shared object file: No such file or directory\n",
      "\u001b[2m\u001b[36m(pid=63988)\u001b[0m 2024-02-22 11:16:04.194700: W tensorflow/compiler/xla/stream_executor/platform/default/dso_loader.cc:64] Could not load dynamic library 'libnvinfer_plugin.so.7'; dlerror: libnvinfer_plugin.so.7: cannot open shared object file: No such file or directory\n",
      "\u001b[2m\u001b[36m(pid=63988)\u001b[0m 2024-02-22 11:16:04.194709: W tensorflow/compiler/tf2tensorrt/utils/py_utils.cc:38] TF-TRT Warning: Cannot dlopen some TensorRT libraries. If you would like to use Nvidia GPU with TensorRT, please make sure the missing libraries mentioned above are installed properly.\n",
      "\u001b[2m\u001b[36m(pid=64630)\u001b[0m 2024-02-22 11:16:04.243343: W tensorflow/compiler/xla/stream_executor/platform/default/dso_loader.cc:64] Could not load dynamic library 'libcudart.so.11.0'; dlerror: libcudart.so.11.0: cannot open shared object file: No such file or directory\n",
      "\u001b[2m\u001b[36m(pid=63992)\u001b[0m 2024-02-22 11:16:04.502950: W tensorflow/compiler/xla/stream_executor/platform/default/dso_loader.cc:64] Could not load dynamic library 'libnvinfer.so.7'; dlerror: libnvinfer.so.7: cannot open shared object file: No such file or directory\n",
      "\u001b[2m\u001b[36m(pid=63992)\u001b[0m 2024-02-22 11:16:04.503074: W tensorflow/compiler/xla/stream_executor/platform/default/dso_loader.cc:64] Could not load dynamic library 'libnvinfer_plugin.so.7'; dlerror: libnvinfer_plugin.so.7: cannot open shared object file: No such file or directory\n",
      "\u001b[2m\u001b[36m(pid=63992)\u001b[0m 2024-02-22 11:16:04.503084: W tensorflow/compiler/tf2tensorrt/utils/py_utils.cc:38] TF-TRT Warning: Cannot dlopen some TensorRT libraries. If you would like to use Nvidia GPU with TensorRT, please make sure the missing libraries mentioned above are installed properly.\n",
      "\u001b[2m\u001b[36m(pid=64852)\u001b[0m 2024-02-22 11:16:04.714920: W tensorflow/compiler/xla/stream_executor/platform/default/dso_loader.cc:64] Could not load dynamic library 'libcudart.so.11.0'; dlerror: libcudart.so.11.0: cannot open shared object file: No such file or directory\n",
      "\u001b[2m\u001b[36m(pid=64173)\u001b[0m 2024-02-22 11:16:04.768756: W tensorflow/compiler/xla/stream_executor/platform/default/dso_loader.cc:64] Could not load dynamic library 'libnvinfer.so.7'; dlerror: libnvinfer.so.7: cannot open shared object file: No such file or directory\n",
      "\u001b[2m\u001b[36m(pid=64173)\u001b[0m 2024-02-22 11:16:04.768876: W tensorflow/compiler/xla/stream_executor/platform/default/dso_loader.cc:64] Could not load dynamic library 'libnvinfer_plugin.so.7'; dlerror: libnvinfer_plugin.so.7: cannot open shared object file: No such file or directory\n",
      "\u001b[2m\u001b[36m(pid=64173)\u001b[0m 2024-02-22 11:16:04.768887: W tensorflow/compiler/tf2tensorrt/utils/py_utils.cc:38] TF-TRT Warning: Cannot dlopen some TensorRT libraries. If you would like to use Nvidia GPU with TensorRT, please make sure the missing libraries mentioned above are installed properly.\n",
      "\u001b[2m\u001b[36m(pid=65171)\u001b[0m 2024-02-22 11:16:04.731042: W tensorflow/compiler/xla/stream_executor/platform/default/dso_loader.cc:64] Could not load dynamic library 'libcudart.so.11.0'; dlerror: libcudart.so.11.0: cannot open shared object file: No such file or directory\n",
      "\u001b[2m\u001b[36m(pid=64381)\u001b[0m 2024-02-22 11:16:05.376830: W tensorflow/compiler/xla/stream_executor/platform/default/dso_loader.cc:64] Could not load dynamic library 'libnvinfer.so.7'; dlerror: libnvinfer.so.7: cannot open shared object file: No such file or directory\n",
      "\u001b[2m\u001b[36m(pid=64381)\u001b[0m 2024-02-22 11:16:05.376959: W tensorflow/compiler/xla/stream_executor/platform/default/dso_loader.cc:64] Could not load dynamic library 'libnvinfer_plugin.so.7'; dlerror: libnvinfer_plugin.so.7: cannot open shared object file: No such file or directory\n",
      "\u001b[2m\u001b[36m(pid=64381)\u001b[0m 2024-02-22 11:16:05.376970: W tensorflow/compiler/tf2tensorrt/utils/py_utils.cc:38] TF-TRT Warning: Cannot dlopen some TensorRT libraries. If you would like to use Nvidia GPU with TensorRT, please make sure the missing libraries mentioned above are installed properly.\n",
      "\u001b[2m\u001b[36m(pid=65457)\u001b[0m 2024-02-22 11:16:05.376840: W tensorflow/compiler/xla/stream_executor/platform/default/dso_loader.cc:64] Could not load dynamic library 'libcudart.so.11.0'; dlerror: libcudart.so.11.0: cannot open shared object file: No such file or directory\n",
      "\u001b[2m\u001b[36m(pid=64630)\u001b[0m 2024-02-22 11:16:05.618020: W tensorflow/compiler/xla/stream_executor/platform/default/dso_loader.cc:64] Could not load dynamic library 'libnvinfer.so.7'; dlerror: libnvinfer.so.7: cannot open shared object file: No such file or directory\n",
      "\u001b[2m\u001b[36m(pid=64630)\u001b[0m 2024-02-22 11:16:05.618128: W tensorflow/compiler/xla/stream_executor/platform/default/dso_loader.cc:64] Could not load dynamic library 'libnvinfer_plugin.so.7'; dlerror: libnvinfer_plugin.so.7: cannot open shared object file: No such file or directory\n",
      "\u001b[2m\u001b[36m(pid=64630)\u001b[0m 2024-02-22 11:16:05.618137: W tensorflow/compiler/tf2tensorrt/utils/py_utils.cc:38] TF-TRT Warning: Cannot dlopen some TensorRT libraries. If you would like to use Nvidia GPU with TensorRT, please make sure the missing libraries mentioned above are installed properly.\n",
      "\u001b[2m\u001b[36m(pid=64852)\u001b[0m 2024-02-22 11:16:05.730457: W tensorflow/compiler/xla/stream_executor/platform/default/dso_loader.cc:64] Could not load dynamic library 'libnvinfer.so.7'; dlerror: libnvinfer.so.7: cannot open shared object file: No such file or directory\n",
      "\u001b[2m\u001b[36m(pid=64852)\u001b[0m 2024-02-22 11:16:05.730559: W tensorflow/compiler/xla/stream_executor/platform/default/dso_loader.cc:64] Could not load dynamic library 'libnvinfer_plugin.so.7'; dlerror: libnvinfer_plugin.so.7: cannot open shared object file: No such file or directory\n",
      "\u001b[2m\u001b[36m(pid=64852)\u001b[0m 2024-02-22 11:16:05.730569: W tensorflow/compiler/tf2tensorrt/utils/py_utils.cc:38] TF-TRT Warning: Cannot dlopen some TensorRT libraries. If you would like to use Nvidia GPU with TensorRT, please make sure the missing libraries mentioned above are installed properly.\n",
      "\u001b[2m\u001b[36m(pid=65171)\u001b[0m 2024-02-22 11:16:05.834575: W tensorflow/compiler/xla/stream_executor/platform/default/dso_loader.cc:64] Could not load dynamic library 'libnvinfer.so.7'; dlerror: libnvinfer.so.7: cannot open shared object file: No such file or directory\n",
      "\u001b[2m\u001b[36m(pid=65171)\u001b[0m 2024-02-22 11:16:05.834692: W tensorflow/compiler/xla/stream_executor/platform/default/dso_loader.cc:64] Could not load dynamic library 'libnvinfer_plugin.so.7'; dlerror: libnvinfer_plugin.so.7: cannot open shared object file: No such file or directory\n",
      "\u001b[2m\u001b[36m(pid=65171)\u001b[0m 2024-02-22 11:16:05.834702: W tensorflow/compiler/tf2tensorrt/utils/py_utils.cc:38] TF-TRT Warning: Cannot dlopen some TensorRT libraries. If you would like to use Nvidia GPU with TensorRT, please make sure the missing libraries mentioned above are installed properly.\n",
      "\u001b[2m\u001b[36m(pid=532)\u001b[0m 2024-02-22 11:16:05.955293: W tensorflow/compiler/xla/stream_executor/platform/default/dso_loader.cc:64] Could not load dynamic library 'libcudart.so.11.0'; dlerror: libcudart.so.11.0: cannot open shared object file: No such file or directory\n",
      "\u001b[2m\u001b[36m(pid=721)\u001b[0m 2024-02-22 11:16:06.387639: W tensorflow/compiler/xla/stream_executor/platform/default/dso_loader.cc:64] Could not load dynamic library 'libcudart.so.11.0'; dlerror: libcudart.so.11.0: cannot open shared object file: No such file or directory\n",
      "\u001b[2m\u001b[36m(pid=65457)\u001b[0m 2024-02-22 11:16:06.504504: W tensorflow/compiler/xla/stream_executor/platform/default/dso_loader.cc:64] Could not load dynamic library 'libnvinfer.so.7'; dlerror: libnvinfer.so.7: cannot open shared object file: No such file or directory\n",
      "\u001b[2m\u001b[36m(pid=65457)\u001b[0m 2024-02-22 11:16:06.504623: W tensorflow/compiler/xla/stream_executor/platform/default/dso_loader.cc:64] Could not load dynamic library 'libnvinfer_plugin.so.7'; dlerror: libnvinfer_plugin.so.7: cannot open shared object file: No such file or directory\n",
      "\u001b[2m\u001b[36m(pid=65457)\u001b[0m 2024-02-22 11:16:06.504633: W tensorflow/compiler/tf2tensorrt/utils/py_utils.cc:38] TF-TRT Warning: Cannot dlopen some TensorRT libraries. If you would like to use Nvidia GPU with TensorRT, please make sure the missing libraries mentioned above are installed properly.\n",
      "\u001b[2m\u001b[36m(pid=532)\u001b[0m 2024-02-22 11:16:07.184738: W tensorflow/compiler/xla/stream_executor/platform/default/dso_loader.cc:64] Could not load dynamic library 'libnvinfer.so.7'; dlerror: libnvinfer.so.7: cannot open shared object file: No such file or directory\n",
      "\u001b[2m\u001b[36m(pid=532)\u001b[0m 2024-02-22 11:16:07.184853: W tensorflow/compiler/xla/stream_executor/platform/default/dso_loader.cc:64] Could not load dynamic library 'libnvinfer_plugin.so.7'; dlerror: libnvinfer_plugin.so.7: cannot open shared object file: No such file or directory\n",
      "\u001b[2m\u001b[36m(pid=532)\u001b[0m 2024-02-22 11:16:07.184863: W tensorflow/compiler/tf2tensorrt/utils/py_utils.cc:38] TF-TRT Warning: Cannot dlopen some TensorRT libraries. If you would like to use Nvidia GPU with TensorRT, please make sure the missing libraries mentioned above are installed properly.\n",
      "\u001b[2m\u001b[36m(pid=63988)\u001b[0m 2024-02-22 11:16:07.244622: W tensorflow/compiler/xla/stream_executor/platform/default/dso_loader.cc:64] Could not load dynamic library 'libcuda.so.1'; dlerror: libcuda.so.1: cannot open shared object file: No such file or directory\n",
      "\u001b[2m\u001b[36m(pid=63988)\u001b[0m 2024-02-22 11:16:07.244689: W tensorflow/compiler/xla/stream_executor/cuda/cuda_driver.cc:265] failed call to cuInit: UNKNOWN ERROR (303)\n",
      "\u001b[2m\u001b[36m(pid=721)\u001b[0m 2024-02-22 11:16:07.524625: W tensorflow/compiler/xla/stream_executor/platform/default/dso_loader.cc:64] Could not load dynamic library 'libnvinfer.so.7'; dlerror: libnvinfer.so.7: cannot open shared object file: No such file or directory\n",
      "\u001b[2m\u001b[36m(pid=721)\u001b[0m 2024-02-22 11:16:07.524733: W tensorflow/compiler/xla/stream_executor/platform/default/dso_loader.cc:64] Could not load dynamic library 'libnvinfer_plugin.so.7'; dlerror: libnvinfer_plugin.so.7: cannot open shared object file: No such file or directory\n",
      "\u001b[2m\u001b[36m(pid=721)\u001b[0m 2024-02-22 11:16:07.524742: W tensorflow/compiler/tf2tensorrt/utils/py_utils.cc:38] TF-TRT Warning: Cannot dlopen some TensorRT libraries. If you would like to use Nvidia GPU with TensorRT, please make sure the missing libraries mentioned above are installed properly.\n",
      "\u001b[2m\u001b[36m(pid=63992)\u001b[0m 2024-02-22 11:16:07.776322: W tensorflow/compiler/xla/stream_executor/platform/default/dso_loader.cc:64] Could not load dynamic library 'libcuda.so.1'; dlerror: libcuda.so.1: cannot open shared object file: No such file or directory\n",
      "\u001b[2m\u001b[36m(pid=63992)\u001b[0m 2024-02-22 11:16:07.776392: W tensorflow/compiler/xla/stream_executor/cuda/cuda_driver.cc:265] failed call to cuInit: UNKNOWN ERROR (303)\n",
      "\u001b[2m\u001b[36m(pid=64173)\u001b[0m 2024-02-22 11:16:07.959936: W tensorflow/compiler/xla/stream_executor/platform/default/dso_loader.cc:64] Could not load dynamic library 'libcuda.so.1'; dlerror: libcuda.so.1: cannot open shared object file: No such file or directory\n",
      "\u001b[2m\u001b[36m(pid=64173)\u001b[0m 2024-02-22 11:16:07.959993: W tensorflow/compiler/xla/stream_executor/cuda/cuda_driver.cc:265] failed call to cuInit: UNKNOWN ERROR (303)\n",
      "\u001b[2m\u001b[36m(pid=64852)\u001b[0m 2024-02-22 11:16:08.701097: W tensorflow/compiler/xla/stream_executor/platform/default/dso_loader.cc:64] Could not load dynamic library 'libcuda.so.1'; dlerror: libcuda.so.1: cannot open shared object file: No such file or directory\n",
      "\u001b[2m\u001b[36m(pid=64852)\u001b[0m 2024-02-22 11:16:08.701164: W tensorflow/compiler/xla/stream_executor/cuda/cuda_driver.cc:265] failed call to cuInit: UNKNOWN ERROR (303)\n",
      "\u001b[2m\u001b[36m(pid=64630)\u001b[0m 2024-02-22 11:16:08.879004: W tensorflow/compiler/xla/stream_executor/platform/default/dso_loader.cc:64] Could not load dynamic library 'libcuda.so.1'; dlerror: libcuda.so.1: cannot open shared object file: No such file or directory\n",
      "\u001b[2m\u001b[36m(pid=64630)\u001b[0m 2024-02-22 11:16:08.879071: W tensorflow/compiler/xla/stream_executor/cuda/cuda_driver.cc:265] failed call to cuInit: UNKNOWN ERROR (303)\n",
      "\u001b[2m\u001b[36m(pid=64381)\u001b[0m 2024-02-22 11:16:08.993180: W tensorflow/compiler/xla/stream_executor/platform/default/dso_loader.cc:64] Could not load dynamic library 'libcuda.so.1'; dlerror: libcuda.so.1: cannot open shared object file: No such file or directory\n",
      "\u001b[2m\u001b[36m(pid=64381)\u001b[0m 2024-02-22 11:16:08.993248: W tensorflow/compiler/xla/stream_executor/cuda/cuda_driver.cc:265] failed call to cuInit: UNKNOWN ERROR (303)\n",
      "\u001b[2m\u001b[36m(pid=65171)\u001b[0m 2024-02-22 11:16:09.088038: W tensorflow/compiler/xla/stream_executor/platform/default/dso_loader.cc:64] Could not load dynamic library 'libcuda.so.1'; dlerror: libcuda.so.1: cannot open shared object file: No such file or directory\n",
      "\u001b[2m\u001b[36m(pid=65171)\u001b[0m 2024-02-22 11:16:09.088128: W tensorflow/compiler/xla/stream_executor/cuda/cuda_driver.cc:265] failed call to cuInit: UNKNOWN ERROR (303)\n",
      "\u001b[2m\u001b[36m(pid=65457)\u001b[0m 2024-02-22 11:16:09.593708: W tensorflow/compiler/xla/stream_executor/platform/default/dso_loader.cc:64] Could not load dynamic library 'libcuda.so.1'; dlerror: libcuda.so.1: cannot open shared object file: No such file or directory\n",
      "\u001b[2m\u001b[36m(pid=65457)\u001b[0m 2024-02-22 11:16:09.593771: W tensorflow/compiler/xla/stream_executor/cuda/cuda_driver.cc:265] failed call to cuInit: UNKNOWN ERROR (303)\n",
      "\u001b[2m\u001b[36m(pid=532)\u001b[0m 2024-02-22 11:16:10.301978: W tensorflow/compiler/xla/stream_executor/platform/default/dso_loader.cc:64] Could not load dynamic library 'libcuda.so.1'; dlerror: libcuda.so.1: cannot open shared object file: No such file or directory\n",
      "\u001b[2m\u001b[36m(pid=532)\u001b[0m 2024-02-22 11:16:10.302038: W tensorflow/compiler/xla/stream_executor/cuda/cuda_driver.cc:265] failed call to cuInit: UNKNOWN ERROR (303)\n",
      "\u001b[2m\u001b[36m(pid=721)\u001b[0m 2024-02-22 11:16:10.676022: W tensorflow/compiler/xla/stream_executor/platform/default/dso_loader.cc:64] Could not load dynamic library 'libcuda.so.1'; dlerror: libcuda.so.1: cannot open shared object file: No such file or directory\n",
      "\u001b[2m\u001b[36m(pid=721)\u001b[0m 2024-02-22 11:16:10.676107: W tensorflow/compiler/xla/stream_executor/cuda/cuda_driver.cc:265] failed call to cuInit: UNKNOWN ERROR (303)\n",
      "\u001b[2m\u001b[36m(pid=11914)\u001b[0m 2024-02-22 11:16:38.010541: W tensorflow/compiler/xla/stream_executor/platform/default/dso_loader.cc:64] Could not load dynamic library 'libcudart.so.11.0'; dlerror: libcudart.so.11.0: cannot open shared object file: No such file or directory\n",
      "\u001b[2m\u001b[36m(pid=12205)\u001b[0m 2024-02-22 11:16:38.775581: W tensorflow/compiler/xla/stream_executor/platform/default/dso_loader.cc:64] Could not load dynamic library 'libcudart.so.11.0'; dlerror: libcudart.so.11.0: cannot open shared object file: No such file or directory\n",
      "\u001b[2m\u001b[36m(pid=11914)\u001b[0m 2024-02-22 11:16:39.047223: W tensorflow/compiler/xla/stream_executor/platform/default/dso_loader.cc:64] Could not load dynamic library 'libnvinfer.so.7'; dlerror: libnvinfer.so.7: cannot open shared object file: No such file or directory\n",
      "\u001b[2m\u001b[36m(pid=11914)\u001b[0m 2024-02-22 11:16:39.047335: W tensorflow/compiler/xla/stream_executor/platform/default/dso_loader.cc:64] Could not load dynamic library 'libnvinfer_plugin.so.7'; dlerror: libnvinfer_plugin.so.7: cannot open shared object file: No such file or directory\n",
      "\u001b[2m\u001b[36m(pid=11914)\u001b[0m 2024-02-22 11:16:39.047344: W tensorflow/compiler/tf2tensorrt/utils/py_utils.cc:38] TF-TRT Warning: Cannot dlopen some TensorRT libraries. If you would like to use Nvidia GPU with TensorRT, please make sure the missing libraries mentioned above are installed properly.\n",
      "\u001b[2m\u001b[36m(pid=12560)\u001b[0m 2024-02-22 11:16:39.442465: W tensorflow/compiler/xla/stream_executor/platform/default/dso_loader.cc:64] Could not load dynamic library 'libcudart.so.11.0'; dlerror: libcudart.so.11.0: cannot open shared object file: No such file or directory\n",
      "\u001b[2m\u001b[36m(pid=12205)\u001b[0m 2024-02-22 11:16:39.864928: W tensorflow/compiler/xla/stream_executor/platform/default/dso_loader.cc:64] Could not load dynamic library 'libnvinfer.so.7'; dlerror: libnvinfer.so.7: cannot open shared object file: No such file or directory\n",
      "\u001b[2m\u001b[36m(pid=12205)\u001b[0m 2024-02-22 11:16:39.865051: W tensorflow/compiler/xla/stream_executor/platform/default/dso_loader.cc:64] Could not load dynamic library 'libnvinfer_plugin.so.7'; dlerror: libnvinfer_plugin.so.7: cannot open shared object file: No such file or directory\n",
      "\u001b[2m\u001b[36m(pid=12205)\u001b[0m 2024-02-22 11:16:39.865061: W tensorflow/compiler/tf2tensorrt/utils/py_utils.cc:38] TF-TRT Warning: Cannot dlopen some TensorRT libraries. If you would like to use Nvidia GPU with TensorRT, please make sure the missing libraries mentioned above are installed properly.\n",
      "\u001b[2m\u001b[36m(pid=12703)\u001b[0m 2024-02-22 11:16:40.367514: W tensorflow/compiler/xla/stream_executor/platform/default/dso_loader.cc:64] Could not load dynamic library 'libcudart.so.11.0'; dlerror: libcudart.so.11.0: cannot open shared object file: No such file or directory\n",
      "\u001b[2m\u001b[36m(pid=12560)\u001b[0m 2024-02-22 11:16:40.573509: W tensorflow/compiler/xla/stream_executor/platform/default/dso_loader.cc:64] Could not load dynamic library 'libnvinfer.so.7'; dlerror: libnvinfer.so.7: cannot open shared object file: No such file or directory\n",
      "\u001b[2m\u001b[36m(pid=12560)\u001b[0m 2024-02-22 11:16:40.573637: W tensorflow/compiler/xla/stream_executor/platform/default/dso_loader.cc:64] Could not load dynamic library 'libnvinfer_plugin.so.7'; dlerror: libnvinfer_plugin.so.7: cannot open shared object file: No such file or directory\n",
      "\u001b[2m\u001b[36m(pid=12560)\u001b[0m 2024-02-22 11:16:40.573646: W tensorflow/compiler/tf2tensorrt/utils/py_utils.cc:38] TF-TRT Warning: Cannot dlopen some TensorRT libraries. If you would like to use Nvidia GPU with TensorRT, please make sure the missing libraries mentioned above are installed properly.\n",
      "\u001b[2m\u001b[36m(pid=13127)\u001b[0m 2024-02-22 11:16:41.159032: W tensorflow/compiler/xla/stream_executor/platform/default/dso_loader.cc:64] Could not load dynamic library 'libcudart.so.11.0'; dlerror: libcudart.so.11.0: cannot open shared object file: No such file or directory\n",
      "\u001b[2m\u001b[36m(pid=12703)\u001b[0m 2024-02-22 11:16:41.514008: W tensorflow/compiler/xla/stream_executor/platform/default/dso_loader.cc:64] Could not load dynamic library 'libnvinfer.so.7'; dlerror: libnvinfer.so.7: cannot open shared object file: No such file or directory\n",
      "\u001b[2m\u001b[36m(pid=12703)\u001b[0m 2024-02-22 11:16:41.514127: W tensorflow/compiler/xla/stream_executor/platform/default/dso_loader.cc:64] Could not load dynamic library 'libnvinfer_plugin.so.7'; dlerror: libnvinfer_plugin.so.7: cannot open shared object file: No such file or directory\n",
      "\u001b[2m\u001b[36m(pid=12703)\u001b[0m 2024-02-22 11:16:41.514144: W tensorflow/compiler/tf2tensorrt/utils/py_utils.cc:38] TF-TRT Warning: Cannot dlopen some TensorRT libraries. If you would like to use Nvidia GPU with TensorRT, please make sure the missing libraries mentioned above are installed properly.\n",
      "\u001b[2m\u001b[36m(pid=13521)\u001b[0m 2024-02-22 11:16:41.860073: W tensorflow/compiler/xla/stream_executor/platform/default/dso_loader.cc:64] Could not load dynamic library 'libcudart.so.11.0'; dlerror: libcudart.so.11.0: cannot open shared object file: No such file or directory\n",
      "\u001b[2m\u001b[36m(pid=13127)\u001b[0m 2024-02-22 11:16:42.336482: W tensorflow/compiler/xla/stream_executor/platform/default/dso_loader.cc:64] Could not load dynamic library 'libnvinfer.so.7'; dlerror: libnvinfer.so.7: cannot open shared object file: No such file or directory\n",
      "\u001b[2m\u001b[36m(pid=13127)\u001b[0m 2024-02-22 11:16:42.336580: W tensorflow/compiler/xla/stream_executor/platform/default/dso_loader.cc:64] Could not load dynamic library 'libnvinfer_plugin.so.7'; dlerror: libnvinfer_plugin.so.7: cannot open shared object file: No such file or directory\n",
      "\u001b[2m\u001b[36m(pid=13127)\u001b[0m 2024-02-22 11:16:42.336590: W tensorflow/compiler/tf2tensorrt/utils/py_utils.cc:38] TF-TRT Warning: Cannot dlopen some TensorRT libraries. If you would like to use Nvidia GPU with TensorRT, please make sure the missing libraries mentioned above are installed properly.\n",
      "\u001b[2m\u001b[36m(pid=11914)\u001b[0m 2024-02-22 11:16:42.396788: W tensorflow/compiler/xla/stream_executor/platform/default/dso_loader.cc:64] Could not load dynamic library 'libcuda.so.1'; dlerror: libcuda.so.1: cannot open shared object file: No such file or directory\n",
      "\u001b[2m\u001b[36m(pid=11914)\u001b[0m 2024-02-22 11:16:42.396846: W tensorflow/compiler/xla/stream_executor/cuda/cuda_driver.cc:265] failed call to cuInit: UNKNOWN ERROR (303)\n",
      "\u001b[2m\u001b[36m(pid=13942)\u001b[0m 2024-02-22 11:16:42.839661: W tensorflow/compiler/xla/stream_executor/platform/default/dso_loader.cc:64] Could not load dynamic library 'libcudart.so.11.0'; dlerror: libcudart.so.11.0: cannot open shared object file: No such file or directory\n",
      "\u001b[2m\u001b[36m(pid=12205)\u001b[0m 2024-02-22 11:16:43.022124: W tensorflow/compiler/xla/stream_executor/platform/default/dso_loader.cc:64] Could not load dynamic library 'libcuda.so.1'; dlerror: libcuda.so.1: cannot open shared object file: No such file or directory\n",
      "\u001b[2m\u001b[36m(pid=12205)\u001b[0m 2024-02-22 11:16:43.022202: W tensorflow/compiler/xla/stream_executor/cuda/cuda_driver.cc:265] failed call to cuInit: UNKNOWN ERROR (303)\n",
      "\u001b[2m\u001b[36m(pid=13521)\u001b[0m 2024-02-22 11:16:43.157080: W tensorflow/compiler/xla/stream_executor/platform/default/dso_loader.cc:64] Could not load dynamic library 'libnvinfer.so.7'; dlerror: libnvinfer.so.7: cannot open shared object file: No such file or directory\n",
      "\u001b[2m\u001b[36m(pid=13521)\u001b[0m 2024-02-22 11:16:43.157196: W tensorflow/compiler/xla/stream_executor/platform/default/dso_loader.cc:64] Could not load dynamic library 'libnvinfer_plugin.so.7'; dlerror: libnvinfer_plugin.so.7: cannot open shared object file: No such file or directory\n",
      "\u001b[2m\u001b[36m(pid=13521)\u001b[0m 2024-02-22 11:16:43.157206: W tensorflow/compiler/tf2tensorrt/utils/py_utils.cc:38] TF-TRT Warning: Cannot dlopen some TensorRT libraries. If you would like to use Nvidia GPU with TensorRT, please make sure the missing libraries mentioned above are installed properly.\n",
      "\u001b[2m\u001b[36m(pid=14282)\u001b[0m 2024-02-22 11:16:43.944831: W tensorflow/compiler/xla/stream_executor/platform/default/dso_loader.cc:64] Could not load dynamic library 'libcudart.so.11.0'; dlerror: libcudart.so.11.0: cannot open shared object file: No such file or directory\n",
      "\u001b[2m\u001b[36m(pid=12560)\u001b[0m 2024-02-22 11:16:44.021366: W tensorflow/compiler/xla/stream_executor/platform/default/dso_loader.cc:64] Could not load dynamic library 'libcuda.so.1'; dlerror: libcuda.so.1: cannot open shared object file: No such file or directory\n",
      "\u001b[2m\u001b[36m(pid=12560)\u001b[0m 2024-02-22 11:16:44.034394: W tensorflow/compiler/xla/stream_executor/cuda/cuda_driver.cc:265] failed call to cuInit: UNKNOWN ERROR (303)\n",
      "\u001b[2m\u001b[36m(pid=13942)\u001b[0m 2024-02-22 11:16:44.091816: W tensorflow/compiler/xla/stream_executor/platform/default/dso_loader.cc:64] Could not load dynamic library 'libnvinfer.so.7'; dlerror: libnvinfer.so.7: cannot open shared object file: No such file or directory\n",
      "\u001b[2m\u001b[36m(pid=13942)\u001b[0m 2024-02-22 11:16:44.091942: W tensorflow/compiler/xla/stream_executor/platform/default/dso_loader.cc:64] Could not load dynamic library 'libnvinfer_plugin.so.7'; dlerror: libnvinfer_plugin.so.7: cannot open shared object file: No such file or directory\n",
      "\u001b[2m\u001b[36m(pid=13942)\u001b[0m 2024-02-22 11:16:44.091951: W tensorflow/compiler/tf2tensorrt/utils/py_utils.cc:38] TF-TRT Warning: Cannot dlopen some TensorRT libraries. If you would like to use Nvidia GPU with TensorRT, please make sure the missing libraries mentioned above are installed properly.\n",
      "\u001b[2m\u001b[36m(pid=14759)\u001b[0m 2024-02-22 11:16:44.976140: W tensorflow/compiler/xla/stream_executor/platform/default/dso_loader.cc:64] Could not load dynamic library 'libcudart.so.11.0'; dlerror: libcudart.so.11.0: cannot open shared object file: No such file or directory\n",
      "\u001b[2m\u001b[36m(pid=12703)\u001b[0m 2024-02-22 11:16:45.169182: W tensorflow/compiler/xla/stream_executor/platform/default/dso_loader.cc:64] Could not load dynamic library 'libcuda.so.1'; dlerror: libcuda.so.1: cannot open shared object file: No such file or directory\n",
      "\u001b[2m\u001b[36m(pid=12703)\u001b[0m 2024-02-22 11:16:45.169247: W tensorflow/compiler/xla/stream_executor/cuda/cuda_driver.cc:265] failed call to cuInit: UNKNOWN ERROR (303)\n",
      "\u001b[2m\u001b[36m(pid=14282)\u001b[0m 2024-02-22 11:16:45.078449: W tensorflow/compiler/xla/stream_executor/platform/default/dso_loader.cc:64] Could not load dynamic library 'libnvinfer.so.7'; dlerror: libnvinfer.so.7: cannot open shared object file: No such file or directory\n",
      "\u001b[2m\u001b[36m(pid=14282)\u001b[0m 2024-02-22 11:16:45.078562: W tensorflow/compiler/xla/stream_executor/platform/default/dso_loader.cc:64] Could not load dynamic library 'libnvinfer_plugin.so.7'; dlerror: libnvinfer_plugin.so.7: cannot open shared object file: No such file or directory\n",
      "\u001b[2m\u001b[36m(pid=14282)\u001b[0m 2024-02-22 11:16:45.078572: W tensorflow/compiler/tf2tensorrt/utils/py_utils.cc:38] TF-TRT Warning: Cannot dlopen some TensorRT libraries. If you would like to use Nvidia GPU with TensorRT, please make sure the missing libraries mentioned above are installed properly.\n",
      "\u001b[2m\u001b[36m(pid=13127)\u001b[0m 2024-02-22 11:16:45.604269: W tensorflow/compiler/xla/stream_executor/platform/default/dso_loader.cc:64] Could not load dynamic library 'libcuda.so.1'; dlerror: libcuda.so.1: cannot open shared object file: No such file or directory\n",
      "\u001b[2m\u001b[36m(pid=13127)\u001b[0m 2024-02-22 11:16:45.604338: W tensorflow/compiler/xla/stream_executor/cuda/cuda_driver.cc:265] failed call to cuInit: UNKNOWN ERROR (303)\n",
      "\u001b[2m\u001b[36m(pid=15533)\u001b[0m 2024-02-22 11:16:46.037216: W tensorflow/compiler/xla/stream_executor/platform/default/dso_loader.cc:64] Could not load dynamic library 'libcudart.so.11.0'; dlerror: libcudart.so.11.0: cannot open shared object file: No such file or directory\n",
      "\u001b[2m\u001b[36m(pid=14759)\u001b[0m 2024-02-22 11:16:46.113925: W tensorflow/compiler/xla/stream_executor/platform/default/dso_loader.cc:64] Could not load dynamic library 'libnvinfer.so.7'; dlerror: libnvinfer.so.7: cannot open shared object file: No such file or directory\n",
      "\u001b[2m\u001b[36m(pid=14759)\u001b[0m 2024-02-22 11:16:46.114025: W tensorflow/compiler/xla/stream_executor/platform/default/dso_loader.cc:64] Could not load dynamic library 'libnvinfer_plugin.so.7'; dlerror: libnvinfer_plugin.so.7: cannot open shared object file: No such file or directory\n",
      "\u001b[2m\u001b[36m(pid=14759)\u001b[0m 2024-02-22 11:16:46.114034: W tensorflow/compiler/tf2tensorrt/utils/py_utils.cc:38] TF-TRT Warning: Cannot dlopen some TensorRT libraries. If you would like to use Nvidia GPU with TensorRT, please make sure the missing libraries mentioned above are installed properly.\n",
      "\u001b[2m\u001b[36m(pid=13521)\u001b[0m 2024-02-22 11:16:46.440845: W tensorflow/compiler/xla/stream_executor/platform/default/dso_loader.cc:64] Could not load dynamic library 'libcuda.so.1'; dlerror: libcuda.so.1: cannot open shared object file: No such file or directory\n",
      "\u001b[2m\u001b[36m(pid=13521)\u001b[0m 2024-02-22 11:16:46.440930: W tensorflow/compiler/xla/stream_executor/cuda/cuda_driver.cc:265] failed call to cuInit: UNKNOWN ERROR (303)\n",
      "\u001b[2m\u001b[36m(pid=15533)\u001b[0m 2024-02-22 11:16:47.074384: W tensorflow/compiler/xla/stream_executor/platform/default/dso_loader.cc:64] Could not load dynamic library 'libnvinfer.so.7'; dlerror: libnvinfer.so.7: cannot open shared object file: No such file or directory\n",
      "\u001b[2m\u001b[36m(pid=15533)\u001b[0m 2024-02-22 11:16:47.074493: W tensorflow/compiler/xla/stream_executor/platform/default/dso_loader.cc:64] Could not load dynamic library 'libnvinfer_plugin.so.7'; dlerror: libnvinfer_plugin.so.7: cannot open shared object file: No such file or directory\n",
      "\u001b[2m\u001b[36m(pid=15533)\u001b[0m 2024-02-22 11:16:47.074503: W tensorflow/compiler/tf2tensorrt/utils/py_utils.cc:38] TF-TRT Warning: Cannot dlopen some TensorRT libraries. If you would like to use Nvidia GPU with TensorRT, please make sure the missing libraries mentioned above are installed properly.\n",
      "\u001b[2m\u001b[36m(pid=13942)\u001b[0m 2024-02-22 11:16:47.473598: W tensorflow/compiler/xla/stream_executor/platform/default/dso_loader.cc:64] Could not load dynamic library 'libcuda.so.1'; dlerror: libcuda.so.1: cannot open shared object file: No such file or directory\n",
      "\u001b[2m\u001b[36m(pid=13942)\u001b[0m 2024-02-22 11:16:47.473668: W tensorflow/compiler/xla/stream_executor/cuda/cuda_driver.cc:265] failed call to cuInit: UNKNOWN ERROR (303)\n",
      "\u001b[2m\u001b[36m(pid=14282)\u001b[0m 2024-02-22 11:16:48.300327: W tensorflow/compiler/xla/stream_executor/platform/default/dso_loader.cc:64] Could not load dynamic library 'libcuda.so.1'; dlerror: libcuda.so.1: cannot open shared object file: No such file or directory\n",
      "\u001b[2m\u001b[36m(pid=14282)\u001b[0m 2024-02-22 11:16:48.300406: W tensorflow/compiler/xla/stream_executor/cuda/cuda_driver.cc:265] failed call to cuInit: UNKNOWN ERROR (303)\n",
      "\u001b[2m\u001b[36m(pid=14759)\u001b[0m 2024-02-22 11:16:49.284750: W tensorflow/compiler/xla/stream_executor/platform/default/dso_loader.cc:64] Could not load dynamic library 'libcuda.so.1'; dlerror: libcuda.so.1: cannot open shared object file: No such file or directory\n",
      "\u001b[2m\u001b[36m(pid=14759)\u001b[0m 2024-02-22 11:16:49.284812: W tensorflow/compiler/xla/stream_executor/cuda/cuda_driver.cc:265] failed call to cuInit: UNKNOWN ERROR (303)\n",
      "\u001b[2m\u001b[36m(pid=15533)\u001b[0m 2024-02-22 11:16:50.140073: W tensorflow/compiler/xla/stream_executor/platform/default/dso_loader.cc:64] Could not load dynamic library 'libcuda.so.1'; dlerror: libcuda.so.1: cannot open shared object file: No such file or directory\n",
      "\u001b[2m\u001b[36m(pid=15533)\u001b[0m 2024-02-22 11:16:50.140131: W tensorflow/compiler/xla/stream_executor/cuda/cuda_driver.cc:265] failed call to cuInit: UNKNOWN ERROR (303)\n",
      "\u001b[2m\u001b[36m(pid=33295)\u001b[0m 2024-02-22 11:17:40.474031: W tensorflow/compiler/xla/stream_executor/platform/default/dso_loader.cc:64] Could not load dynamic library 'libcudart.so.11.0'; dlerror: libcudart.so.11.0: cannot open shared object file: No such file or directory\n",
      "\u001b[2m\u001b[36m(pid=33295)\u001b[0m 2024-02-22 11:17:41.547679: W tensorflow/compiler/xla/stream_executor/platform/default/dso_loader.cc:64] Could not load dynamic library 'libnvinfer.so.7'; dlerror: libnvinfer.so.7: cannot open shared object file: No such file or directory\n",
      "\u001b[2m\u001b[36m(pid=33295)\u001b[0m 2024-02-22 11:17:41.547863: W tensorflow/compiler/xla/stream_executor/platform/default/dso_loader.cc:64] Could not load dynamic library 'libnvinfer_plugin.so.7'; dlerror: libnvinfer_plugin.so.7: cannot open shared object file: No such file or directory\n",
      "\u001b[2m\u001b[36m(pid=33295)\u001b[0m 2024-02-22 11:17:41.547892: W tensorflow/compiler/tf2tensorrt/utils/py_utils.cc:38] TF-TRT Warning: Cannot dlopen some TensorRT libraries. If you would like to use Nvidia GPU with TensorRT, please make sure the missing libraries mentioned above are installed properly.\n",
      "\u001b[2m\u001b[36m(pid=33465)\u001b[0m 2024-02-22 11:17:41.540327: W tensorflow/compiler/xla/stream_executor/platform/default/dso_loader.cc:64] Could not load dynamic library 'libcudart.so.11.0'; dlerror: libcudart.so.11.0: cannot open shared object file: No such file or directory\n",
      "\u001b[2m\u001b[36m(pid=33465)\u001b[0m 2024-02-22 11:17:42.538837: W tensorflow/compiler/xla/stream_executor/platform/default/dso_loader.cc:64] Could not load dynamic library 'libnvinfer.so.7'; dlerror: libnvinfer.so.7: cannot open shared object file: No such file or directory\n",
      "\u001b[2m\u001b[36m(pid=33465)\u001b[0m 2024-02-22 11:17:42.538953: W tensorflow/compiler/xla/stream_executor/platform/default/dso_loader.cc:64] Could not load dynamic library 'libnvinfer_plugin.so.7'; dlerror: libnvinfer_plugin.so.7: cannot open shared object file: No such file or directory\n",
      "\u001b[2m\u001b[36m(pid=33465)\u001b[0m 2024-02-22 11:17:42.538961: W tensorflow/compiler/tf2tensorrt/utils/py_utils.cc:38] TF-TRT Warning: Cannot dlopen some TensorRT libraries. If you would like to use Nvidia GPU with TensorRT, please make sure the missing libraries mentioned above are installed properly.\n",
      "\u001b[2m\u001b[36m(pid=33674)\u001b[0m 2024-02-22 11:17:42.812227: W tensorflow/compiler/xla/stream_executor/platform/default/dso_loader.cc:64] Could not load dynamic library 'libcudart.so.11.0'; dlerror: libcudart.so.11.0: cannot open shared object file: No such file or directory\n",
      "\u001b[2m\u001b[36m(pid=33674)\u001b[0m 2024-02-22 11:17:43.866360: W tensorflow/compiler/xla/stream_executor/platform/default/dso_loader.cc:64] Could not load dynamic library 'libnvinfer.so.7'; dlerror: libnvinfer.so.7: cannot open shared object file: No such file or directory\n",
      "\u001b[2m\u001b[36m(pid=33674)\u001b[0m 2024-02-22 11:17:43.866470: W tensorflow/compiler/xla/stream_executor/platform/default/dso_loader.cc:64] Could not load dynamic library 'libnvinfer_plugin.so.7'; dlerror: libnvinfer_plugin.so.7: cannot open shared object file: No such file or directory\n",
      "\u001b[2m\u001b[36m(pid=33674)\u001b[0m 2024-02-22 11:17:43.866479: W tensorflow/compiler/tf2tensorrt/utils/py_utils.cc:38] TF-TRT Warning: Cannot dlopen some TensorRT libraries. If you would like to use Nvidia GPU with TensorRT, please make sure the missing libraries mentioned above are installed properly.\n",
      "\u001b[2m\u001b[36m(pid=33920)\u001b[0m 2024-02-22 11:17:44.104907: W tensorflow/compiler/xla/stream_executor/platform/default/dso_loader.cc:64] Could not load dynamic library 'libcudart.so.11.0'; dlerror: libcudart.so.11.0: cannot open shared object file: No such file or directory\n",
      "\u001b[2m\u001b[36m(pid=33295)\u001b[0m 2024-02-22 11:17:44.534368: W tensorflow/compiler/xla/stream_executor/platform/default/dso_loader.cc:64] Could not load dynamic library 'libcuda.so.1'; dlerror: libcuda.so.1: cannot open shared object file: No such file or directory\n",
      "\u001b[2m\u001b[36m(pid=33295)\u001b[0m 2024-02-22 11:17:44.534432: W tensorflow/compiler/xla/stream_executor/cuda/cuda_driver.cc:265] failed call to cuInit: UNKNOWN ERROR (303)\n",
      "\u001b[2m\u001b[36m(pid=33920)\u001b[0m 2024-02-22 11:17:45.153140: W tensorflow/compiler/xla/stream_executor/platform/default/dso_loader.cc:64] Could not load dynamic library 'libnvinfer.so.7'; dlerror: libnvinfer.so.7: cannot open shared object file: No such file or directory\n",
      "\u001b[2m\u001b[36m(pid=33920)\u001b[0m 2024-02-22 11:17:45.153276: W tensorflow/compiler/xla/stream_executor/platform/default/dso_loader.cc:64] Could not load dynamic library 'libnvinfer_plugin.so.7'; dlerror: libnvinfer_plugin.so.7: cannot open shared object file: No such file or directory\n",
      "\u001b[2m\u001b[36m(pid=33920)\u001b[0m 2024-02-22 11:17:45.153290: W tensorflow/compiler/tf2tensorrt/utils/py_utils.cc:38] TF-TRT Warning: Cannot dlopen some TensorRT libraries. If you would like to use Nvidia GPU with TensorRT, please make sure the missing libraries mentioned above are installed properly.\n",
      "\u001b[2m\u001b[36m(pid=34188)\u001b[0m 2024-02-22 11:17:45.461571: W tensorflow/compiler/xla/stream_executor/platform/default/dso_loader.cc:64] Could not load dynamic library 'libcudart.so.11.0'; dlerror: libcudart.so.11.0: cannot open shared object file: No such file or directory\n",
      "\u001b[2m\u001b[36m(pid=33465)\u001b[0m 2024-02-22 11:17:45.541490: W tensorflow/compiler/xla/stream_executor/platform/default/dso_loader.cc:64] Could not load dynamic library 'libcuda.so.1'; dlerror: libcuda.so.1: cannot open shared object file: No such file or directory\n",
      "\u001b[2m\u001b[36m(pid=33465)\u001b[0m 2024-02-22 11:17:45.541553: W tensorflow/compiler/xla/stream_executor/cuda/cuda_driver.cc:265] failed call to cuInit: UNKNOWN ERROR (303)\n",
      "\u001b[2m\u001b[36m(pid=34188)\u001b[0m 2024-02-22 11:17:46.646019: W tensorflow/compiler/xla/stream_executor/platform/default/dso_loader.cc:64] Could not load dynamic library 'libnvinfer.so.7'; dlerror: libnvinfer.so.7: cannot open shared object file: No such file or directory\n",
      "\u001b[2m\u001b[36m(pid=34188)\u001b[0m 2024-02-22 11:17:46.646169: W tensorflow/compiler/xla/stream_executor/platform/default/dso_loader.cc:64] Could not load dynamic library 'libnvinfer_plugin.so.7'; dlerror: libnvinfer_plugin.so.7: cannot open shared object file: No such file or directory\n",
      "\u001b[2m\u001b[36m(pid=34188)\u001b[0m 2024-02-22 11:17:46.646185: W tensorflow/compiler/tf2tensorrt/utils/py_utils.cc:38] TF-TRT Warning: Cannot dlopen some TensorRT libraries. If you would like to use Nvidia GPU with TensorRT, please make sure the missing libraries mentioned above are installed properly.\n",
      "\u001b[2m\u001b[36m(pid=34548)\u001b[0m 2024-02-22 11:17:46.832586: W tensorflow/compiler/xla/stream_executor/platform/default/dso_loader.cc:64] Could not load dynamic library 'libcudart.so.11.0'; dlerror: libcudart.so.11.0: cannot open shared object file: No such file or directory\n",
      "\u001b[2m\u001b[36m(pid=33674)\u001b[0m 2024-02-22 11:17:46.945316: W tensorflow/compiler/xla/stream_executor/platform/default/dso_loader.cc:64] Could not load dynamic library 'libcuda.so.1'; dlerror: libcuda.so.1: cannot open shared object file: No such file or directory\n",
      "\u001b[2m\u001b[36m(pid=33674)\u001b[0m 2024-02-22 11:17:46.945386: W tensorflow/compiler/xla/stream_executor/cuda/cuda_driver.cc:265] failed call to cuInit: UNKNOWN ERROR (303)\n",
      "\u001b[2m\u001b[36m(pid=34548)\u001b[0m 2024-02-22 11:17:48.036496: W tensorflow/compiler/xla/stream_executor/platform/default/dso_loader.cc:64] Could not load dynamic library 'libnvinfer.so.7'; dlerror: libnvinfer.so.7: cannot open shared object file: No such file or directory\n",
      "\u001b[2m\u001b[36m(pid=34548)\u001b[0m 2024-02-22 11:17:48.039772: W tensorflow/compiler/xla/stream_executor/platform/default/dso_loader.cc:64] Could not load dynamic library 'libnvinfer_plugin.so.7'; dlerror: libnvinfer_plugin.so.7: cannot open shared object file: No such file or directory\n",
      "\u001b[2m\u001b[36m(pid=34548)\u001b[0m 2024-02-22 11:17:48.039791: W tensorflow/compiler/tf2tensorrt/utils/py_utils.cc:38] TF-TRT Warning: Cannot dlopen some TensorRT libraries. If you would like to use Nvidia GPU with TensorRT, please make sure the missing libraries mentioned above are installed properly.\n",
      "\u001b[2m\u001b[36m(pid=33920)\u001b[0m 2024-02-22 11:17:48.410114: W tensorflow/compiler/xla/stream_executor/platform/default/dso_loader.cc:64] Could not load dynamic library 'libcuda.so.1'; dlerror: libcuda.so.1: cannot open shared object file: No such file or directory\n",
      "\u001b[2m\u001b[36m(pid=33920)\u001b[0m 2024-02-22 11:17:48.410177: W tensorflow/compiler/xla/stream_executor/cuda/cuda_driver.cc:265] failed call to cuInit: UNKNOWN ERROR (303)\n",
      "\u001b[2m\u001b[36m(pid=35217)\u001b[0m 2024-02-22 11:17:48.539848: W tensorflow/compiler/xla/stream_executor/platform/default/dso_loader.cc:64] Could not load dynamic library 'libcudart.so.11.0'; dlerror: libcudart.so.11.0: cannot open shared object file: No such file or directory\n",
      "\u001b[2m\u001b[36m(pid=35217)\u001b[0m 2024-02-22 11:17:49.823857: W tensorflow/compiler/xla/stream_executor/platform/default/dso_loader.cc:64] Could not load dynamic library 'libnvinfer.so.7'; dlerror: libnvinfer.so.7: cannot open shared object file: No such file or directory\n",
      "\u001b[2m\u001b[36m(pid=35217)\u001b[0m 2024-02-22 11:17:49.823968: W tensorflow/compiler/xla/stream_executor/platform/default/dso_loader.cc:64] Could not load dynamic library 'libnvinfer_plugin.so.7'; dlerror: libnvinfer_plugin.so.7: cannot open shared object file: No such file or directory\n",
      "\u001b[2m\u001b[36m(pid=35217)\u001b[0m 2024-02-22 11:17:49.823978: W tensorflow/compiler/tf2tensorrt/utils/py_utils.cc:38] TF-TRT Warning: Cannot dlopen some TensorRT libraries. If you would like to use Nvidia GPU with TensorRT, please make sure the missing libraries mentioned above are installed properly.\n",
      "\u001b[2m\u001b[36m(pid=35589)\u001b[0m 2024-02-22 11:17:49.994453: W tensorflow/compiler/xla/stream_executor/platform/default/dso_loader.cc:64] Could not load dynamic library 'libcudart.so.11.0'; dlerror: libcudart.so.11.0: cannot open shared object file: No such file or directory\n",
      "\u001b[2m\u001b[36m(pid=34188)\u001b[0m 2024-02-22 11:17:50.227372: W tensorflow/compiler/xla/stream_executor/platform/default/dso_loader.cc:64] Could not load dynamic library 'libcuda.so.1'; dlerror: libcuda.so.1: cannot open shared object file: No such file or directory\n",
      "\u001b[2m\u001b[36m(pid=34188)\u001b[0m 2024-02-22 11:17:50.227430: W tensorflow/compiler/xla/stream_executor/cuda/cuda_driver.cc:265] failed call to cuInit: UNKNOWN ERROR (303)\n",
      "\u001b[2m\u001b[36m(pid=35589)\u001b[0m 2024-02-22 11:17:51.016827: W tensorflow/compiler/xla/stream_executor/platform/default/dso_loader.cc:64] Could not load dynamic library 'libnvinfer.so.7'; dlerror: libnvinfer.so.7: cannot open shared object file: No such file or directory\n",
      "\u001b[2m\u001b[36m(pid=35589)\u001b[0m 2024-02-22 11:17:51.016941: W tensorflow/compiler/xla/stream_executor/platform/default/dso_loader.cc:64] Could not load dynamic library 'libnvinfer_plugin.so.7'; dlerror: libnvinfer_plugin.so.7: cannot open shared object file: No such file or directory\n",
      "\u001b[2m\u001b[36m(pid=35589)\u001b[0m 2024-02-22 11:17:51.016950: W tensorflow/compiler/tf2tensorrt/utils/py_utils.cc:38] TF-TRT Warning: Cannot dlopen some TensorRT libraries. If you would like to use Nvidia GPU with TensorRT, please make sure the missing libraries mentioned above are installed properly.\n",
      "\u001b[2m\u001b[36m(_WorkerOperator pid=28277)\u001b[0m 2024-02-22 11:17:51.513010: W tensorflow/compiler/xla/stream_executor/platform/default/dso_loader.cc:64] Could not load dynamic library 'libcudart.so.11.0'; dlerror: libcudart.so.11.0: cannot open shared object file: No such file or directory\n",
      "\u001b[2m\u001b[36m(_WorkerOperator pid=28874)\u001b[0m 2024-02-22 11:17:51.554440: W tensorflow/compiler/xla/stream_executor/platform/default/dso_loader.cc:64] Could not load dynamic library 'libcudart.so.11.0'; dlerror: libcudart.so.11.0: cannot open shared object file: No such file or directory\n",
      "\u001b[2m\u001b[36m(_WorkerOperator pid=29619)\u001b[0m 2024-02-22 11:17:51.513315: W tensorflow/compiler/xla/stream_executor/platform/default/dso_loader.cc:64] Could not load dynamic library 'libcudart.so.11.0'; dlerror: libcudart.so.11.0: cannot open shared object file: No such file or directory\n",
      "\u001b[2m\u001b[36m(_WorkerOperator pid=30142)\u001b[0m 2024-02-22 11:17:51.551684: W tensorflow/compiler/xla/stream_executor/platform/default/dso_loader.cc:64] Could not load dynamic library 'libcudart.so.11.0'; dlerror: libcudart.so.11.0: cannot open shared object file: No such file or directory\n",
      "\u001b[2m\u001b[36m(pid=34548)\u001b[0m 2024-02-22 11:17:51.529139: W tensorflow/compiler/xla/stream_executor/platform/default/dso_loader.cc:64] Could not load dynamic library 'libcuda.so.1'; dlerror: libcuda.so.1: cannot open shared object file: No such file or directory\n",
      "\u001b[2m\u001b[36m(pid=34548)\u001b[0m 2024-02-22 11:17:51.529214: W tensorflow/compiler/xla/stream_executor/cuda/cuda_driver.cc:265] failed call to cuInit: UNKNOWN ERROR (303)\n",
      "\u001b[2m\u001b[36m(_WorkerOperator pid=29208)\u001b[0m 2024-02-22 11:17:51.634320: W tensorflow/compiler/xla/stream_executor/platform/default/dso_loader.cc:64] Could not load dynamic library 'libcudart.so.11.0'; dlerror: libcudart.so.11.0: cannot open shared object file: No such file or directory\n",
      "\u001b[2m\u001b[36m(pid=36061)\u001b[0m 2024-02-22 11:17:51.822618: W tensorflow/compiler/xla/stream_executor/platform/default/dso_loader.cc:64] Could not load dynamic library 'libcudart.so.11.0'; dlerror: libcudart.so.11.0: cannot open shared object file: No such file or directory\n",
      "\u001b[2m\u001b[36m(_WorkerOperator pid=30514)\u001b[0m 2024-02-22 11:17:52.213407: W tensorflow/compiler/xla/stream_executor/platform/default/dso_loader.cc:64] Could not load dynamic library 'libcudart.so.11.0'; dlerror: libcudart.so.11.0: cannot open shared object file: No such file or directory\n",
      "\u001b[2m\u001b[36m(_WorkerOperator pid=28277)\u001b[0m 2024-02-22 11:17:52.524948: W tensorflow/compiler/xla/stream_executor/platform/default/dso_loader.cc:64] Could not load dynamic library 'libnvinfer.so.7'; dlerror: libnvinfer.so.7: cannot open shared object file: No such file or directory\n",
      "\u001b[2m\u001b[36m(_WorkerOperator pid=28277)\u001b[0m 2024-02-22 11:17:52.525099: W tensorflow/compiler/xla/stream_executor/platform/default/dso_loader.cc:64] Could not load dynamic library 'libnvinfer_plugin.so.7'; dlerror: libnvinfer_plugin.so.7: cannot open shared object file: No such file or directory\n",
      "\u001b[2m\u001b[36m(_WorkerOperator pid=28277)\u001b[0m 2024-02-22 11:17:52.525111: W tensorflow/compiler/tf2tensorrt/utils/py_utils.cc:38] TF-TRT Warning: Cannot dlopen some TensorRT libraries. If you would like to use Nvidia GPU with TensorRT, please make sure the missing libraries mentioned above are installed properly.\n",
      "\u001b[2m\u001b[36m(_WorkerOperator pid=28874)\u001b[0m 2024-02-22 11:17:52.599638: W tensorflow/compiler/xla/stream_executor/platform/default/dso_loader.cc:64] Could not load dynamic library 'libnvinfer.so.7'; dlerror: libnvinfer.so.7: cannot open shared object file: No such file or directory\n",
      "\u001b[2m\u001b[36m(_WorkerOperator pid=28874)\u001b[0m 2024-02-22 11:17:52.599756: W tensorflow/compiler/xla/stream_executor/platform/default/dso_loader.cc:64] Could not load dynamic library 'libnvinfer_plugin.so.7'; dlerror: libnvinfer_plugin.so.7: cannot open shared object file: No such file or directory\n",
      "\u001b[2m\u001b[36m(_WorkerOperator pid=28874)\u001b[0m 2024-02-22 11:17:52.599765: W tensorflow/compiler/tf2tensorrt/utils/py_utils.cc:38] TF-TRT Warning: Cannot dlopen some TensorRT libraries. If you would like to use Nvidia GPU with TensorRT, please make sure the missing libraries mentioned above are installed properly.\n",
      "\u001b[2m\u001b[36m(_WorkerOperator pid=29619)\u001b[0m 2024-02-22 11:17:52.673275: W tensorflow/compiler/xla/stream_executor/platform/default/dso_loader.cc:64] Could not load dynamic library 'libnvinfer.so.7'; dlerror: libnvinfer.so.7: cannot open shared object file: No such file or directory\n",
      "\u001b[2m\u001b[36m(_WorkerOperator pid=29619)\u001b[0m 2024-02-22 11:17:52.673405: W tensorflow/compiler/xla/stream_executor/platform/default/dso_loader.cc:64] Could not load dynamic library 'libnvinfer_plugin.so.7'; dlerror: libnvinfer_plugin.so.7: cannot open shared object file: No such file or directory\n",
      "\u001b[2m\u001b[36m(_WorkerOperator pid=29619)\u001b[0m 2024-02-22 11:17:52.673414: W tensorflow/compiler/tf2tensorrt/utils/py_utils.cc:38] TF-TRT Warning: Cannot dlopen some TensorRT libraries. If you would like to use Nvidia GPU with TensorRT, please make sure the missing libraries mentioned above are installed properly.\n",
      "\u001b[2m\u001b[36m(_WorkerOperator pid=30142)\u001b[0m 2024-02-22 11:17:52.796719: W tensorflow/compiler/xla/stream_executor/platform/default/dso_loader.cc:64] Could not load dynamic library 'libnvinfer.so.7'; dlerror: libnvinfer.so.7: cannot open shared object file: No such file or directory\n",
      "\u001b[2m\u001b[36m(_WorkerOperator pid=30142)\u001b[0m 2024-02-22 11:17:52.796843: W tensorflow/compiler/xla/stream_executor/platform/default/dso_loader.cc:64] Could not load dynamic library 'libnvinfer_plugin.so.7'; dlerror: libnvinfer_plugin.so.7: cannot open shared object file: No such file or directory\n",
      "\u001b[2m\u001b[36m(_WorkerOperator pid=30142)\u001b[0m 2024-02-22 11:17:52.796858: W tensorflow/compiler/tf2tensorrt/utils/py_utils.cc:38] TF-TRT Warning: Cannot dlopen some TensorRT libraries. If you would like to use Nvidia GPU with TensorRT, please make sure the missing libraries mentioned above are installed properly.\n",
      "\u001b[2m\u001b[36m(_WorkerOperator pid=29208)\u001b[0m 2024-02-22 11:17:52.917180: W tensorflow/compiler/xla/stream_executor/platform/default/dso_loader.cc:64] Could not load dynamic library 'libnvinfer.so.7'; dlerror: libnvinfer.so.7: cannot open shared object file: No such file or directory\n",
      "\u001b[2m\u001b[36m(_WorkerOperator pid=29208)\u001b[0m 2024-02-22 11:17:52.917282: W tensorflow/compiler/xla/stream_executor/platform/default/dso_loader.cc:64] Could not load dynamic library 'libnvinfer_plugin.so.7'; dlerror: libnvinfer_plugin.so.7: cannot open shared object file: No such file or directory\n",
      "\u001b[2m\u001b[36m(_WorkerOperator pid=29208)\u001b[0m 2024-02-22 11:17:52.917291: W tensorflow/compiler/tf2tensorrt/utils/py_utils.cc:38] TF-TRT Warning: Cannot dlopen some TensorRT libraries. If you would like to use Nvidia GPU with TensorRT, please make sure the missing libraries mentioned above are installed properly.\n",
      "\u001b[2m\u001b[36m(pid=36061)\u001b[0m 2024-02-22 11:17:52.876657: W tensorflow/compiler/xla/stream_executor/platform/default/dso_loader.cc:64] Could not load dynamic library 'libnvinfer.so.7'; dlerror: libnvinfer.so.7: cannot open shared object file: No such file or directory\n",
      "\u001b[2m\u001b[36m(pid=36061)\u001b[0m 2024-02-22 11:17:52.876778: W tensorflow/compiler/xla/stream_executor/platform/default/dso_loader.cc:64] Could not load dynamic library 'libnvinfer_plugin.so.7'; dlerror: libnvinfer_plugin.so.7: cannot open shared object file: No such file or directory\n",
      "\u001b[2m\u001b[36m(pid=36061)\u001b[0m 2024-02-22 11:17:52.876787: W tensorflow/compiler/tf2tensorrt/utils/py_utils.cc:38] TF-TRT Warning: Cannot dlopen some TensorRT libraries. If you would like to use Nvidia GPU with TensorRT, please make sure the missing libraries mentioned above are installed properly.\n",
      "\u001b[2m\u001b[36m(pid=35217)\u001b[0m 2024-02-22 11:17:53.121152: W tensorflow/compiler/xla/stream_executor/platform/default/dso_loader.cc:64] Could not load dynamic library 'libcuda.so.1'; dlerror: libcuda.so.1: cannot open shared object file: No such file or directory\n",
      "\u001b[2m\u001b[36m(pid=35217)\u001b[0m 2024-02-22 11:17:53.121226: W tensorflow/compiler/xla/stream_executor/cuda/cuda_driver.cc:265] failed call to cuInit: UNKNOWN ERROR (303)\n",
      "\u001b[2m\u001b[36m(_WorkerOperator pid=28277)\u001b[0m /home/yejj/miniconda3/envs/sf/lib/python3.8/site-packages/secretflow/security/aggregation/experiment/ppb_aggregator.py:75: VisibleDeprecationWarning: Creating an ndarray from ragged nested sequences (which is a list-or-tuple of lists-or-tuples-or ndarrays with different lengths or shapes) is deprecated. If you meant to do this, you must specify 'dtype=object' when creating the ndarray.\n",
      "\u001b[2m\u001b[36m(_WorkerOperator pid=28277)\u001b[0m   return (np.multiply(np.array(data), weight) / total_weights).tolist()\n",
      "\u001b[2m\u001b[36m(_WorkerOperator pid=30514)\u001b[0m 2024-02-22 11:17:53.378517: W tensorflow/compiler/xla/stream_executor/platform/default/dso_loader.cc:64] Could not load dynamic library 'libnvinfer.so.7'; dlerror: libnvinfer.so.7: cannot open shared object file: No such file or directory\n",
      "\u001b[2m\u001b[36m(_WorkerOperator pid=30514)\u001b[0m 2024-02-22 11:17:53.378631: W tensorflow/compiler/xla/stream_executor/platform/default/dso_loader.cc:64] Could not load dynamic library 'libnvinfer_plugin.so.7'; dlerror: libnvinfer_plugin.so.7: cannot open shared object file: No such file or directory\n",
      "\u001b[2m\u001b[36m(_WorkerOperator pid=30514)\u001b[0m 2024-02-22 11:17:53.378641: W tensorflow/compiler/tf2tensorrt/utils/py_utils.cc:38] TF-TRT Warning: Cannot dlopen some TensorRT libraries. If you would like to use Nvidia GPU with TensorRT, please make sure the missing libraries mentioned above are installed properly.\n",
      "\u001b[2m\u001b[36m(_WorkerOperator pid=28874)\u001b[0m /home/yejj/miniconda3/envs/sf/lib/python3.8/site-packages/secretflow/security/aggregation/experiment/ppb_aggregator.py:75: VisibleDeprecationWarning: Creating an ndarray from ragged nested sequences (which is a list-or-tuple of lists-or-tuples-or ndarrays with different lengths or shapes) is deprecated. If you meant to do this, you must specify 'dtype=object' when creating the ndarray.\n",
      "\u001b[2m\u001b[36m(_WorkerOperator pid=28874)\u001b[0m   return (np.multiply(np.array(data), weight) / total_weights).tolist()\n",
      "\u001b[2m\u001b[36m(pid=39096)\u001b[0m 2024-02-22 11:17:53.465304: W tensorflow/compiler/xla/stream_executor/platform/default/dso_loader.cc:64] Could not load dynamic library 'libcudart.so.11.0'; dlerror: libcudart.so.11.0: cannot open shared object file: No such file or directory\n",
      "\u001b[2m\u001b[36m(_WorkerOperator pid=29619)\u001b[0m /home/yejj/miniconda3/envs/sf/lib/python3.8/site-packages/secretflow/security/aggregation/experiment/ppb_aggregator.py:75: VisibleDeprecationWarning: Creating an ndarray from ragged nested sequences (which is a list-or-tuple of lists-or-tuples-or ndarrays with different lengths or shapes) is deprecated. If you meant to do this, you must specify 'dtype=object' when creating the ndarray.\n",
      "\u001b[2m\u001b[36m(_WorkerOperator pid=29619)\u001b[0m   return (np.multiply(np.array(data), weight) / total_weights).tolist()\n",
      "\u001b[2m\u001b[36m(_WorkerOperator pid=30142)\u001b[0m /home/yejj/miniconda3/envs/sf/lib/python3.8/site-packages/secretflow/security/aggregation/experiment/ppb_aggregator.py:75: VisibleDeprecationWarning: Creating an ndarray from ragged nested sequences (which is a list-or-tuple of lists-or-tuples-or ndarrays with different lengths or shapes) is deprecated. If you meant to do this, you must specify 'dtype=object' when creating the ndarray.\n",
      "\u001b[2m\u001b[36m(_WorkerOperator pid=30142)\u001b[0m   return (np.multiply(np.array(data), weight) / total_weights).tolist()\n",
      "\u001b[2m\u001b[36m(_WorkerOperator pid=29208)\u001b[0m /home/yejj/miniconda3/envs/sf/lib/python3.8/site-packages/secretflow/security/aggregation/experiment/ppb_aggregator.py:75: VisibleDeprecationWarning: Creating an ndarray from ragged nested sequences (which is a list-or-tuple of lists-or-tuples-or ndarrays with different lengths or shapes) is deprecated. If you meant to do this, you must specify 'dtype=object' when creating the ndarray.\n",
      "\u001b[2m\u001b[36m(_WorkerOperator pid=29208)\u001b[0m   return (np.multiply(np.array(data), weight) / total_weights).tolist()\n",
      "\u001b[2m\u001b[36m(_WorkerOperator pid=31142)\u001b[0m 2024-02-22 11:17:53.954678: W tensorflow/compiler/xla/stream_executor/platform/default/dso_loader.cc:64] Could not load dynamic library 'libcudart.so.11.0'; dlerror: libcudart.so.11.0: cannot open shared object file: No such file or directory\n",
      "\u001b[2m\u001b[36m(pid=35589)\u001b[0m 2024-02-22 11:17:54.174476: W tensorflow/compiler/xla/stream_executor/platform/default/dso_loader.cc:64] Could not load dynamic library 'libcuda.so.1'; dlerror: libcuda.so.1: cannot open shared object file: No such file or directory\n",
      "\u001b[2m\u001b[36m(pid=35589)\u001b[0m 2024-02-22 11:17:54.174560: W tensorflow/compiler/xla/stream_executor/cuda/cuda_driver.cc:265] failed call to cuInit: UNKNOWN ERROR (303)\n",
      "\u001b[2m\u001b[36m(_WorkerOperator pid=30514)\u001b[0m /home/yejj/miniconda3/envs/sf/lib/python3.8/site-packages/secretflow/security/aggregation/experiment/ppb_aggregator.py:75: VisibleDeprecationWarning: Creating an ndarray from ragged nested sequences (which is a list-or-tuple of lists-or-tuples-or ndarrays with different lengths or shapes) is deprecated. If you meant to do this, you must specify 'dtype=object' when creating the ndarray.\n",
      "\u001b[2m\u001b[36m(_WorkerOperator pid=30514)\u001b[0m   return (np.multiply(np.array(data), weight) / total_weights).tolist()\n",
      "\u001b[2m\u001b[36m(pid=39096)\u001b[0m 2024-02-22 11:17:54.621953: W tensorflow/compiler/xla/stream_executor/platform/default/dso_loader.cc:64] Could not load dynamic library 'libnvinfer.so.7'; dlerror: libnvinfer.so.7: cannot open shared object file: No such file or directory\n",
      "\u001b[2m\u001b[36m(pid=39096)\u001b[0m 2024-02-22 11:17:54.622067: W tensorflow/compiler/xla/stream_executor/platform/default/dso_loader.cc:64] Could not load dynamic library 'libnvinfer_plugin.so.7'; dlerror: libnvinfer_plugin.so.7: cannot open shared object file: No such file or directory\n",
      "\u001b[2m\u001b[36m(pid=39096)\u001b[0m 2024-02-22 11:17:54.622076: W tensorflow/compiler/tf2tensorrt/utils/py_utils.cc:38] TF-TRT Warning: Cannot dlopen some TensorRT libraries. If you would like to use Nvidia GPU with TensorRT, please make sure the missing libraries mentioned above are installed properly.\n",
      "\u001b[2m\u001b[36m(_WorkerOperator pid=31444)\u001b[0m 2024-02-22 11:17:54.854062: W tensorflow/compiler/xla/stream_executor/platform/default/dso_loader.cc:64] Could not load dynamic library 'libcudart.so.11.0'; dlerror: libcudart.so.11.0: cannot open shared object file: No such file or directory\n",
      "\u001b[2m\u001b[36m(_WorkerOperator pid=31142)\u001b[0m 2024-02-22 11:17:55.128409: W tensorflow/compiler/xla/stream_executor/platform/default/dso_loader.cc:64] Could not load dynamic library 'libnvinfer.so.7'; dlerror: libnvinfer.so.7: cannot open shared object file: No such file or directory\n",
      "\u001b[2m\u001b[36m(_WorkerOperator pid=31142)\u001b[0m 2024-02-22 11:17:55.128515: W tensorflow/compiler/xla/stream_executor/platform/default/dso_loader.cc:64] Could not load dynamic library 'libnvinfer_plugin.so.7'; dlerror: libnvinfer_plugin.so.7: cannot open shared object file: No such file or directory\n",
      "\u001b[2m\u001b[36m(_WorkerOperator pid=31142)\u001b[0m 2024-02-22 11:17:55.128525: W tensorflow/compiler/tf2tensorrt/utils/py_utils.cc:38] TF-TRT Warning: Cannot dlopen some TensorRT libraries. If you would like to use Nvidia GPU with TensorRT, please make sure the missing libraries mentioned above are installed properly.\n",
      "\u001b[2m\u001b[36m(_WorkerOperator pid=31142)\u001b[0m /home/yejj/miniconda3/envs/sf/lib/python3.8/site-packages/secretflow/security/aggregation/experiment/ppb_aggregator.py:75: VisibleDeprecationWarning: Creating an ndarray from ragged nested sequences (which is a list-or-tuple of lists-or-tuples-or ndarrays with different lengths or shapes) is deprecated. If you meant to do this, you must specify 'dtype=object' when creating the ndarray.\n",
      "\u001b[2m\u001b[36m(_WorkerOperator pid=31142)\u001b[0m   return (np.multiply(np.array(data), weight) / total_weights).tolist()\n",
      "\u001b[2m\u001b[36m(_WorkerOperator pid=31444)\u001b[0m 2024-02-22 11:17:55.946780: W tensorflow/compiler/xla/stream_executor/platform/default/dso_loader.cc:64] Could not load dynamic library 'libnvinfer.so.7'; dlerror: libnvinfer.so.7: cannot open shared object file: No such file or directory\n",
      "\u001b[2m\u001b[36m(_WorkerOperator pid=31444)\u001b[0m 2024-02-22 11:17:55.946929: W tensorflow/compiler/xla/stream_executor/platform/default/dso_loader.cc:64] Could not load dynamic library 'libnvinfer_plugin.so.7'; dlerror: libnvinfer_plugin.so.7: cannot open shared object file: No such file or directory\n",
      "\u001b[2m\u001b[36m(_WorkerOperator pid=31444)\u001b[0m 2024-02-22 11:17:55.946940: W tensorflow/compiler/tf2tensorrt/utils/py_utils.cc:38] TF-TRT Warning: Cannot dlopen some TensorRT libraries. If you would like to use Nvidia GPU with TensorRT, please make sure the missing libraries mentioned above are installed properly.\n",
      "\u001b[2m\u001b[36m(pid=36061)\u001b[0m 2024-02-22 11:17:56.007131: W tensorflow/compiler/xla/stream_executor/platform/default/dso_loader.cc:64] Could not load dynamic library 'libcuda.so.1'; dlerror: libcuda.so.1: cannot open shared object file: No such file or directory\n",
      "\u001b[2m\u001b[36m(pid=36061)\u001b[0m 2024-02-22 11:17:56.007195: W tensorflow/compiler/xla/stream_executor/cuda/cuda_driver.cc:265] failed call to cuInit: UNKNOWN ERROR (303)\n",
      "\u001b[2m\u001b[36m(_WorkerOperator pid=31978)\u001b[0m 2024-02-22 11:17:56.643182: W tensorflow/compiler/xla/stream_executor/platform/default/dso_loader.cc:64] Could not load dynamic library 'libcudart.so.11.0'; dlerror: libcudart.so.11.0: cannot open shared object file: No such file or directory\n",
      "\u001b[2m\u001b[36m(_WorkerOperator pid=31444)\u001b[0m /home/yejj/miniconda3/envs/sf/lib/python3.8/site-packages/secretflow/security/aggregation/experiment/ppb_aggregator.py:75: VisibleDeprecationWarning: Creating an ndarray from ragged nested sequences (which is a list-or-tuple of lists-or-tuples-or ndarrays with different lengths or shapes) is deprecated. If you meant to do this, you must specify 'dtype=object' when creating the ndarray.\n",
      "\u001b[2m\u001b[36m(_WorkerOperator pid=31444)\u001b[0m   return (np.multiply(np.array(data), weight) / total_weights).tolist()\n",
      "\u001b[2m\u001b[36m(pid=39096)\u001b[0m 2024-02-22 11:17:57.610611: W tensorflow/compiler/xla/stream_executor/platform/default/dso_loader.cc:64] Could not load dynamic library 'libcuda.so.1'; dlerror: libcuda.so.1: cannot open shared object file: No such file or directory\n",
      "\u001b[2m\u001b[36m(pid=39096)\u001b[0m 2024-02-22 11:17:57.610681: W tensorflow/compiler/xla/stream_executor/cuda/cuda_driver.cc:265] failed call to cuInit: UNKNOWN ERROR (303)\n",
      "\u001b[2m\u001b[36m(_WorkerOperator pid=31978)\u001b[0m 2024-02-22 11:17:57.707747: W tensorflow/compiler/xla/stream_executor/platform/default/dso_loader.cc:64] Could not load dynamic library 'libnvinfer.so.7'; dlerror: libnvinfer.so.7: cannot open shared object file: No such file or directory\n",
      "\u001b[2m\u001b[36m(_WorkerOperator pid=31978)\u001b[0m 2024-02-22 11:17:57.707859: W tensorflow/compiler/xla/stream_executor/platform/default/dso_loader.cc:64] Could not load dynamic library 'libnvinfer_plugin.so.7'; dlerror: libnvinfer_plugin.so.7: cannot open shared object file: No such file or directory\n",
      "\u001b[2m\u001b[36m(_WorkerOperator pid=31978)\u001b[0m 2024-02-22 11:17:57.707869: W tensorflow/compiler/tf2tensorrt/utils/py_utils.cc:38] TF-TRT Warning: Cannot dlopen some TensorRT libraries. If you would like to use Nvidia GPU with TensorRT, please make sure the missing libraries mentioned above are installed properly.\n",
      "\u001b[2m\u001b[36m(_WorkerOperator pid=32882)\u001b[0m 2024-02-22 11:17:58.246828: W tensorflow/compiler/xla/stream_executor/platform/default/dso_loader.cc:64] Could not load dynamic library 'libcudart.so.11.0'; dlerror: libcudart.so.11.0: cannot open shared object file: No such file or directory\n",
      "\u001b[2m\u001b[36m(_WorkerOperator pid=31978)\u001b[0m /home/yejj/miniconda3/envs/sf/lib/python3.8/site-packages/secretflow/security/aggregation/experiment/ppb_aggregator.py:75: VisibleDeprecationWarning: Creating an ndarray from ragged nested sequences (which is a list-or-tuple of lists-or-tuples-or ndarrays with different lengths or shapes) is deprecated. If you meant to do this, you must specify 'dtype=object' when creating the ndarray.\n",
      "\u001b[2m\u001b[36m(_WorkerOperator pid=31978)\u001b[0m   return (np.multiply(np.array(data), weight) / total_weights).tolist()\n",
      "\u001b[2m\u001b[36m(_WorkerOperator pid=32882)\u001b[0m 2024-02-22 11:17:59.248331: W tensorflow/compiler/xla/stream_executor/platform/default/dso_loader.cc:64] Could not load dynamic library 'libnvinfer.so.7'; dlerror: libnvinfer.so.7: cannot open shared object file: No such file or directory\n",
      "\u001b[2m\u001b[36m(_WorkerOperator pid=32882)\u001b[0m 2024-02-22 11:17:59.248436: W tensorflow/compiler/xla/stream_executor/platform/default/dso_loader.cc:64] Could not load dynamic library 'libnvinfer_plugin.so.7'; dlerror: libnvinfer_plugin.so.7: cannot open shared object file: No such file or directory\n",
      "\u001b[2m\u001b[36m(_WorkerOperator pid=32882)\u001b[0m 2024-02-22 11:17:59.248447: W tensorflow/compiler/tf2tensorrt/utils/py_utils.cc:38] TF-TRT Warning: Cannot dlopen some TensorRT libraries. If you would like to use Nvidia GPU with TensorRT, please make sure the missing libraries mentioned above are installed properly.\n",
      "\u001b[2m\u001b[36m(_WorkerOperator pid=32882)\u001b[0m /home/yejj/miniconda3/envs/sf/lib/python3.8/site-packages/secretflow/security/aggregation/experiment/ppb_aggregator.py:75: VisibleDeprecationWarning: Creating an ndarray from ragged nested sequences (which is a list-or-tuple of lists-or-tuples-or ndarrays with different lengths or shapes) is deprecated. If you meant to do this, you must specify 'dtype=object' when creating the ndarray.\n",
      "\u001b[2m\u001b[36m(_WorkerOperator pid=32882)\u001b[0m   return (np.multiply(np.array(data), weight) / total_weights).tolist()\n",
      "\u001b[2m\u001b[36m(pid=64602)\u001b[0m 2024-02-22 11:50:58.888342: W tensorflow/compiler/xla/stream_executor/platform/default/dso_loader.cc:64] Could not load dynamic library 'libcudart.so.11.0'; dlerror: libcudart.so.11.0: cannot open shared object file: No such file or directory\n",
      "\u001b[2m\u001b[36m(pid=64602)\u001b[0m 2024-02-22 11:51:00.017542: W tensorflow/compiler/xla/stream_executor/platform/default/dso_loader.cc:64] Could not load dynamic library 'libnvinfer.so.7'; dlerror: libnvinfer.so.7: cannot open shared object file: No such file or directory\n",
      "\u001b[2m\u001b[36m(pid=64602)\u001b[0m 2024-02-22 11:51:00.017734: W tensorflow/compiler/xla/stream_executor/platform/default/dso_loader.cc:64] Could not load dynamic library 'libnvinfer_plugin.so.7'; dlerror: libnvinfer_plugin.so.7: cannot open shared object file: No such file or directory\n",
      "\u001b[2m\u001b[36m(pid=64602)\u001b[0m 2024-02-22 11:51:00.017760: W tensorflow/compiler/tf2tensorrt/utils/py_utils.cc:38] TF-TRT Warning: Cannot dlopen some TensorRT libraries. If you would like to use Nvidia GPU with TensorRT, please make sure the missing libraries mentioned above are installed properly.\n",
      "\u001b[2m\u001b[36m(pid=6166)\u001b[0m 2024-02-22 11:51:00.518620: W tensorflow/compiler/xla/stream_executor/platform/default/dso_loader.cc:64] Could not load dynamic library 'libcudart.so.11.0'; dlerror: libcudart.so.11.0: cannot open shared object file: No such file or directory\n",
      "\u001b[2m\u001b[36m(pid=6166)\u001b[0m 2024-02-22 11:51:01.707677: W tensorflow/compiler/xla/stream_executor/platform/default/dso_loader.cc:64] Could not load dynamic library 'libnvinfer.so.7'; dlerror: libnvinfer.so.7: cannot open shared object file: No such file or directory\n",
      "\u001b[2m\u001b[36m(pid=6166)\u001b[0m 2024-02-22 11:51:01.707788: W tensorflow/compiler/xla/stream_executor/platform/default/dso_loader.cc:64] Could not load dynamic library 'libnvinfer_plugin.so.7'; dlerror: libnvinfer_plugin.so.7: cannot open shared object file: No such file or directory\n",
      "\u001b[2m\u001b[36m(pid=6166)\u001b[0m 2024-02-22 11:51:01.707798: W tensorflow/compiler/tf2tensorrt/utils/py_utils.cc:38] TF-TRT Warning: Cannot dlopen some TensorRT libraries. If you would like to use Nvidia GPU with TensorRT, please make sure the missing libraries mentioned above are installed properly.\n",
      "\u001b[2m\u001b[36m(pid=6434)\u001b[0m 2024-02-22 11:51:02.608918: W tensorflow/compiler/xla/stream_executor/platform/default/dso_loader.cc:64] Could not load dynamic library 'libcudart.so.11.0'; dlerror: libcudart.so.11.0: cannot open shared object file: No such file or directory\n",
      "\u001b[2m\u001b[36m(pid=64602)\u001b[0m 2024-02-22 11:51:03.277550: W tensorflow/compiler/xla/stream_executor/platform/default/dso_loader.cc:64] Could not load dynamic library 'libcuda.so.1'; dlerror: libcuda.so.1: cannot open shared object file: No such file or directory\n",
      "\u001b[2m\u001b[36m(pid=64602)\u001b[0m 2024-02-22 11:51:03.277614: W tensorflow/compiler/xla/stream_executor/cuda/cuda_driver.cc:265] failed call to cuInit: UNKNOWN ERROR (303)\n",
      "\u001b[2m\u001b[36m(pid=6434)\u001b[0m 2024-02-22 11:51:03.675296: W tensorflow/compiler/xla/stream_executor/platform/default/dso_loader.cc:64] Could not load dynamic library 'libnvinfer.so.7'; dlerror: libnvinfer.so.7: cannot open shared object file: No such file or directory\n",
      "\u001b[2m\u001b[36m(pid=6434)\u001b[0m 2024-02-22 11:51:03.675411: W tensorflow/compiler/xla/stream_executor/platform/default/dso_loader.cc:64] Could not load dynamic library 'libnvinfer_plugin.so.7'; dlerror: libnvinfer_plugin.so.7: cannot open shared object file: No such file or directory\n",
      "\u001b[2m\u001b[36m(pid=6434)\u001b[0m 2024-02-22 11:51:03.675421: W tensorflow/compiler/tf2tensorrt/utils/py_utils.cc:38] TF-TRT Warning: Cannot dlopen some TensorRT libraries. If you would like to use Nvidia GPU with TensorRT, please make sure the missing libraries mentioned above are installed properly.\n",
      "\u001b[2m\u001b[36m(pid=6731)\u001b[0m 2024-02-22 11:51:04.184961: W tensorflow/compiler/xla/stream_executor/platform/default/dso_loader.cc:64] Could not load dynamic library 'libcudart.so.11.0'; dlerror: libcudart.so.11.0: cannot open shared object file: No such file or directory\n",
      "\u001b[2m\u001b[36m(pid=6166)\u001b[0m 2024-02-22 11:51:05.086452: W tensorflow/compiler/xla/stream_executor/platform/default/dso_loader.cc:64] Could not load dynamic library 'libcuda.so.1'; dlerror: libcuda.so.1: cannot open shared object file: No such file or directory\n",
      "\u001b[2m\u001b[36m(pid=6166)\u001b[0m 2024-02-22 11:51:05.086514: W tensorflow/compiler/xla/stream_executor/cuda/cuda_driver.cc:265] failed call to cuInit: UNKNOWN ERROR (303)\n",
      "\u001b[2m\u001b[36m(pid=6731)\u001b[0m 2024-02-22 11:51:05.284361: W tensorflow/compiler/xla/stream_executor/platform/default/dso_loader.cc:64] Could not load dynamic library 'libnvinfer.so.7'; dlerror: libnvinfer.so.7: cannot open shared object file: No such file or directory\n",
      "\u001b[2m\u001b[36m(pid=6731)\u001b[0m 2024-02-22 11:51:05.284468: W tensorflow/compiler/xla/stream_executor/platform/default/dso_loader.cc:64] Could not load dynamic library 'libnvinfer_plugin.so.7'; dlerror: libnvinfer_plugin.so.7: cannot open shared object file: No such file or directory\n",
      "\u001b[2m\u001b[36m(pid=6731)\u001b[0m 2024-02-22 11:51:05.284478: W tensorflow/compiler/tf2tensorrt/utils/py_utils.cc:38] TF-TRT Warning: Cannot dlopen some TensorRT libraries. If you would like to use Nvidia GPU with TensorRT, please make sure the missing libraries mentioned above are installed properly.\n",
      "\u001b[2m\u001b[36m(pid=7114)\u001b[0m 2024-02-22 11:51:06.155446: W tensorflow/compiler/xla/stream_executor/platform/default/dso_loader.cc:64] Could not load dynamic library 'libcudart.so.11.0'; dlerror: libcudart.so.11.0: cannot open shared object file: No such file or directory\n",
      "\u001b[2m\u001b[36m(pid=6434)\u001b[0m 2024-02-22 11:51:06.900421: W tensorflow/compiler/xla/stream_executor/platform/default/dso_loader.cc:64] Could not load dynamic library 'libcuda.so.1'; dlerror: libcuda.so.1: cannot open shared object file: No such file or directory\n",
      "\u001b[2m\u001b[36m(pid=6434)\u001b[0m 2024-02-22 11:51:06.900487: W tensorflow/compiler/xla/stream_executor/cuda/cuda_driver.cc:265] failed call to cuInit: UNKNOWN ERROR (303)\n",
      "\u001b[2m\u001b[36m(pid=7114)\u001b[0m 2024-02-22 11:51:07.299686: W tensorflow/compiler/xla/stream_executor/platform/default/dso_loader.cc:64] Could not load dynamic library 'libnvinfer.so.7'; dlerror: libnvinfer.so.7: cannot open shared object file: No such file or directory\n",
      "\u001b[2m\u001b[36m(pid=7114)\u001b[0m 2024-02-22 11:51:07.299796: W tensorflow/compiler/xla/stream_executor/platform/default/dso_loader.cc:64] Could not load dynamic library 'libnvinfer_plugin.so.7'; dlerror: libnvinfer_plugin.so.7: cannot open shared object file: No such file or directory\n",
      "\u001b[2m\u001b[36m(pid=7114)\u001b[0m 2024-02-22 11:51:07.299806: W tensorflow/compiler/tf2tensorrt/utils/py_utils.cc:38] TF-TRT Warning: Cannot dlopen some TensorRT libraries. If you would like to use Nvidia GPU with TensorRT, please make sure the missing libraries mentioned above are installed properly.\n",
      "\u001b[2m\u001b[36m(pid=7544)\u001b[0m 2024-02-22 11:51:08.043491: W tensorflow/compiler/xla/stream_executor/platform/default/dso_loader.cc:64] Could not load dynamic library 'libcudart.so.11.0'; dlerror: libcudart.so.11.0: cannot open shared object file: No such file or directory\n",
      "\u001b[2m\u001b[36m(pid=6731)\u001b[0m 2024-02-22 11:51:08.522924: W tensorflow/compiler/xla/stream_executor/platform/default/dso_loader.cc:64] Could not load dynamic library 'libcuda.so.1'; dlerror: libcuda.so.1: cannot open shared object file: No such file or directory\n",
      "\u001b[2m\u001b[36m(pid=6731)\u001b[0m 2024-02-22 11:51:08.522984: W tensorflow/compiler/xla/stream_executor/cuda/cuda_driver.cc:265] failed call to cuInit: UNKNOWN ERROR (303)\n",
      "\u001b[2m\u001b[36m(pid=7544)\u001b[0m 2024-02-22 11:51:09.239582: W tensorflow/compiler/xla/stream_executor/platform/default/dso_loader.cc:64] Could not load dynamic library 'libnvinfer.so.7'; dlerror: libnvinfer.so.7: cannot open shared object file: No such file or directory\n",
      "\u001b[2m\u001b[36m(pid=7544)\u001b[0m 2024-02-22 11:51:09.239711: W tensorflow/compiler/xla/stream_executor/platform/default/dso_loader.cc:64] Could not load dynamic library 'libnvinfer_plugin.so.7'; dlerror: libnvinfer_plugin.so.7: cannot open shared object file: No such file or directory\n",
      "\u001b[2m\u001b[36m(pid=7544)\u001b[0m 2024-02-22 11:51:09.239722: W tensorflow/compiler/tf2tensorrt/utils/py_utils.cc:38] TF-TRT Warning: Cannot dlopen some TensorRT libraries. If you would like to use Nvidia GPU with TensorRT, please make sure the missing libraries mentioned above are installed properly.\n",
      "\u001b[2m\u001b[36m(pid=8140)\u001b[0m 2024-02-22 11:51:09.982527: W tensorflow/compiler/xla/stream_executor/platform/default/dso_loader.cc:64] Could not load dynamic library 'libcudart.so.11.0'; dlerror: libcudart.so.11.0: cannot open shared object file: No such file or directory\n",
      "\u001b[2m\u001b[36m(pid=7114)\u001b[0m 2024-02-22 11:51:10.555824: W tensorflow/compiler/xla/stream_executor/platform/default/dso_loader.cc:64] Could not load dynamic library 'libcuda.so.1'; dlerror: libcuda.so.1: cannot open shared object file: No such file or directory\n",
      "\u001b[2m\u001b[36m(pid=7114)\u001b[0m 2024-02-22 11:51:10.555882: W tensorflow/compiler/xla/stream_executor/cuda/cuda_driver.cc:265] failed call to cuInit: UNKNOWN ERROR (303)\n",
      "\u001b[2m\u001b[36m(pid=8140)\u001b[0m 2024-02-22 11:51:11.176731: W tensorflow/compiler/xla/stream_executor/platform/default/dso_loader.cc:64] Could not load dynamic library 'libnvinfer.so.7'; dlerror: libnvinfer.so.7: cannot open shared object file: No such file or directory\n",
      "\u001b[2m\u001b[36m(pid=8140)\u001b[0m 2024-02-22 11:51:11.176846: W tensorflow/compiler/xla/stream_executor/platform/default/dso_loader.cc:64] Could not load dynamic library 'libnvinfer_plugin.so.7'; dlerror: libnvinfer_plugin.so.7: cannot open shared object file: No such file or directory\n",
      "\u001b[2m\u001b[36m(pid=8140)\u001b[0m 2024-02-22 11:51:11.176855: W tensorflow/compiler/tf2tensorrt/utils/py_utils.cc:38] TF-TRT Warning: Cannot dlopen some TensorRT libraries. If you would like to use Nvidia GPU with TensorRT, please make sure the missing libraries mentioned above are installed properly.\n",
      "\u001b[2m\u001b[36m(pid=8605)\u001b[0m 2024-02-22 11:51:12.030516: W tensorflow/compiler/xla/stream_executor/platform/default/dso_loader.cc:64] Could not load dynamic library 'libcudart.so.11.0'; dlerror: libcudart.so.11.0: cannot open shared object file: No such file or directory\n",
      "\u001b[2m\u001b[36m(pid=7544)\u001b[0m 2024-02-22 11:51:12.678829: W tensorflow/compiler/xla/stream_executor/platform/default/dso_loader.cc:64] Could not load dynamic library 'libcuda.so.1'; dlerror: libcuda.so.1: cannot open shared object file: No such file or directory\n",
      "\u001b[2m\u001b[36m(pid=7544)\u001b[0m 2024-02-22 11:51:12.678891: W tensorflow/compiler/xla/stream_executor/cuda/cuda_driver.cc:265] failed call to cuInit: UNKNOWN ERROR (303)\n",
      "\u001b[2m\u001b[36m(pid=8605)\u001b[0m 2024-02-22 11:51:13.220599: W tensorflow/compiler/xla/stream_executor/platform/default/dso_loader.cc:64] Could not load dynamic library 'libnvinfer.so.7'; dlerror: libnvinfer.so.7: cannot open shared object file: No such file or directory\n",
      "\u001b[2m\u001b[36m(pid=8605)\u001b[0m 2024-02-22 11:51:13.220709: W tensorflow/compiler/xla/stream_executor/platform/default/dso_loader.cc:64] Could not load dynamic library 'libnvinfer_plugin.so.7'; dlerror: libnvinfer_plugin.so.7: cannot open shared object file: No such file or directory\n",
      "\u001b[2m\u001b[36m(pid=8605)\u001b[0m 2024-02-22 11:51:13.220719: W tensorflow/compiler/tf2tensorrt/utils/py_utils.cc:38] TF-TRT Warning: Cannot dlopen some TensorRT libraries. If you would like to use Nvidia GPU with TensorRT, please make sure the missing libraries mentioned above are installed properly.\n",
      "\u001b[2m\u001b[36m(pid=9312)\u001b[0m 2024-02-22 11:51:14.190734: W tensorflow/compiler/xla/stream_executor/platform/default/dso_loader.cc:64] Could not load dynamic library 'libcudart.so.11.0'; dlerror: libcudart.so.11.0: cannot open shared object file: No such file or directory\n",
      "\u001b[2m\u001b[36m(_run pid=50981)\u001b[0m INFO:jax._src.xla_bridge:Unable to initialize backend 'cuda': module 'jaxlib.xla_extension' has no attribute 'GpuAllocatorConfig'\n",
      "\u001b[2m\u001b[36m(_run pid=50981)\u001b[0m INFO:jax._src.xla_bridge:Unable to initialize backend 'rocm': module 'jaxlib.xla_extension' has no attribute 'GpuAllocatorConfig'\n",
      "\u001b[2m\u001b[36m(_run pid=50981)\u001b[0m INFO:jax._src.xla_bridge:Unable to initialize backend 'tpu': INVALID_ARGUMENT: TpuPlatform is not available.\n",
      "\u001b[2m\u001b[36m(_run pid=50981)\u001b[0m INFO:jax._src.xla_bridge:Unable to initialize backend 'plugin': xla_extension has no attributes named get_plugin_device_client. Compile TensorFlow with //tensorflow/compiler/xla/python:enable_plugin_device set to true (defaults to false) to enable this.\n",
      "\u001b[2m\u001b[36m(_run pid=50981)\u001b[0m WARNING:jax._src.xla_bridge:No GPU/TPU found, falling back to CPU. (Set TF_CPP_MIN_LOG_LEVEL=0 and rerun for more info.)\n",
      "\u001b[2m\u001b[36m(_run pid=47257)\u001b[0m INFO:jax._src.xla_bridge:Unable to initialize backend 'cuda': module 'jaxlib.xla_extension' has no attribute 'GpuAllocatorConfig'\n",
      "\u001b[2m\u001b[36m(_run pid=47257)\u001b[0m INFO:jax._src.xla_bridge:Unable to initialize backend 'rocm': module 'jaxlib.xla_extension' has no attribute 'GpuAllocatorConfig'\n",
      "\u001b[2m\u001b[36m(_run pid=47257)\u001b[0m INFO:jax._src.xla_bridge:Unable to initialize backend 'tpu': INVALID_ARGUMENT: TpuPlatform is not available.\n",
      "\u001b[2m\u001b[36m(_run pid=47257)\u001b[0m INFO:jax._src.xla_bridge:Unable to initialize backend 'plugin': xla_extension has no attributes named get_plugin_device_client. Compile TensorFlow with //tensorflow/compiler/xla/python:enable_plugin_device set to true (defaults to false) to enable this.\n",
      "\u001b[2m\u001b[36m(_run pid=47257)\u001b[0m WARNING:jax._src.xla_bridge:No GPU/TPU found, falling back to CPU. (Set TF_CPP_MIN_LOG_LEVEL=0 and rerun for more info.)\n",
      "\u001b[2m\u001b[36m(_run pid=50334)\u001b[0m INFO:jax._src.xla_bridge:Unable to initialize backend 'cuda': module 'jaxlib.xla_extension' has no attribute 'GpuAllocatorConfig'\n",
      "\u001b[2m\u001b[36m(_run pid=50334)\u001b[0m INFO:jax._src.xla_bridge:Unable to initialize backend 'rocm': module 'jaxlib.xla_extension' has no attribute 'GpuAllocatorConfig'\n",
      "\u001b[2m\u001b[36m(_run pid=50334)\u001b[0m INFO:jax._src.xla_bridge:Unable to initialize backend 'tpu': INVALID_ARGUMENT: TpuPlatform is not available.\n",
      "\u001b[2m\u001b[36m(_run pid=50334)\u001b[0m INFO:jax._src.xla_bridge:Unable to initialize backend 'plugin': xla_extension has no attributes named get_plugin_device_client. Compile TensorFlow with //tensorflow/compiler/xla/python:enable_plugin_device set to true (defaults to false) to enable this.\n",
      "\u001b[2m\u001b[36m(_run pid=50334)\u001b[0m WARNING:jax._src.xla_bridge:No GPU/TPU found, falling back to CPU. (Set TF_CPP_MIN_LOG_LEVEL=0 and rerun for more info.)\n",
      "\u001b[2m\u001b[36m(pid=8140)\u001b[0m 2024-02-22 11:51:14.500005: W tensorflow/compiler/xla/stream_executor/platform/default/dso_loader.cc:64] Could not load dynamic library 'libcuda.so.1'; dlerror: libcuda.so.1: cannot open shared object file: No such file or directory\n",
      "\u001b[2m\u001b[36m(pid=8140)\u001b[0m 2024-02-22 11:51:14.500183: W tensorflow/compiler/xla/stream_executor/cuda/cuda_driver.cc:265] failed call to cuInit: UNKNOWN ERROR (303)\n",
      "\u001b[2m\u001b[36m(pid=9312)\u001b[0m 2024-02-22 11:51:15.376443: W tensorflow/compiler/xla/stream_executor/platform/default/dso_loader.cc:64] Could not load dynamic library 'libnvinfer.so.7'; dlerror: libnvinfer.so.7: cannot open shared object file: No such file or directory\n",
      "\u001b[2m\u001b[36m(pid=9312)\u001b[0m 2024-02-22 11:51:15.376559: W tensorflow/compiler/xla/stream_executor/platform/default/dso_loader.cc:64] Could not load dynamic library 'libnvinfer_plugin.so.7'; dlerror: libnvinfer_plugin.so.7: cannot open shared object file: No such file or directory\n",
      "\u001b[2m\u001b[36m(pid=9312)\u001b[0m 2024-02-22 11:51:15.376568: W tensorflow/compiler/tf2tensorrt/utils/py_utils.cc:38] TF-TRT Warning: Cannot dlopen some TensorRT libraries. If you would like to use Nvidia GPU with TensorRT, please make sure the missing libraries mentioned above are installed properly.\n",
      "\u001b[2m\u001b[36m(pid=10072)\u001b[0m 2024-02-22 11:51:16.258300: W tensorflow/compiler/xla/stream_executor/platform/default/dso_loader.cc:64] Could not load dynamic library 'libcudart.so.11.0'; dlerror: libcudart.so.11.0: cannot open shared object file: No such file or directory\n",
      "\u001b[2m\u001b[36m(pid=8605)\u001b[0m 2024-02-22 11:51:16.524066: W tensorflow/compiler/xla/stream_executor/platform/default/dso_loader.cc:64] Could not load dynamic library 'libcuda.so.1'; dlerror: libcuda.so.1: cannot open shared object file: No such file or directory\n",
      "\u001b[2m\u001b[36m(pid=8605)\u001b[0m 2024-02-22 11:51:16.524133: W tensorflow/compiler/xla/stream_executor/cuda/cuda_driver.cc:265] failed call to cuInit: UNKNOWN ERROR (303)\n",
      "\u001b[2m\u001b[36m(pid=10072)\u001b[0m 2024-02-22 11:51:17.410951: W tensorflow/compiler/xla/stream_executor/platform/default/dso_loader.cc:64] Could not load dynamic library 'libnvinfer.so.7'; dlerror: libnvinfer.so.7: cannot open shared object file: No such file or directory\n",
      "\u001b[2m\u001b[36m(pid=10072)\u001b[0m 2024-02-22 11:51:17.411083: W tensorflow/compiler/xla/stream_executor/platform/default/dso_loader.cc:64] Could not load dynamic library 'libnvinfer_plugin.so.7'; dlerror: libnvinfer_plugin.so.7: cannot open shared object file: No such file or directory\n",
      "\u001b[2m\u001b[36m(pid=10072)\u001b[0m 2024-02-22 11:51:17.411094: W tensorflow/compiler/tf2tensorrt/utils/py_utils.cc:38] TF-TRT Warning: Cannot dlopen some TensorRT libraries. If you would like to use Nvidia GPU with TensorRT, please make sure the missing libraries mentioned above are installed properly.\n",
      "\u001b[2m\u001b[36m(pid=9312)\u001b[0m 2024-02-22 11:51:18.483350: W tensorflow/compiler/xla/stream_executor/platform/default/dso_loader.cc:64] Could not load dynamic library 'libcuda.so.1'; dlerror: libcuda.so.1: cannot open shared object file: No such file or directory\n",
      "\u001b[2m\u001b[36m(pid=9312)\u001b[0m 2024-02-22 11:51:18.483423: W tensorflow/compiler/xla/stream_executor/cuda/cuda_driver.cc:265] failed call to cuInit: UNKNOWN ERROR (303)\n",
      "\u001b[2m\u001b[36m(pid=10072)\u001b[0m 2024-02-22 11:51:20.551552: W tensorflow/compiler/xla/stream_executor/platform/default/dso_loader.cc:64] Could not load dynamic library 'libcuda.so.1'; dlerror: libcuda.so.1: cannot open shared object file: No such file or directory\n",
      "\u001b[2m\u001b[36m(pid=10072)\u001b[0m 2024-02-22 11:51:20.551609: W tensorflow/compiler/xla/stream_executor/cuda/cuda_driver.cc:265] failed call to cuInit: UNKNOWN ERROR (303)\n"
     ]
    },
    {
     "name": "stdout",
     "output_type": "stream",
     "text": [
      "Epoch 1/3\n"
     ]
    },
    {
     "name": "stderr",
     "output_type": "stream",
     "text": [
      "Train Processing: :  98%|█████████▊| 46/47 [00:07<00:00,  6.09it/s, {'loss': 1.4313781, 'accuracy': 0.61806667, 'val_loss': 0.46351168, 'val_accuracy': 0.861}]\n",
      "Train Processing: :   0%|          | 0/47 [00:00<?, ?it/s]"
     ]
    },
    {
     "name": "stdout",
     "output_type": "stream",
     "text": [
      "Epoch 2/3\n"
     ]
    },
    {
     "name": "stderr",
     "output_type": "stream",
     "text": [
      "Train Processing: :  98%|█████████▊| 46/47 [00:07<00:00,  6.45it/s, {'loss': 0.41421455, 'accuracy': 0.8763, 'val_loss': 0.28227422, 'val_accuracy': 0.919}]\n",
      "Train Processing: :   2%|▏         | 1/47 [00:00<00:08,  5.17it/s]"
     ]
    },
    {
     "name": "stdout",
     "output_type": "stream",
     "text": [
      "Epoch 3/3\n"
     ]
    },
    {
     "name": "stderr",
     "output_type": "stream",
     "text": [
      "Train Processing: :  98%|█████████▊| 46/47 [00:07<00:00,  6.18it/s, {'loss': 0.2863125, 'accuracy': 0.9159, 'val_loss': 0.21190816, 'val_accuracy': 0.9389}]\n"
     ]
    }
   ],
   "source": [
    "from secretflow.ml.nn import FLModel\n",
    "from secretflow.security.aggregation import PlainAggregator\n",
    "from secretflow.security.aggregation.experiment import LDPAggregator\n",
    "\n",
    "from utils.model import create_model\n",
    "num_classes = 10\n",
    "input_shape = (28, 28, 1)\n",
    "model = create_model(input_shape, num_classes, \"lenet\")\n",
    "\n",
    "plain_aggregator = PlainAggregator(agg_server)\n",
    "\n",
    "fed_plain_model = FLModel(server=agg_server,\n",
    "                    device_list=[devices[i] for i in range(10)],\n",
    "                    model=model,\n",
    "                    aggregator=plain_aggregator,\n",
    "                    strategy=\"fed_avg_w\",\n",
    "                    backend = \"tensorflow\")\n",
    "\n",
    "import time\n",
    "start_time = time.time()\n",
    "history = fed_plain_model.fit(x_train,\n",
    "                    y_train,\n",
    "                    validation_data=(x_test, y_test),\n",
    "                    epochs=3,\n",
    "                    sampler_method=\"batch\",\n",
    "                    batch_size=128,\n",
    "                    aggregate_freq=1)\n",
    "plain_time = time.time() - start_time\n",
    "# print(\"cost time : \", time.time()-start_time)"
   ]
  },
  {
   "cell_type": "code",
   "execution_count": 4,
   "metadata": {},
   "outputs": [
    {
     "name": "stderr",
     "output_type": "stream",
     "text": [
      "INFO:root:Create proxy actor <class 'secretflow.ml.nn.fl.backend.tensorflow.strategy.fed_avg_w.PYUFedAvgW'> with party party0.\n",
      "INFO:root:Create proxy actor <class 'secretflow.ml.nn.fl.backend.tensorflow.strategy.fed_avg_w.PYUFedAvgW'> with party party1.\n",
      "INFO:root:Create proxy actor <class 'secretflow.ml.nn.fl.backend.tensorflow.strategy.fed_avg_w.PYUFedAvgW'> with party party2.\n",
      "INFO:root:Create proxy actor <class 'secretflow.ml.nn.fl.backend.tensorflow.strategy.fed_avg_w.PYUFedAvgW'> with party party3.\n",
      "INFO:root:Create proxy actor <class 'secretflow.ml.nn.fl.backend.tensorflow.strategy.fed_avg_w.PYUFedAvgW'> with party party4.\n",
      "INFO:root:Create proxy actor <class 'secretflow.ml.nn.fl.backend.tensorflow.strategy.fed_avg_w.PYUFedAvgW'> with party party5.\n",
      "INFO:root:Create proxy actor <class 'secretflow.ml.nn.fl.backend.tensorflow.strategy.fed_avg_w.PYUFedAvgW'> with party party6.\n",
      "INFO:root:Create proxy actor <class 'secretflow.ml.nn.fl.backend.tensorflow.strategy.fed_avg_w.PYUFedAvgW'> with party party7.\n",
      "INFO:root:Create proxy actor <class 'secretflow.ml.nn.fl.backend.tensorflow.strategy.fed_avg_w.PYUFedAvgW'> with party party8.\n",
      "INFO:root:Create proxy actor <class 'secretflow.ml.nn.fl.backend.tensorflow.strategy.fed_avg_w.PYUFedAvgW'> with party party9.\n",
      "INFO:root:FL Train Params: {'x': FedNdarray(partitions={PYURuntime(party0): <secretflow.device.device.pyu.PYUObject object at 0x7fb7009a1790>, PYURuntime(party1): <secretflow.device.device.pyu.PYUObject object at 0x7fb70096bc70>, PYURuntime(party2): <secretflow.device.device.pyu.PYUObject object at 0x7fb70096bb50>, PYURuntime(party3): <secretflow.device.device.pyu.PYUObject object at 0x7fb70096bd30>, PYURuntime(party4): <secretflow.device.device.pyu.PYUObject object at 0x7fb7008e9250>, PYURuntime(party5): <secretflow.device.device.pyu.PYUObject object at 0x7fb7008e9160>, PYURuntime(party6): <secretflow.device.device.pyu.PYUObject object at 0x7fb7008e9220>, PYURuntime(party7): <secretflow.device.device.pyu.PYUObject object at 0x7fb7008e91f0>, PYURuntime(party8): <secretflow.device.device.pyu.PYUObject object at 0x7fb7008e93a0>, PYURuntime(party9): <secretflow.device.device.pyu.PYUObject object at 0x7fb7008e9550>}, partition_way=<PartitionWay.HORIZONTAL: 'horizontal'>), 'y': FedNdarray(partitions={PYURuntime(party0): <secretflow.device.device.pyu.PYUObject object at 0x7fb7008e98b0>, PYURuntime(party1): <secretflow.device.device.pyu.PYUObject object at 0x7fb7008e9c10>, PYURuntime(party2): <secretflow.device.device.pyu.PYUObject object at 0x7fb7008e9d90>, PYURuntime(party3): <secretflow.device.device.pyu.PYUObject object at 0x7fb7008f6280>, PYURuntime(party4): <secretflow.device.device.pyu.PYUObject object at 0x7fb7008f60a0>, PYURuntime(party5): <secretflow.device.device.pyu.PYUObject object at 0x7fb7008f6250>, PYURuntime(party6): <secretflow.device.device.pyu.PYUObject object at 0x7fb7008e9e80>, PYURuntime(party7): <secretflow.device.device.pyu.PYUObject object at 0x7fb7008e9be0>, PYURuntime(party8): <secretflow.device.device.pyu.PYUObject object at 0x7fb7008e9c40>, PYURuntime(party9): <secretflow.device.device.pyu.PYUObject object at 0x7fb7008e9ee0>}, partition_way=<PartitionWay.HORIZONTAL: 'horizontal'>), 'batch_size': 128, 'batch_sampling_rate': None, 'epochs': 3, 'verbose': 1, 'callbacks': None, 'validation_data': (FedNdarray(partitions={PYURuntime(party0): <secretflow.device.device.pyu.PYUObject object at 0x7fb7008e9310>, PYURuntime(party1): <secretflow.device.device.pyu.PYUObject object at 0x7fb7009a1700>, PYURuntime(party2): <secretflow.device.device.pyu.PYUObject object at 0x7fb7008e9670>, PYURuntime(party3): <secretflow.device.device.pyu.PYUObject object at 0x7fb70096bf10>, PYURuntime(party4): <secretflow.device.device.pyu.PYUObject object at 0x7fb7008f6970>, PYURuntime(party5): <secretflow.device.device.pyu.PYUObject object at 0x7fb7008f68b0>, PYURuntime(party6): <secretflow.device.device.pyu.PYUObject object at 0x7fb7008f69d0>, PYURuntime(party7): <secretflow.device.device.pyu.PYUObject object at 0x7fb7008f6940>, PYURuntime(party8): <secretflow.device.device.pyu.PYUObject object at 0x7fb7008f6610>, PYURuntime(party9): <secretflow.device.device.pyu.PYUObject object at 0x7fb7008f6310>}, partition_way=<PartitionWay.HORIZONTAL: 'horizontal'>), FedNdarray(partitions={PYURuntime(party0): <secretflow.device.device.pyu.PYUObject object at 0x7fb7008f6be0>, PYURuntime(party1): <secretflow.device.device.pyu.PYUObject object at 0x7fb7008fd100>, PYURuntime(party2): <secretflow.device.device.pyu.PYUObject object at 0x7fb7008fd190>, PYURuntime(party3): <secretflow.device.device.pyu.PYUObject object at 0x7fb7008fd0d0>, PYURuntime(party4): <secretflow.device.device.pyu.PYUObject object at 0x7fb7008fd220>, PYURuntime(party5): <secretflow.device.device.pyu.PYUObject object at 0x7fb7008fd340>, PYURuntime(party6): <secretflow.device.device.pyu.PYUObject object at 0x7fb7008fd4f0>, PYURuntime(party7): <secretflow.device.device.pyu.PYUObject object at 0x7fb7008fd6a0>, PYURuntime(party8): <secretflow.device.device.pyu.PYUObject object at 0x7fb7008fd850>, PYURuntime(party9): <secretflow.device.device.pyu.PYUObject object at 0x7fb7008fda00>}, partition_way=<PartitionWay.HORIZONTAL: 'horizontal'>)), 'shuffle': False, 'class_weight': None, 'sample_weight': None, 'validation_freq': 1, 'aggregate_freq': 1, 'label_decoder': None, 'max_batch_size': 20000, 'prefetch_buffer_size': None, 'sampler_method': 'batch', 'random_seed': 54452, 'dp_spent_step_freq': None, 'audit_log_dir': None, 'dataset_builder': None, 'wait_steps': 100, 'self': <secretflow.ml.nn.fl.fl_model.FLModel object at 0x7fb7008fd880>}\n",
      "Train Processing: :   0%|          | 0/47 [00:00<?, ?it/s]"
     ]
    },
    {
     "name": "stdout",
     "output_type": "stream",
     "text": [
      "Epoch 1/3\n"
     ]
    },
    {
     "name": "stderr",
     "output_type": "stream",
     "text": [
      "Train Processing: :  98%|█████████▊| 46/47 [00:07<00:00,  5.98it/s, {'loss': 1.5313525, 'accuracy': 0.56115, 'val_loss': 0.54610896, 'val_accuracy': 0.8304}]\n",
      "Train Processing: :   0%|          | 0/47 [00:00<?, ?it/s]"
     ]
    },
    {
     "name": "stdout",
     "output_type": "stream",
     "text": [
      "Epoch 2/3\n"
     ]
    },
    {
     "name": "stderr",
     "output_type": "stream",
     "text": [
      "Train Processing: :  98%|█████████▊| 46/47 [00:10<00:00,  4.51it/s, {'loss': 0.6000882, 'accuracy': 0.8068857, 'val_loss': 0.3410417, 'val_accuracy': 0.9031}]\n",
      "Train Processing: :   0%|          | 0/47 [00:00<?, ?it/s]"
     ]
    },
    {
     "name": "stdout",
     "output_type": "stream",
     "text": [
      "Epoch 3/3\n"
     ]
    },
    {
     "name": "stderr",
     "output_type": "stream",
     "text": [
      "Train Processing: :  98%|█████████▊| 46/47 [00:08<00:00,  5.68it/s, {'loss': 0.42724982, 'accuracy': 0.8676429, 'val_loss': 0.26196358, 'val_accuracy': 0.9211}]\n"
     ]
    }
   ],
   "source": [
    "dp_aggregator = LDPAggregator(agg_server)\n",
    "\n",
    "fed_dp_model = FLModel(server=agg_server,\n",
    "                    device_list=[devices[i] for i in range(10)],\n",
    "                    model=model,\n",
    "                    aggregator=dp_aggregator,\n",
    "                    strategy=\"fed_avg_w\",\n",
    "                    backend = \"tensorflow\")\n",
    "\n",
    "start_time = time.time()\n",
    "history_dp = fed_dp_model.fit(x_train,\n",
    "                    y_train,\n",
    "                    validation_data=(x_test, y_test),\n",
    "                    epochs=3,\n",
    "                    sampler_method=\"batch\",\n",
    "                    batch_size=128,\n",
    "                    aggregate_freq=1)\n",
    "dp_time = time.time() - start_time\n",
    "# print(\"cost time : \", time.time()-start_time)"
   ]
  },
  {
   "cell_type": "code",
   "execution_count": 5,
   "metadata": {},
   "outputs": [
    {
     "name": "stderr",
     "output_type": "stream",
     "text": [
      "INFO:root:Create proxy actor <class 'secretflow.security.aggregation.experiment.ppb_aggregator._AggregatorOperator'> with party server.\n",
      "INFO:root:Create proxy actor <class 'secretflow.security.aggregation.experiment.ppb_aggregator._WorkerOperator'> with party party0.\n",
      "INFO:root:Create proxy actor <class 'secretflow.security.aggregation.experiment.ppb_aggregator._WorkerOperator'> with party party1.\n",
      "INFO:root:Create proxy actor <class 'secretflow.security.aggregation.experiment.ppb_aggregator._WorkerOperator'> with party party2.\n",
      "INFO:root:Create proxy actor <class 'secretflow.security.aggregation.experiment.ppb_aggregator._WorkerOperator'> with party party3.\n",
      "INFO:root:Create proxy actor <class 'secretflow.security.aggregation.experiment.ppb_aggregator._WorkerOperator'> with party party4.\n",
      "INFO:root:Create proxy actor <class 'secretflow.security.aggregation.experiment.ppb_aggregator._WorkerOperator'> with party party5.\n",
      "INFO:root:Create proxy actor <class 'secretflow.security.aggregation.experiment.ppb_aggregator._WorkerOperator'> with party party6.\n",
      "INFO:root:Create proxy actor <class 'secretflow.security.aggregation.experiment.ppb_aggregator._WorkerOperator'> with party party7.\n",
      "INFO:root:Create proxy actor <class 'secretflow.security.aggregation.experiment.ppb_aggregator._WorkerOperator'> with party party8.\n",
      "INFO:root:Create proxy actor <class 'secretflow.security.aggregation.experiment.ppb_aggregator._WorkerOperator'> with party party9.\n",
      "INFO:root:Create proxy actor <class 'secretflow.ml.nn.fl.backend.tensorflow.strategy.fed_avg_w.PYUFedAvgW'> with party party0.\n",
      "INFO:root:Create proxy actor <class 'secretflow.ml.nn.fl.backend.tensorflow.strategy.fed_avg_w.PYUFedAvgW'> with party party1.\n",
      "INFO:root:Create proxy actor <class 'secretflow.ml.nn.fl.backend.tensorflow.strategy.fed_avg_w.PYUFedAvgW'> with party party2.\n",
      "INFO:root:Create proxy actor <class 'secretflow.ml.nn.fl.backend.tensorflow.strategy.fed_avg_w.PYUFedAvgW'> with party party3.\n",
      "INFO:root:Create proxy actor <class 'secretflow.ml.nn.fl.backend.tensorflow.strategy.fed_avg_w.PYUFedAvgW'> with party party4.\n",
      "INFO:root:Create proxy actor <class 'secretflow.ml.nn.fl.backend.tensorflow.strategy.fed_avg_w.PYUFedAvgW'> with party party5.\n",
      "INFO:root:Create proxy actor <class 'secretflow.ml.nn.fl.backend.tensorflow.strategy.fed_avg_w.PYUFedAvgW'> with party party6.\n",
      "INFO:root:Create proxy actor <class 'secretflow.ml.nn.fl.backend.tensorflow.strategy.fed_avg_w.PYUFedAvgW'> with party party7.\n",
      "INFO:root:Create proxy actor <class 'secretflow.ml.nn.fl.backend.tensorflow.strategy.fed_avg_w.PYUFedAvgW'> with party party8.\n",
      "INFO:root:Create proxy actor <class 'secretflow.ml.nn.fl.backend.tensorflow.strategy.fed_avg_w.PYUFedAvgW'> with party party9.\n",
      "INFO:root:FL Train Params: {'x': FedNdarray(partitions={PYURuntime(party0): <secretflow.device.device.pyu.PYUObject object at 0x7fb7009a1790>, PYURuntime(party1): <secretflow.device.device.pyu.PYUObject object at 0x7fb70096bc70>, PYURuntime(party2): <secretflow.device.device.pyu.PYUObject object at 0x7fb70096bb50>, PYURuntime(party3): <secretflow.device.device.pyu.PYUObject object at 0x7fb70096bd30>, PYURuntime(party4): <secretflow.device.device.pyu.PYUObject object at 0x7fb7008e9250>, PYURuntime(party5): <secretflow.device.device.pyu.PYUObject object at 0x7fb7008e9160>, PYURuntime(party6): <secretflow.device.device.pyu.PYUObject object at 0x7fb7008e9220>, PYURuntime(party7): <secretflow.device.device.pyu.PYUObject object at 0x7fb7008e91f0>, PYURuntime(party8): <secretflow.device.device.pyu.PYUObject object at 0x7fb7008e93a0>, PYURuntime(party9): <secretflow.device.device.pyu.PYUObject object at 0x7fb7008e9550>}, partition_way=<PartitionWay.HORIZONTAL: 'horizontal'>), 'y': FedNdarray(partitions={PYURuntime(party0): <secretflow.device.device.pyu.PYUObject object at 0x7fb7008e98b0>, PYURuntime(party1): <secretflow.device.device.pyu.PYUObject object at 0x7fb7008e9c10>, PYURuntime(party2): <secretflow.device.device.pyu.PYUObject object at 0x7fb7008e9d90>, PYURuntime(party3): <secretflow.device.device.pyu.PYUObject object at 0x7fb7008f6280>, PYURuntime(party4): <secretflow.device.device.pyu.PYUObject object at 0x7fb7008f60a0>, PYURuntime(party5): <secretflow.device.device.pyu.PYUObject object at 0x7fb7008f6250>, PYURuntime(party6): <secretflow.device.device.pyu.PYUObject object at 0x7fb7008e9e80>, PYURuntime(party7): <secretflow.device.device.pyu.PYUObject object at 0x7fb7008e9be0>, PYURuntime(party8): <secretflow.device.device.pyu.PYUObject object at 0x7fb7008e9c40>, PYURuntime(party9): <secretflow.device.device.pyu.PYUObject object at 0x7fb7008e9ee0>}, partition_way=<PartitionWay.HORIZONTAL: 'horizontal'>), 'batch_size': 128, 'batch_sampling_rate': None, 'epochs': 3, 'verbose': 1, 'callbacks': None, 'validation_data': (FedNdarray(partitions={PYURuntime(party0): <secretflow.device.device.pyu.PYUObject object at 0x7fb7008e9310>, PYURuntime(party1): <secretflow.device.device.pyu.PYUObject object at 0x7fb7009a1700>, PYURuntime(party2): <secretflow.device.device.pyu.PYUObject object at 0x7fb7008e9670>, PYURuntime(party3): <secretflow.device.device.pyu.PYUObject object at 0x7fb70096bf10>, PYURuntime(party4): <secretflow.device.device.pyu.PYUObject object at 0x7fb7008f6970>, PYURuntime(party5): <secretflow.device.device.pyu.PYUObject object at 0x7fb7008f68b0>, PYURuntime(party6): <secretflow.device.device.pyu.PYUObject object at 0x7fb7008f69d0>, PYURuntime(party7): <secretflow.device.device.pyu.PYUObject object at 0x7fb7008f6940>, PYURuntime(party8): <secretflow.device.device.pyu.PYUObject object at 0x7fb7008f6610>, PYURuntime(party9): <secretflow.device.device.pyu.PYUObject object at 0x7fb7008f6310>}, partition_way=<PartitionWay.HORIZONTAL: 'horizontal'>), FedNdarray(partitions={PYURuntime(party0): <secretflow.device.device.pyu.PYUObject object at 0x7fb7008f6be0>, PYURuntime(party1): <secretflow.device.device.pyu.PYUObject object at 0x7fb7008fd100>, PYURuntime(party2): <secretflow.device.device.pyu.PYUObject object at 0x7fb7008fd190>, PYURuntime(party3): <secretflow.device.device.pyu.PYUObject object at 0x7fb7008fd0d0>, PYURuntime(party4): <secretflow.device.device.pyu.PYUObject object at 0x7fb7008fd220>, PYURuntime(party5): <secretflow.device.device.pyu.PYUObject object at 0x7fb7008fd340>, PYURuntime(party6): <secretflow.device.device.pyu.PYUObject object at 0x7fb7008fd4f0>, PYURuntime(party7): <secretflow.device.device.pyu.PYUObject object at 0x7fb7008fd6a0>, PYURuntime(party8): <secretflow.device.device.pyu.PYUObject object at 0x7fb7008fd850>, PYURuntime(party9): <secretflow.device.device.pyu.PYUObject object at 0x7fb7008fda00>}, partition_way=<PartitionWay.HORIZONTAL: 'horizontal'>)), 'shuffle': False, 'class_weight': None, 'sample_weight': None, 'validation_freq': 1, 'aggregate_freq': 1, 'label_decoder': None, 'max_batch_size': 20000, 'prefetch_buffer_size': None, 'sampler_method': 'batch', 'random_seed': 47415, 'dp_spent_step_freq': None, 'audit_log_dir': None, 'dataset_builder': None, 'wait_steps': 100, 'self': <secretflow.ml.nn.fl.fl_model.FLModel object at 0x7fb66f82b6d0>}\n",
      "Train Processing: :   0%|          | 0/47 [00:00<?, ?it/s]"
     ]
    },
    {
     "name": "stdout",
     "output_type": "stream",
     "text": [
      "Epoch 1/3\n"
     ]
    },
    {
     "name": "stderr",
     "output_type": "stream",
     "text": [
      "Train Processing: :  98%|█████████▊| 46/47 [11:14<00:14, 14.67s/it, {'loss': 1.4360186, 'accuracy': 0.66936666, 'val_loss': 0.4872123, 'val_accuracy': 0.8556}]\n",
      "Train Processing: :   0%|          | 0/47 [00:00<?, ?it/s]"
     ]
    },
    {
     "name": "stdout",
     "output_type": "stream",
     "text": [
      "Epoch 2/3\n"
     ]
    },
    {
     "name": "stderr",
     "output_type": "stream",
     "text": [
      "Train Processing: :  98%|█████████▊| 46/47 [10:53<00:14, 14.21s/it, {'loss': 0.43396953, 'accuracy': 0.8708571, 'val_loss': 0.29835537, 'val_accuracy': 0.9138}]\n",
      "Train Processing: :   0%|          | 0/47 [00:00<?, ?it/s]"
     ]
    },
    {
     "name": "stdout",
     "output_type": "stream",
     "text": [
      "Epoch 3/3\n"
     ]
    },
    {
     "name": "stderr",
     "output_type": "stream",
     "text": [
      "Train Processing: :  98%|█████████▊| 46/47 [10:52<00:14, 14.19s/it, {'loss': 0.29913703, 'accuracy': 0.91197145, 'val_loss': 0.22117715, 'val_accuracy': 0.9362}]\n"
     ]
    }
   ],
   "source": [
    "from secretflow.security.aggregation.experiment.ppb_aggregator import PPBAggregator\n",
    "\n",
    "he_aggregator = PPBAggregator(agg_server, [devices[i] for i in range(10)])\n",
    "\n",
    "fed_he_model = FLModel(server=agg_server,\n",
    "                    device_list=[devices[i] for i in range(10)],\n",
    "                    model=model,\n",
    "                    aggregator=he_aggregator,\n",
    "                    strategy=\"fed_avg_w\",\n",
    "                    backend = \"tensorflow\")\n",
    "\n",
    "start_time = time.time()\n",
    "history_phe = fed_he_model.fit(x_train,\n",
    "                    y_train,\n",
    "                    validation_data=(x_test, y_test),\n",
    "                    epochs=3,\n",
    "                    sampler_method=\"batch\",\n",
    "                    batch_size=128,\n",
    "                    aggregate_freq=1)\n",
    "phe_time = time.time() - start_time\n",
    "# print(\"cost time : \", time.time()-start_time)"
   ]
  },
  {
   "cell_type": "code",
   "execution_count": 6,
   "metadata": {},
   "outputs": [
    {
     "name": "stderr",
     "output_type": "stream",
     "text": [
      "INFO:root:Create proxy actor <class 'secretflow.ml.nn.fl.backend.tensorflow.strategy.fed_avg_w.PYUFedAvgW'> with party party0.\n",
      "INFO:root:Create proxy actor <class 'secretflow.ml.nn.fl.backend.tensorflow.strategy.fed_avg_w.PYUFedAvgW'> with party party1.\n",
      "INFO:root:Create proxy actor <class 'secretflow.ml.nn.fl.backend.tensorflow.strategy.fed_avg_w.PYUFedAvgW'> with party party2.\n",
      "INFO:root:Create proxy actor <class 'secretflow.ml.nn.fl.backend.tensorflow.strategy.fed_avg_w.PYUFedAvgW'> with party party3.\n",
      "INFO:root:Create proxy actor <class 'secretflow.ml.nn.fl.backend.tensorflow.strategy.fed_avg_w.PYUFedAvgW'> with party party4.\n",
      "INFO:root:Create proxy actor <class 'secretflow.ml.nn.fl.backend.tensorflow.strategy.fed_avg_w.PYUFedAvgW'> with party party5.\n",
      "INFO:root:Create proxy actor <class 'secretflow.ml.nn.fl.backend.tensorflow.strategy.fed_avg_w.PYUFedAvgW'> with party party6.\n",
      "INFO:root:Create proxy actor <class 'secretflow.ml.nn.fl.backend.tensorflow.strategy.fed_avg_w.PYUFedAvgW'> with party party7.\n",
      "INFO:root:Create proxy actor <class 'secretflow.ml.nn.fl.backend.tensorflow.strategy.fed_avg_w.PYUFedAvgW'> with party party8.\n",
      "INFO:root:Create proxy actor <class 'secretflow.ml.nn.fl.backend.tensorflow.strategy.fed_avg_w.PYUFedAvgW'> with party party9.\n",
      "INFO:root:FL Train Params: {'x': FedNdarray(partitions={PYURuntime(party0): <secretflow.device.device.pyu.PYUObject object at 0x7fb7009a1790>, PYURuntime(party1): <secretflow.device.device.pyu.PYUObject object at 0x7fb70096bc70>, PYURuntime(party2): <secretflow.device.device.pyu.PYUObject object at 0x7fb70096bb50>, PYURuntime(party3): <secretflow.device.device.pyu.PYUObject object at 0x7fb70096bd30>, PYURuntime(party4): <secretflow.device.device.pyu.PYUObject object at 0x7fb7008e9250>, PYURuntime(party5): <secretflow.device.device.pyu.PYUObject object at 0x7fb7008e9160>, PYURuntime(party6): <secretflow.device.device.pyu.PYUObject object at 0x7fb7008e9220>, PYURuntime(party7): <secretflow.device.device.pyu.PYUObject object at 0x7fb7008e91f0>, PYURuntime(party8): <secretflow.device.device.pyu.PYUObject object at 0x7fb7008e93a0>, PYURuntime(party9): <secretflow.device.device.pyu.PYUObject object at 0x7fb7008e9550>}, partition_way=<PartitionWay.HORIZONTAL: 'horizontal'>), 'y': FedNdarray(partitions={PYURuntime(party0): <secretflow.device.device.pyu.PYUObject object at 0x7fb7008e98b0>, PYURuntime(party1): <secretflow.device.device.pyu.PYUObject object at 0x7fb7008e9c10>, PYURuntime(party2): <secretflow.device.device.pyu.PYUObject object at 0x7fb7008e9d90>, PYURuntime(party3): <secretflow.device.device.pyu.PYUObject object at 0x7fb7008f6280>, PYURuntime(party4): <secretflow.device.device.pyu.PYUObject object at 0x7fb7008f60a0>, PYURuntime(party5): <secretflow.device.device.pyu.PYUObject object at 0x7fb7008f6250>, PYURuntime(party6): <secretflow.device.device.pyu.PYUObject object at 0x7fb7008e9e80>, PYURuntime(party7): <secretflow.device.device.pyu.PYUObject object at 0x7fb7008e9be0>, PYURuntime(party8): <secretflow.device.device.pyu.PYUObject object at 0x7fb7008e9c40>, PYURuntime(party9): <secretflow.device.device.pyu.PYUObject object at 0x7fb7008e9ee0>}, partition_way=<PartitionWay.HORIZONTAL: 'horizontal'>), 'batch_size': 128, 'batch_sampling_rate': None, 'epochs': 3, 'verbose': 1, 'callbacks': None, 'validation_data': (FedNdarray(partitions={PYURuntime(party0): <secretflow.device.device.pyu.PYUObject object at 0x7fb7008e9310>, PYURuntime(party1): <secretflow.device.device.pyu.PYUObject object at 0x7fb7009a1700>, PYURuntime(party2): <secretflow.device.device.pyu.PYUObject object at 0x7fb7008e9670>, PYURuntime(party3): <secretflow.device.device.pyu.PYUObject object at 0x7fb70096bf10>, PYURuntime(party4): <secretflow.device.device.pyu.PYUObject object at 0x7fb7008f6970>, PYURuntime(party5): <secretflow.device.device.pyu.PYUObject object at 0x7fb7008f68b0>, PYURuntime(party6): <secretflow.device.device.pyu.PYUObject object at 0x7fb7008f69d0>, PYURuntime(party7): <secretflow.device.device.pyu.PYUObject object at 0x7fb7008f6940>, PYURuntime(party8): <secretflow.device.device.pyu.PYUObject object at 0x7fb7008f6610>, PYURuntime(party9): <secretflow.device.device.pyu.PYUObject object at 0x7fb7008f6310>}, partition_way=<PartitionWay.HORIZONTAL: 'horizontal'>), FedNdarray(partitions={PYURuntime(party0): <secretflow.device.device.pyu.PYUObject object at 0x7fb7008f6be0>, PYURuntime(party1): <secretflow.device.device.pyu.PYUObject object at 0x7fb7008fd100>, PYURuntime(party2): <secretflow.device.device.pyu.PYUObject object at 0x7fb7008fd190>, PYURuntime(party3): <secretflow.device.device.pyu.PYUObject object at 0x7fb7008fd0d0>, PYURuntime(party4): <secretflow.device.device.pyu.PYUObject object at 0x7fb7008fd220>, PYURuntime(party5): <secretflow.device.device.pyu.PYUObject object at 0x7fb7008fd340>, PYURuntime(party6): <secretflow.device.device.pyu.PYUObject object at 0x7fb7008fd4f0>, PYURuntime(party7): <secretflow.device.device.pyu.PYUObject object at 0x7fb7008fd6a0>, PYURuntime(party8): <secretflow.device.device.pyu.PYUObject object at 0x7fb7008fd850>, PYURuntime(party9): <secretflow.device.device.pyu.PYUObject object at 0x7fb7008fda00>}, partition_way=<PartitionWay.HORIZONTAL: 'horizontal'>)), 'shuffle': False, 'class_weight': None, 'sample_weight': None, 'validation_freq': 1, 'aggregate_freq': 1, 'label_decoder': None, 'max_batch_size': 20000, 'prefetch_buffer_size': None, 'sampler_method': 'batch', 'random_seed': 59793, 'dp_spent_step_freq': None, 'audit_log_dir': None, 'dataset_builder': None, 'wait_steps': 100, 'self': <secretflow.ml.nn.fl.fl_model.FLModel object at 0x7fb66f996fa0>}\n",
      "Train Processing: :   0%|          | 0/47 [00:00<?, ?it/s]"
     ]
    },
    {
     "name": "stdout",
     "output_type": "stream",
     "text": [
      "Epoch 1/3\n"
     ]
    },
    {
     "name": "stdout",
     "output_type": "stream",
     "text": [
      "\u001b[2m\u001b[36m(SPURuntime(device_id=None, party=party2) pid=61521)\u001b[0m 2024-02-22 11:51:22.750 [info] [thread_pool.cc:ThreadPool:30] Create a fixed thread pool with size 63\n",
      "\u001b[2m\u001b[36m(SPURuntime(device_id=None, party=party0) pid=61384)\u001b[0m 2024-02-22 11:51:22.755 [info] [thread_pool.cc:ThreadPool:30] Create a fixed thread pool with size 63\n",
      "\u001b[2m\u001b[36m(SPURuntime(device_id=None, party=party3) pid=61522)\u001b[0m 2024-02-22 11:51:22.749 [info] [thread_pool.cc:ThreadPool:30] Create a fixed thread pool with size 63\n",
      "\u001b[2m\u001b[36m(SPURuntime(device_id=None, party=party8) pid=62199)\u001b[0m 2024-02-22 11:51:22.749 [info] [thread_pool.cc:ThreadPool:30] Create a fixed thread pool with size 63\n",
      "\u001b[2m\u001b[36m(SPURuntime(device_id=None, party=party4) pid=61547)\u001b[0m 2024-02-22 11:51:22.749 [info] [thread_pool.cc:ThreadPool:30] Create a fixed thread pool with size 63\n",
      "\u001b[2m\u001b[36m(SPURuntime(device_id=None, party=party6) pid=62196)\u001b[0m 2024-02-22 11:51:22.749 [info] [thread_pool.cc:ThreadPool:30] Create a fixed thread pool with size 63\n",
      "\u001b[2m\u001b[36m(SPURuntime(device_id=None, party=party1) pid=61506)\u001b[0m 2024-02-22 11:51:22.749 [info] [thread_pool.cc:ThreadPool:30] Create a fixed thread pool with size 63\n",
      "\u001b[2m\u001b[36m(SPURuntime(device_id=None, party=party9) pid=62518)\u001b[0m 2024-02-22 11:51:22.749 [info] [thread_pool.cc:ThreadPool:30] Create a fixed thread pool with size 63\n",
      "\u001b[2m\u001b[36m(SPURuntime(device_id=None, party=party7) pid=62197)\u001b[0m 2024-02-22 11:51:22.749 [info] [thread_pool.cc:ThreadPool:30] Create a fixed thread pool with size 63\n",
      "\u001b[2m\u001b[36m(SPURuntime(device_id=None, party=party5) pid=61829)\u001b[0m 2024-02-22 11:51:22.750 [info] [thread_pool.cc:ThreadPool:30] Create a fixed thread pool with size 63\n"
     ]
    },
    {
     "name": "stderr",
     "output_type": "stream",
     "text": [
      "Train Processing: :  98%|█████████▊| 46/47 [08:17<00:10, 10.81s/it, {'loss': 1.3981493, 'accuracy': 0.6373, 'val_loss': 0.48657218, 'val_accuracy': 0.8544}]\n",
      "Train Processing: :   0%|          | 0/47 [00:00<?, ?it/s]"
     ]
    },
    {
     "name": "stdout",
     "output_type": "stream",
     "text": [
      "Epoch 2/3\n"
     ]
    },
    {
     "name": "stderr",
     "output_type": "stream",
     "text": [
      "Train Processing: :  98%|█████████▊| 46/47 [08:18<00:10, 10.83s/it, {'loss': 0.4401538, 'accuracy': 0.8695, 'val_loss': 0.30572638, 'val_accuracy': 0.9113}]\n",
      "Train Processing: :   0%|          | 0/47 [00:00<?, ?it/s]"
     ]
    },
    {
     "name": "stdout",
     "output_type": "stream",
     "text": [
      "Epoch 3/3\n"
     ]
    },
    {
     "name": "stderr",
     "output_type": "stream",
     "text": [
      "Train Processing: :  98%|█████████▊| 46/47 [08:19<00:10, 10.86s/it, {'loss': 0.3076249, 'accuracy': 0.90994287, 'val_loss': 0.22905947, 'val_accuracy': 0.9331}]\n"
     ]
    }
   ],
   "source": [
    "from secretflow.security.aggregation import SPUAggregator\n",
    "import spu\n",
    "\n",
    "DEFAULT_SEMI2K_RUNTIME_CONFIG = {\n",
    "    'protocol': spu.spu_pb2.SEMI2K,\n",
    "    'field': spu.spu_pb2.FM128,\n",
    "}\n",
    "\n",
    "cdef = sf.utils.testing.cluster_def([f\"party{i}\" for i in range(10)], DEFAULT_SEMI2K_RUNTIME_CONFIG)\n",
    "spu_device = sf.SPU(cdef)\n",
    "\n",
    "ss_aggregator = SPUAggregator(spu_device)\n",
    "\n",
    "fed_ss_model = FLModel(server=agg_server,\n",
    "                    device_list=[devices[i] for i in range(10)],\n",
    "                    model=model,\n",
    "                    aggregator=ss_aggregator,\n",
    "                    strategy=\"fed_avg_w\",\n",
    "                    backend = \"tensorflow\")\n",
    "\n",
    "start_time = time.time()\n",
    "history_ss = fed_ss_model.fit(x_train,\n",
    "                    y_train,\n",
    "                    validation_data=(x_test, y_test),\n",
    "                    epochs=3,\n",
    "                    sampler_method=\"batch\",\n",
    "                    batch_size=128,\n",
    "                    aggregate_freq=1)\n",
    "ss_time = time.time() - start_time\n",
    "# print(\"cost time : \", time.time()-start_time)"
   ]
  },
  {
   "cell_type": "code",
   "execution_count": 7,
   "metadata": {},
   "outputs": [],
   "source": [
    "rows = ['plain', 'dp', 'ss', 'he']\n",
    "cols = [plain_time, dp_time, ss_time, phe_time]\n"
   ]
  },
  {
   "cell_type": "code",
   "execution_count": 8,
   "metadata": {},
   "outputs": [
    {
     "data": {
      "text/plain": [
       "[30.902023553848267, 34.65807223320007, 1504.8450841903687, 1983.3110427856445]"
      ]
     },
     "execution_count": 8,
     "metadata": {},
     "output_type": "execute_result"
    }
   ],
   "source": [
    "cols\n",
    "# 绘制柱状图\n"
   ]
  }
 ],
 "metadata": {
  "kernelspec": {
   "display_name": "sf",
   "language": "python",
   "name": "python3"
  },
  "language_info": {
   "codemirror_mode": {
    "name": "ipython",
    "version": 3
   },
   "file_extension": ".py",
   "mimetype": "text/x-python",
   "name": "python",
   "nbconvert_exporter": "python",
   "pygments_lexer": "ipython3",
   "version": "3.8.18"
  }
 },
 "nbformat": 4,
 "nbformat_minor": 2
}
