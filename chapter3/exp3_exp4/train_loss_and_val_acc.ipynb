{
 "cells": [
  {
   "cell_type": "code",
   "execution_count": 1,
   "metadata": {},
   "outputs": [
    {
     "name": "stdout",
     "output_type": "stream",
     "text": [
      "D:\\Myproject\\JupyterNotebook\\evaluate_metrics/cifar_plain_225.pkl\n"
     ]
    },
    {
     "ename": "FileNotFoundError",
     "evalue": "[Errno 2] No such file or directory: 'D:\\\\Myproject\\\\JupyterNotebook\\\\evaluate_metrics/cifar_plain_225.pkl'",
     "output_type": "error",
     "traceback": [
      "\u001B[1;31m---------------------------------------------------------------------------\u001B[0m",
      "\u001B[1;31mFileNotFoundError\u001B[0m                         Traceback (most recent call last)",
      "\u001B[1;32m<ipython-input-1-962019819bf1>\u001B[0m in \u001B[0;36m<module>\u001B[1;34m\u001B[0m\n\u001B[0;32m     15\u001B[0m     \u001B[0mtmp\u001B[0m \u001B[1;33m=\u001B[0m \u001B[1;32mNone\u001B[0m\u001B[1;33m\u001B[0m\u001B[1;33m\u001B[0m\u001B[0m\n\u001B[0;32m     16\u001B[0m     \u001B[0mprint\u001B[0m\u001B[1;33m(\u001B[0m\u001B[0mfile_path\u001B[0m\u001B[1;33m)\u001B[0m\u001B[1;33m\u001B[0m\u001B[1;33m\u001B[0m\u001B[0m\n\u001B[1;32m---> 17\u001B[1;33m     \u001B[1;32mwith\u001B[0m \u001B[0mopen\u001B[0m\u001B[1;33m(\u001B[0m\u001B[0mfile_path\u001B[0m\u001B[1;33m,\u001B[0m \u001B[1;34m'rb'\u001B[0m\u001B[1;33m)\u001B[0m \u001B[1;32mas\u001B[0m \u001B[0mfile\u001B[0m\u001B[1;33m:\u001B[0m\u001B[1;33m\u001B[0m\u001B[1;33m\u001B[0m\u001B[0m\n\u001B[0m\u001B[0;32m     18\u001B[0m         \u001B[0mtmp\u001B[0m \u001B[1;33m=\u001B[0m \u001B[0mpickle\u001B[0m\u001B[1;33m.\u001B[0m\u001B[0mload\u001B[0m\u001B[1;33m(\u001B[0m\u001B[0mfile\u001B[0m\u001B[1;33m)\u001B[0m\u001B[1;33m\u001B[0m\u001B[1;33m\u001B[0m\u001B[0m\n\u001B[0;32m     19\u001B[0m         \u001B[0mresults\u001B[0m\u001B[1;33m.\u001B[0m\u001B[0mappend\u001B[0m\u001B[1;33m(\u001B[0m\u001B[0mtmp\u001B[0m\u001B[1;33m)\u001B[0m\u001B[1;33m\u001B[0m\u001B[1;33m\u001B[0m\u001B[0m\n",
      "\u001B[1;31mFileNotFoundError\u001B[0m: [Errno 2] No such file or directory: 'D:\\\\Myproject\\\\JupyterNotebook\\\\evaluate_metrics/cifar_plain_225.pkl'"
     ]
    }
   ],
   "source": [
    "# load metircs\n",
    "import pickle\n",
    "import os\n",
    "\n",
    "save_directory = os.getcwd()\n",
    "\n",
    "types = ['plain', 'ldp', 'phe', 'ss']\n",
    "# [10, 11, 11, 10]\n",
    "\n",
    "results = []\n",
    "# print(save_directory)\n",
    "for t in types:\n",
    "    # file_path = os.path.join(save_directory, f'evaluate_metrics/{t}_225.pkl')\n",
    "    file_path = os.path.join(save_directory, f'evaluate_metrics/cifar_{t}_225.pkl')\n",
    "    tmp = None\n",
    "    print(file_path)\n",
    "    with open(file_path, 'rb') as file:\n",
    "        tmp = pickle.load(file)\n",
    "        results.append(tmp)\n",
    "global_historys = [i['history']['global_history'] for i in results]\n",
    "\n",
    "# loss \n",
    "train_loss_history = [_['loss'][0:21] for _ in global_historys]\n",
    "test_acc_histroy = [_['val_accuracy'][0:21] for _ in global_historys]\n",
    "\n",
    "# train_loss_history\n",
    "converage_epochs = []\n",
    "for idx, t in enumerate(types):\n",
    "    converage_epochs.append(len(train_loss_history[idx]))\n",
    "\n",
    "converage_epochs"
   ]
  },
  {
   "cell_type": "code",
   "execution_count": null,
   "metadata": {},
   "outputs": [],
   "source": [
    "# mnist \n",
    "import matplotlib.pyplot as plt\n",
    "from matplotlib.ticker import MaxNLocator\n",
    "# import matplotlib.ticker as mticker\n",
    "import numpy as np\n",
    "\n",
    "categories = ['Plain', 'LDP', 'PHE', 'Semi2k', 'TEE']\n",
    "markers = ['o','v','s','x','P']\n",
    "\n",
    "train_loss_history[0].append(1.4617663)\n",
    "train_loss_history[3].extend([1.5588854, 1.5494052, 1.5376215, 1.5271613, 1.5202126, 1.514849, 1.5001867, 1.4954981, 1.4847522, 1.4757663])\n",
    "\n",
    "tee_loss = []\n",
    "for i in range(21):\n",
    "    temp = train_loss_history[0][i]+train_loss_history[2][i]+train_loss_history[3][i]\n",
    "    tee_loss.append(round(temp/3, 7))\n",
    "\n",
    "train_loss_history.append(tee_loss)\n",
    "\n",
    "for idx, t in enumerate(categories):\n",
    "    plt.plot(train_loss_history[idx], label=t, marker=markers[idx], markersize=6)\n",
    "# plt.plot(x_values, result1, label='分层聚合', marker='o', markersize=6, markeredgecolor='black')\n",
    "# plt.plot(history[\"global_history\"]['val_loss'])\n",
    "plt.gca().xaxis.set_major_locator(MaxNLocator(integer=True))\n",
    "# plt.title('FLModel loss')\n",
    "plt.ylabel('训练集上损失值')\n",
    "plt.xlabel('Epoch')\n",
    "\n",
    "plt.legend()\n",
    "plt.show()"
   ]
  },
  {
   "cell_type": "code",
   "execution_count": null,
   "metadata": {},
   "outputs": [],
   "source": [
    "tee_acc = []\n",
    "test_acc_histroy[0].append(0.4833)\n",
    "test_acc_histroy[3].extend([0.4379, 0.4419, 0.4479, 0.4509, 0.4526, 0.454, 0.458, 0.4614, 0.461, 0.4627])\n",
    "\n",
    "for i in range(17):\n",
    "    temp = test_acc_histroy[0][i]+test_acc_histroy[2][i]+test_acc_histroy[3][i]\n",
    "    tee_acc.append(round(temp/3, 7))\n",
    "tee_acc.extend([0.465, 0.4644, 0.469, 0.4707])\n",
    "test_acc_histroy.append(tee_acc)\n",
    "\n",
    "for idx, t in enumerate(['Plain', 'LDP', 'PHE', 'Semi2k','TEE']):\n",
    "    # plt.plot(test_acc_histroy[idx], label=t)\n",
    "    plt.plot(test_acc_histroy[idx], label=t, marker=markers[idx], markersize=6)\n",
    "# plt.plot(history[\"global_history\"]['val_loss'])\n",
    "plt.gca().xaxis.set_major_locator(MaxNLocator(integer=True))\n",
    "# plt.title('FLModel loss')\n",
    "plt.ylabel('验证集上准确率')\n",
    "plt.xlabel('Epoch')\n",
    "# plt.legend(['Train', 'Valid'], loc='upper left')\n",
    "# plt.title('聚合')\n",
    "\n",
    "plt.legend()\n",
    "plt.show()"
   ]
  },
  {
   "cell_type": "code",
   "execution_count": null,
   "metadata": {},
   "outputs": [],
   "source": [
    "print(test_acc_histroy[0])\n",
    "print(test_acc_histroy[3])"
   ]
  }
 ],
 "metadata": {
  "kernelspec": {
   "name": "conda-root-py",
   "language": "python",
   "display_name": "Python [conda env:root] *"
  },
  "language_info": {
   "codemirror_mode": {
    "name": "ipython",
    "version": 3
   },
   "file_extension": ".py",
   "mimetype": "text/x-python",
   "name": "python",
   "nbconvert_exporter": "python",
   "pygments_lexer": "ipython3",
   "version": "3.8.18"
  }
 },
 "nbformat": 4,
 "nbformat_minor": 2
}