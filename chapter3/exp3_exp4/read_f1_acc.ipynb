{
 "cells": [
  {
   "cell_type": "code",
   "execution_count": 3,
   "metadata": {},
   "outputs": [
    {
     "name": "stdout",
     "output_type": "stream",
     "text": [
      "/home/yejj/GradExperiments/chapter3/exp3_exp4/evaluate_metrics/plain_225.pkl\n",
      "/home/yejj/GradExperiments/chapter3/exp3_exp4/evaluate_metrics/ldp_225.pkl\n",
      "/home/yejj/GradExperiments/chapter3/exp3_exp4/evaluate_metrics/phe_225.pkl\n",
      "/home/yejj/GradExperiments/chapter3/exp3_exp4/evaluate_metrics/ss_225.pkl\n",
      "[0.9766300449301927, 0.962143985740769, 0.9765780973707823, 0.9728544223587854]\n",
      "[0.9767, 0.9624, 0.9766, 0.9729]\n"
     ]
    }
   ],
   "source": [
    "import pickle\n",
    "import os\n",
    "\n",
    "save_directory = os.getcwd()\n",
    "\n",
    "types = ['plain', 'ldp', 'phe', 'ss']\n",
    "results = []\n",
    "# print(save_directory)\n",
    "for t in types:\n",
    "    # file_path = os.path.join(save_directory, f'evaluate_metrics/{t}_225.pkl')\n",
    "    file_path = os.path.join(save_directory, f'evaluate_metrics/{t}_225.pkl')\n",
    "    tmp = None\n",
    "    print(file_path)\n",
    "    with open(file_path, 'rb') as file:\n",
    "        tmp = pickle.load(file)\n",
    "        results.append(tmp)\n",
    "\n",
    "f1 = [i['f1'] for i in results]\n",
    "\n",
    "acc = [i['acc'] for i in results]\n",
    "\n",
    "print(f1)\n",
    "print(acc)"
   ]
  }
 ],
 "metadata": {
  "kernelspec": {
   "display_name": "sf",
   "language": "python",
   "name": "python3"
  },
  "language_info": {
   "codemirror_mode": {
    "name": "ipython",
    "version": 3
   },
   "file_extension": ".py",
   "mimetype": "text/x-python",
   "name": "python",
   "nbconvert_exporter": "python",
   "pygments_lexer": "ipython3",
   "version": "3.8.18"
  }
 },
 "nbformat": 4,
 "nbformat_minor": 2
}
