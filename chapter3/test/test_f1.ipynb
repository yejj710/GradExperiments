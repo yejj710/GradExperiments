{
 "cells": [
  {
   "cell_type": "code",
   "execution_count": 1,
   "metadata": {},
   "outputs": [
    {
     "name": "stderr",
     "output_type": "stream",
     "text": [
      "2024-02-24 21:22:04.014492: W tensorflow/compiler/xla/stream_executor/platform/default/dso_loader.cc:64] Could not load dynamic library 'libcudart.so.11.0'; dlerror: libcudart.so.11.0: cannot open shared object file: No such file or directory\n",
      "2024-02-24 21:22:05.053557: W tensorflow/compiler/xla/stream_executor/platform/default/dso_loader.cc:64] Could not load dynamic library 'libnvinfer.so.7'; dlerror: libnvinfer.so.7: cannot open shared object file: No such file or directory\n",
      "2024-02-24 21:22:05.053789: W tensorflow/compiler/xla/stream_executor/platform/default/dso_loader.cc:64] Could not load dynamic library 'libnvinfer_plugin.so.7'; dlerror: libnvinfer_plugin.so.7: cannot open shared object file: No such file or directory\n",
      "2024-02-24 21:22:05.053803: W tensorflow/compiler/tf2tensorrt/utils/py_utils.cc:38] TF-TRT Warning: Cannot dlopen some TensorRT libraries. If you would like to use Nvidia GPU with TensorRT, please make sure the missing libraries mentioned above are installed properly.\n",
      "2024-02-24 21:22:10,196\tINFO worker.py:1538 -- Started a local Ray instance.\n",
      "/home/yejj/miniconda3/envs/sf/lib/python3.8/site-packages/sklearn/preprocessing/_encoders.py:975: FutureWarning: `sparse` was renamed to `sparse_output` in version 1.2 and will be removed in 1.4. `sparse_output` is ignored unless you leave `sparse` to its default value.\n",
      "  warnings.warn(\n",
      "/home/yejj/miniconda3/envs/sf/lib/python3.8/site-packages/sklearn/preprocessing/_encoders.py:975: FutureWarning: `sparse` was renamed to `sparse_output` in version 1.2 and will be removed in 1.4. `sparse_output` is ignored unless you leave `sparse` to its default value.\n",
      "  warnings.warn(\n"
     ]
    }
   ],
   "source": [
    "import sys\n",
    "import secretflow as sf\n",
    "sys.path.append(\"/home/yejj/GradExperiments/chapter3\")\n",
    "from utils.model import create_model\n",
    "\n",
    "from secretflow.ml.nn import FLModel\n",
    "from secretflow.security.aggregation import PlainAggregator\n",
    "\n",
    "sf.shutdown()\n",
    "# init nodes\n",
    "# sf.init(nodes, address=\"local\")\n",
    "sf.init(['alice', 'bob','server'], address=\"local\")\n",
    "# init PYU device\n",
    "alice, bob, agg_server = sf.PYU(\"alice\"), sf.PYU(\"bob\"), sf.PYU(\"server\")\n",
    "\n",
    "\n",
    "from secretflow.utils.simulation.datasets import load_mnist\n",
    "\n",
    "(x_train, y_train), (x_test, y_test) = load_mnist(parts=[alice, bob], normalized_x=True, categorical_y=True)\n",
    "# print(y_test.partition_shape())"
   ]
  },
  {
   "cell_type": "code",
   "execution_count": 2,
   "metadata": {},
   "outputs": [
    {
     "name": "stderr",
     "output_type": "stream",
     "text": [
      "2024-02-24 21:22:13.725382: W tensorflow/compiler/xla/stream_executor/platform/default/dso_loader.cc:64] Could not load dynamic library 'libcuda.so.1'; dlerror: libcuda.so.1: cannot open shared object file: No such file or directory\n",
      "2024-02-24 21:22:13.725443: W tensorflow/compiler/xla/stream_executor/cuda/cuda_driver.cc:265] failed call to cuInit: UNKNOWN ERROR (303)\n",
      "INFO:root:Create proxy actor <class 'secretflow.ml.nn.fl.backend.tensorflow.strategy.fed_avg_w.PYUFedAvgW'> with party alice.\n",
      "INFO:root:Create proxy actor <class 'secretflow.ml.nn.fl.backend.tensorflow.strategy.fed_avg_w.PYUFedAvgW'> with party bob.\n",
      "INFO:root:FL Train Params: {'x': FedNdarray(partitions={PYURuntime(alice): <secretflow.device.device.pyu.PYUObject object at 0x7f6ec073f250>, PYURuntime(bob): <secretflow.device.device.pyu.PYUObject object at 0x7f6ec0707880>}, partition_way=<PartitionWay.HORIZONTAL: 'horizontal'>), 'y': FedNdarray(partitions={PYURuntime(alice): <secretflow.device.device.pyu.PYUObject object at 0x7f6ec07078b0>, PYURuntime(bob): <secretflow.device.device.pyu.PYUObject object at 0x7f6ec0707b50>}, partition_way=<PartitionWay.HORIZONTAL: 'horizontal'>), 'batch_size': 128, 'batch_sampling_rate': None, 'epochs': 1, 'verbose': 1, 'callbacks': <secretflow.ml.nn.callbacks.early_stopping.EarlyStoppingEpoch object at 0x7f6ec071f160>, 'validation_data': (FedNdarray(partitions={PYURuntime(alice): <secretflow.device.device.pyu.PYUObject object at 0x7f6ec0707ca0>, PYURuntime(bob): <secretflow.device.device.pyu.PYUObject object at 0x7f6ec071f130>}, partition_way=<PartitionWay.HORIZONTAL: 'horizontal'>), FedNdarray(partitions={PYURuntime(alice): <secretflow.device.device.pyu.PYUObject object at 0x7f6ec071f1c0>, PYURuntime(bob): <secretflow.device.device.pyu.PYUObject object at 0x7f6ec071f2b0>}, partition_way=<PartitionWay.HORIZONTAL: 'horizontal'>)), 'shuffle': False, 'class_weight': None, 'sample_weight': None, 'validation_freq': 1, 'aggregate_freq': 1, 'label_decoder': None, 'max_batch_size': 20000, 'prefetch_buffer_size': None, 'sampler_method': 'batch', 'random_seed': 75450, 'dp_spent_step_freq': None, 'audit_log_dir': None, 'dataset_builder': None, 'wait_steps': 100, 'self': <secretflow.ml.nn.fl.fl_model.FLModel object at 0x7f6ec071f310>}\n",
      "100%|█████████▉| 234/235 [00:22<00:00, 10.36it/s, {'loss': 0.483213, 'accuracy': 0.87053335, 'val_loss': 0.1297757, 'val_accuracy': 0.962}]\n"
     ]
    },
    {
     "name": "stderr",
     "output_type": "stream",
     "text": [
      "\u001b[2m\u001b[36m(pid=50844)\u001b[0m 2024-02-24 21:22:16.020673: W tensorflow/compiler/xla/stream_executor/platform/default/dso_loader.cc:64] Could not load dynamic library 'libcudart.so.11.0'; dlerror: libcudart.so.11.0: cannot open shared object file: No such file or directory\n",
      "\u001b[2m\u001b[36m(pid=50885)\u001b[0m 2024-02-24 21:22:16.216807: W tensorflow/compiler/xla/stream_executor/platform/default/dso_loader.cc:64] Could not load dynamic library 'libcudart.so.11.0'; dlerror: libcudart.so.11.0: cannot open shared object file: No such file or directory\n",
      "\u001b[2m\u001b[36m(pid=50844)\u001b[0m 2024-02-24 21:22:17.142925: W tensorflow/compiler/xla/stream_executor/platform/default/dso_loader.cc:64] Could not load dynamic library 'libnvinfer.so.7'; dlerror: libnvinfer.so.7: cannot open shared object file: No such file or directory\n",
      "\u001b[2m\u001b[36m(pid=50844)\u001b[0m 2024-02-24 21:22:17.143092: W tensorflow/compiler/xla/stream_executor/platform/default/dso_loader.cc:64] Could not load dynamic library 'libnvinfer_plugin.so.7'; dlerror: libnvinfer_plugin.so.7: cannot open shared object file: No such file or directory\n",
      "\u001b[2m\u001b[36m(pid=50844)\u001b[0m 2024-02-24 21:22:17.143110: W tensorflow/compiler/tf2tensorrt/utils/py_utils.cc:38] TF-TRT Warning: Cannot dlopen some TensorRT libraries. If you would like to use Nvidia GPU with TensorRT, please make sure the missing libraries mentioned above are installed properly.\n",
      "\u001b[2m\u001b[36m(pid=50885)\u001b[0m 2024-02-24 21:22:17.317214: W tensorflow/compiler/xla/stream_executor/platform/default/dso_loader.cc:64] Could not load dynamic library 'libnvinfer.so.7'; dlerror: libnvinfer.so.7: cannot open shared object file: No such file or directory\n",
      "\u001b[2m\u001b[36m(pid=50885)\u001b[0m 2024-02-24 21:22:17.317329: W tensorflow/compiler/xla/stream_executor/platform/default/dso_loader.cc:64] Could not load dynamic library 'libnvinfer_plugin.so.7'; dlerror: libnvinfer_plugin.so.7: cannot open shared object file: No such file or directory\n",
      "\u001b[2m\u001b[36m(pid=50885)\u001b[0m 2024-02-24 21:22:17.317338: W tensorflow/compiler/tf2tensorrt/utils/py_utils.cc:38] TF-TRT Warning: Cannot dlopen some TensorRT libraries. If you would like to use Nvidia GPU with TensorRT, please make sure the missing libraries mentioned above are installed properly.\n",
      "\u001b[2m\u001b[36m(pid=50844)\u001b[0m 2024-02-24 21:22:20.491943: W tensorflow/compiler/xla/stream_executor/platform/default/dso_loader.cc:64] Could not load dynamic library 'libcuda.so.1'; dlerror: libcuda.so.1: cannot open shared object file: No such file or directory\n",
      "\u001b[2m\u001b[36m(pid=50844)\u001b[0m 2024-02-24 21:22:20.492016: W tensorflow/compiler/xla/stream_executor/cuda/cuda_driver.cc:265] failed call to cuInit: UNKNOWN ERROR (303)\n",
      "\u001b[2m\u001b[36m(pid=50885)\u001b[0m 2024-02-24 21:22:20.708169: W tensorflow/compiler/xla/stream_executor/platform/default/dso_loader.cc:64] Could not load dynamic library 'libcuda.so.1'; dlerror: libcuda.so.1: cannot open shared object file: No such file or directory\n",
      "\u001b[2m\u001b[36m(pid=50885)\u001b[0m 2024-02-24 21:22:20.708221: W tensorflow/compiler/xla/stream_executor/cuda/cuda_driver.cc:265] failed call to cuInit: UNKNOWN ERROR (303)\n"
     ]
    },
    {
     "name": "stdout",
     "output_type": "stream",
     "text": [
      "{'global_history': {'loss': [0.483213], 'accuracy': [0.87053335], 'val_loss': [0.1297757], 'val_accuracy': [0.962]}, 'local_history': {'alice_loss': [0.48317063], 'alice_accuracy': [0.87023336], 'alice_val_loss': [0.17485225], 'alice_val_accuracy': [0.9468], 'bob_loss': [0.48325545], 'bob_accuracy': [0.87083334], 'bob_val_loss': [0.08469918], 'bob_val_accuracy': [0.9772]}}\n"
     ]
    }
   ],
   "source": [
    "num_classes = 10\n",
    "input_shape = (28, 28, 1)\n",
    "model = create_model(input_shape, num_classes, \"lenet\")\n",
    "\n",
    "plain_aggregator = PlainAggregator(agg_server)\n",
    "\n",
    "fed_plain_model = FLModel(server=agg_server,\n",
    "                    device_list=[alice, bob],\n",
    "                    model=model,\n",
    "                    aggregator=plain_aggregator,\n",
    "                    strategy=\"fed_avg_w\",\n",
    "                    backend = \"tensorflow\")\n",
    "\n",
    "from secretflow.ml.nn.callbacks.early_stopping import EarlyStoppingEpoch\n",
    "\n",
    "earlystop_callback = EarlyStoppingEpoch(\n",
    "\t\tmonitor='val_loss', min_delta=0.01, mode='min',\n",
    "        patience=1)\n",
    "\n",
    "history = fed_plain_model.fit(x_train,\n",
    "                    y_train,\n",
    "                    validation_data=(x_test, y_test),\n",
    "                    epochs=1,\n",
    "                    sampler_method=\"batch\",\n",
    "                    batch_size=128,\n",
    "                    aggregate_freq=1,\n",
    "                    callbacks=earlystop_callback)\n",
    "# plain_time = time.time() - start_time\n",
    "# print(\"cost time : \", time.time()-start_time)\n",
    "print(history)"
   ]
  },
  {
   "cell_type": "code",
   "execution_count": 3,
   "metadata": {},
   "outputs": [],
   "source": [
    "# 统计收敛轮次 and 绘制loss下降图\n",
    "from secretflow.device import reveal\n",
    "import numpy as np\n",
    "\n",
    "pred_fed_y = fed_plain_model.predict(x_test, batch_size=128)"
   ]
  },
  {
   "cell_type": "code",
   "execution_count": 6,
   "metadata": {},
   "outputs": [
    {
     "name": "stdout",
     "output_type": "stream",
     "text": [
      "(10000,)\n",
      "(10000,)\n",
      "0.962\n"
     ]
    }
   ],
   "source": [
    "# 拼接y_test\n",
    "original_y = np.array([])\n",
    "pred_y = np.array([])\n",
    "\n",
    "for device in [alice, bob]:\n",
    "    temp = y_test.partitions[device]\n",
    "    original_y = np.concatenate((original_y, np.argmax(np.array(reveal(temp)), axis=1)))\n",
    "\n",
    "    temp1 = pred_fed_y[device]\n",
    "    pred_y = np.concatenate((pred_y, np.argmax(np.array(reveal(temp1)), axis=1)))\n",
    "\n",
    "# 拼接y_pred\n",
    "# for device, y in pred_fed_y.items():\n",
    "#     pred_fed_y[device] = np.argmax(np.array(reveal(y)), axis=1)\n",
    "\n",
    "from sklearn.metrics import f1_score, accuracy_score\n",
    "f1_micro = f1_score(original_y, pred_y, average='micro')\n",
    "print(f1_micro)"
   ]
  },
  {
   "cell_type": "code",
   "execution_count": 7,
   "metadata": {},
   "outputs": [
    {
     "name": "stdout",
     "output_type": "stream",
     "text": [
      "0.962\n"
     ]
    }
   ],
   "source": [
    "from sklearn.metrics import accuracy_score\n",
    "accuracy = accuracy_score(original_y, pred_y)\n",
    "print(accuracy)"
   ]
  }
 ],
 "metadata": {
  "kernelspec": {
   "display_name": "sf",
   "language": "python",
   "name": "python3"
  },
  "language_info": {
   "codemirror_mode": {
    "name": "ipython",
    "version": 3
   },
   "file_extension": ".py",
   "mimetype": "text/x-python",
   "name": "python",
   "nbconvert_exporter": "python",
   "pygments_lexer": "ipython3",
   "version": "3.8.18"
  }
 },
 "nbformat": 4,
 "nbformat_minor": 2
}
